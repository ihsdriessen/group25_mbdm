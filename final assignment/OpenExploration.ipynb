{
 "cells": [
  {
   "cell_type": "code",
   "metadata": {
    "ExecuteTime": {
     "end_time": "2025-06-04T11:32:05.020081Z",
     "start_time": "2025-06-04T11:32:04.842743Z"
    }
   },
   "source": [
    "import numpy as np\n",
    "import scipy as sp\n",
    "import pandas as pd\n",
    "import matplotlib.pyplot as plt\n",
    "import seaborn as sns\n",
    "import networkx as nx"
   ],
   "outputs": [],
   "execution_count": 1
  },
  {
   "cell_type": "code",
   "metadata": {
    "ExecuteTime": {
     "end_time": "2025-06-04T11:32:05.030294Z",
     "start_time": "2025-06-04T11:32:05.028531Z"
    }
   },
   "source": [
    "# make sure pandas is version 1.0 or higher\n",
    "# make sure networkx is version 2.4 or higher\n",
    "print(pd.__version__)\n",
    "print(nx.__version__)"
   ],
   "outputs": [
    {
     "name": "stdout",
     "output_type": "stream",
     "text": [
      "2.1.3\n",
      "3.4.2\n"
     ]
    }
   ],
   "execution_count": 2
  },
  {
   "cell_type": "code",
   "metadata": {
    "scrolled": true,
    "ExecuteTime": {
     "end_time": "2025-06-04T11:32:05.632291Z",
     "start_time": "2025-06-04T11:32:05.124440Z"
    }
   },
   "source": [
    "from ema_workbench import (\n",
    "    Model,\n",
    "    Policy,\n",
    "    ema_logging,\n",
    "    SequentialEvaluator,\n",
    "    MultiprocessingEvaluator,\n",
    ")\n",
    "from dike_model_function import DikeNetwork  # @UnresolvedImport\n",
    "from problem_formulation2 import get_model_for_problem_formulation, sum_over, sum_over_time"
   ],
   "outputs": [],
   "execution_count": 3
  },
  {
   "cell_type": "code",
   "metadata": {
    "ExecuteTime": {
     "end_time": "2025-06-04T11:32:05.801564Z",
     "start_time": "2025-06-04T11:32:05.638805Z"
    }
   },
   "source": [
    "ema_logging.log_to_stderr(ema_logging.INFO)\n",
    "\n",
    "# choose problem formulation number, between 0-4\n",
    "# each problem formulation has its own list of outcomes\n",
    "# 0: is our problem formulation (Veluwe); 1: different problem formulation with 2 kinds of costs together for Veluwe.\n",
    "# 2: problem formulation Zutphen, 3: problem formulation Doesburg & Cortenoever; 4: problem formulation Overijssel\n",
    "dike_model, planning_steps = get_model_for_problem_formulation(0)"
   ],
   "outputs": [],
   "execution_count": 4
  },
  {
   "cell_type": "code",
   "metadata": {
    "ExecuteTime": {
     "end_time": "2025-06-04T11:32:05.811172Z",
     "start_time": "2025-06-04T11:32:05.805297Z"
    }
   },
   "source": [
    "# enlisting uncertainties, their types (RealParameter/IntegerParameter/CategoricalParameter), lower boundary, and upper boundary\n",
    "import copy\n",
    "\n",
    "for unc in dike_model.uncertainties:\n",
    "    print(repr(unc))\n",
    "\n",
    "uncertainties = copy.deepcopy(dike_model.uncertainties)"
   ],
   "outputs": [
    {
     "name": "stdout",
     "output_type": "stream",
     "text": [
      "CategoricalParameter('discount rate 0', [0, 1, 2, 3])\n",
      "CategoricalParameter('discount rate 1', [0, 1, 2, 3])\n",
      "CategoricalParameter('discount rate 2', [0, 1, 2, 3])\n",
      "IntegerParameter('A.0_ID flood wave shape', 0, 132, resolution=None, default=None, variable_name=['A.0_ID flood wave shape'], pff=False)\n",
      "RealParameter('A.1_Bmax', 30, 350, resolution=None, default=None, variable_name=['A.1_Bmax'], pff=False)\n",
      "RealParameter('A.1_pfail', 0, 1, resolution=None, default=None, variable_name=['A.1_pfail'], pff=False)\n",
      "CategoricalParameter('A.1_Brate', [0, 1, 2])\n",
      "RealParameter('A.2_Bmax', 30, 350, resolution=None, default=None, variable_name=['A.2_Bmax'], pff=False)\n",
      "RealParameter('A.2_pfail', 0, 1, resolution=None, default=None, variable_name=['A.2_pfail'], pff=False)\n",
      "CategoricalParameter('A.2_Brate', [0, 1, 2])\n",
      "RealParameter('A.3_Bmax', 30, 350, resolution=None, default=None, variable_name=['A.3_Bmax'], pff=False)\n",
      "RealParameter('A.3_pfail', 0, 1, resolution=None, default=None, variable_name=['A.3_pfail'], pff=False)\n",
      "CategoricalParameter('A.3_Brate', [0, 1, 2])\n",
      "RealParameter('A.4_Bmax', 30, 350, resolution=None, default=None, variable_name=['A.4_Bmax'], pff=False)\n",
      "RealParameter('A.4_pfail', 0, 1, resolution=None, default=None, variable_name=['A.4_pfail'], pff=False)\n",
      "CategoricalParameter('A.4_Brate', [0, 1, 2])\n",
      "RealParameter('A.5_Bmax', 30, 350, resolution=None, default=None, variable_name=['A.5_Bmax'], pff=False)\n",
      "RealParameter('A.5_pfail', 0, 1, resolution=None, default=None, variable_name=['A.5_pfail'], pff=False)\n",
      "CategoricalParameter('A.5_Brate', [0, 1, 2])\n"
     ]
    }
   ],
   "execution_count": 5
  },
  {
   "cell_type": "code",
   "metadata": {
    "ExecuteTime": {
     "end_time": "2025-06-04T11:32:05.828725Z",
     "start_time": "2025-06-04T11:32:05.823682Z"
    }
   },
   "source": [
    "# enlisting policy levers, their types (RealParameter/IntegerParameter), lower boundary, and upper boundary\n",
    "for policy in dike_model.levers:\n",
    "    print(repr(policy))\n",
    "\n",
    "levers = copy.deepcopy(dike_model.levers)"
   ],
   "outputs": [
    {
     "name": "stdout",
     "output_type": "stream",
     "text": [
      "IntegerParameter('0_RfR 0', 0, 1, resolution=None, default=None, variable_name=['0_RfR 0'], pff=False)\n",
      "IntegerParameter('0_RfR 1', 0, 1, resolution=None, default=None, variable_name=['0_RfR 1'], pff=False)\n",
      "IntegerParameter('0_RfR 2', 0, 1, resolution=None, default=None, variable_name=['0_RfR 2'], pff=False)\n",
      "IntegerParameter('1_RfR 0', 0, 1, resolution=None, default=None, variable_name=['1_RfR 0'], pff=False)\n",
      "IntegerParameter('1_RfR 1', 0, 1, resolution=None, default=None, variable_name=['1_RfR 1'], pff=False)\n",
      "IntegerParameter('1_RfR 2', 0, 1, resolution=None, default=None, variable_name=['1_RfR 2'], pff=False)\n",
      "IntegerParameter('2_RfR 0', 0, 1, resolution=None, default=None, variable_name=['2_RfR 0'], pff=False)\n",
      "IntegerParameter('2_RfR 1', 0, 1, resolution=None, default=None, variable_name=['2_RfR 1'], pff=False)\n",
      "IntegerParameter('2_RfR 2', 0, 1, resolution=None, default=None, variable_name=['2_RfR 2'], pff=False)\n",
      "IntegerParameter('3_RfR 0', 0, 1, resolution=None, default=None, variable_name=['3_RfR 0'], pff=False)\n",
      "IntegerParameter('3_RfR 1', 0, 1, resolution=None, default=None, variable_name=['3_RfR 1'], pff=False)\n",
      "IntegerParameter('3_RfR 2', 0, 1, resolution=None, default=None, variable_name=['3_RfR 2'], pff=False)\n",
      "IntegerParameter('4_RfR 0', 0, 1, resolution=None, default=None, variable_name=['4_RfR 0'], pff=False)\n",
      "IntegerParameter('4_RfR 1', 0, 1, resolution=None, default=None, variable_name=['4_RfR 1'], pff=False)\n",
      "IntegerParameter('4_RfR 2', 0, 1, resolution=None, default=None, variable_name=['4_RfR 2'], pff=False)\n",
      "IntegerParameter('EWS_DaysToThreat', 0, 4, resolution=None, default=None, variable_name=['EWS_DaysToThreat'], pff=False)\n",
      "IntegerParameter('A.1_DikeIncrease 0', 0, 10, resolution=None, default=None, variable_name=['A.1_DikeIncrease 0'], pff=False)\n",
      "IntegerParameter('A.1_DikeIncrease 1', 0, 10, resolution=None, default=None, variable_name=['A.1_DikeIncrease 1'], pff=False)\n",
      "IntegerParameter('A.1_DikeIncrease 2', 0, 10, resolution=None, default=None, variable_name=['A.1_DikeIncrease 2'], pff=False)\n",
      "IntegerParameter('A.2_DikeIncrease 0', 0, 10, resolution=None, default=None, variable_name=['A.2_DikeIncrease 0'], pff=False)\n",
      "IntegerParameter('A.2_DikeIncrease 1', 0, 10, resolution=None, default=None, variable_name=['A.2_DikeIncrease 1'], pff=False)\n",
      "IntegerParameter('A.2_DikeIncrease 2', 0, 10, resolution=None, default=None, variable_name=['A.2_DikeIncrease 2'], pff=False)\n",
      "IntegerParameter('A.3_DikeIncrease 0', 0, 10, resolution=None, default=None, variable_name=['A.3_DikeIncrease 0'], pff=False)\n",
      "IntegerParameter('A.3_DikeIncrease 1', 0, 10, resolution=None, default=None, variable_name=['A.3_DikeIncrease 1'], pff=False)\n",
      "IntegerParameter('A.3_DikeIncrease 2', 0, 10, resolution=None, default=None, variable_name=['A.3_DikeIncrease 2'], pff=False)\n",
      "IntegerParameter('A.4_DikeIncrease 0', 0, 10, resolution=None, default=None, variable_name=['A.4_DikeIncrease 0'], pff=False)\n",
      "IntegerParameter('A.4_DikeIncrease 1', 0, 10, resolution=None, default=None, variable_name=['A.4_DikeIncrease 1'], pff=False)\n",
      "IntegerParameter('A.4_DikeIncrease 2', 0, 10, resolution=None, default=None, variable_name=['A.4_DikeIncrease 2'], pff=False)\n",
      "IntegerParameter('A.5_DikeIncrease 0', 0, 10, resolution=None, default=None, variable_name=['A.5_DikeIncrease 0'], pff=False)\n",
      "IntegerParameter('A.5_DikeIncrease 1', 0, 10, resolution=None, default=None, variable_name=['A.5_DikeIncrease 1'], pff=False)\n",
      "IntegerParameter('A.5_DikeIncrease 2', 0, 10, resolution=None, default=None, variable_name=['A.5_DikeIncrease 2'], pff=False)\n"
     ]
    }
   ],
   "execution_count": 6
  },
  {
   "cell_type": "code",
   "metadata": {
    "ExecuteTime": {
     "end_time": "2025-06-04T11:32:05.954206Z",
     "start_time": "2025-06-04T11:32:05.952257Z"
    }
   },
   "source": [
    "# enlisting outcomes\n",
    "for outcome in dike_model.outcomes:\n",
    "    print(repr(outcome))"
   ],
   "outputs": [
    {
     "name": "stdout",
     "output_type": "stream",
     "text": [
      "ScalarOutcome('Expected Annual Damage', variable_name=('A.1_Expected Annual Damage', 'A.2_Expected Annual Damage', 'A.3_Expected Annual Damage'), function=<function sum_over at 0x1461e3740>)\n",
      "ScalarOutcome('RfR Total Costs', variable_name=('RfR Total Costs',), function=<function sum_over at 0x1461e3740>)\n",
      "ScalarOutcome('Dike Investment Costs', variable_name=('A.1_Dike Investment Costs', 'A.2_Dike Investment Costs', 'A.3_Dike Investment Costs'), function=<function sum_over at 0x1461e3740>)\n"
     ]
    }
   ],
   "execution_count": 7
  },
  {
   "cell_type": "code",
   "metadata": {
    "ExecuteTime": {
     "end_time": "2025-06-04T14:31:31.428423Z",
     "start_time": "2025-06-04T11:32:06.024831Z"
    }
   },
   "source": [
    "# running the model through EMA workbench\n",
    "with (MultiprocessingEvaluator(dike_model) as evaluator):\n",
    "    results= evaluator.perform_experiments(scenarios=1000, policies=1)"
   ],
   "outputs": [
    {
     "name": "stderr",
     "output_type": "stream",
     "text": [
      "[MainProcess/INFO] pool started with 8 workers\n",
      "[MainProcess/INFO] performing 1000 scenarios * 275 policies * 1 model(s) = 275000 experiments\n",
      "100%|████████████████████████████████| 275000/275000 [2:59:14<00:00, 25.57it/s]\n",
      "[MainProcess/INFO] experiments finished\n",
      "[MainProcess/INFO] terminating pool\n"
     ]
    }
   ],
   "execution_count": 8
  },
  {
   "metadata": {
    "ExecuteTime": {
     "end_time": "2025-06-04T14:37:10.085571Z",
     "start_time": "2025-06-04T14:37:10.076336Z"
    }
   },
   "cell_type": "code",
   "source": "",
   "outputs": [
    {
     "ename": "SyntaxError",
     "evalue": "invalid syntax (3565794782.py, line 1)",
     "output_type": "error",
     "traceback": [
      "\u001B[0;36m  Cell \u001B[0;32mIn[34], line 1\u001B[0;36m\u001B[0m\n\u001B[0;31m    pip uninstall pandas -y\u001B[0m\n\u001B[0m        ^\u001B[0m\n\u001B[0;31mSyntaxError\u001B[0m\u001B[0;31m:\u001B[0m invalid syntax\n"
     ]
    }
   ],
   "execution_count": 34
  },
  {
   "cell_type": "code",
   "metadata": {
    "scrolled": true,
    "ExecuteTime": {
     "end_time": "2025-06-04T14:34:36.247416Z",
     "start_time": "2025-06-04T14:34:36.130751Z"
    }
   },
   "source": [
    "# observing the simulation runs\n",
    "experiments, outcomes = results\n",
    "print(outcomes.keys())\n",
    "experiments"
   ],
   "outputs": [
    {
     "name": "stdout",
     "output_type": "stream",
     "text": [
      "dict_keys(['Expected Annual Damage', 'RfR Total Costs', 'Dike Investment Costs'])\n",
      "Unexpected exception formatting exception. Falling back to standard exception\n",
      "Unexpected exception formatting exception. Falling back to standard exception\n"
     ]
    },
    {
     "name": "stderr",
     "output_type": "stream",
     "text": [
      "Traceback (most recent call last):\n",
      "  File \"/Users/evalievanoijen/Downloads/EPA133a-Lab/venv/lib/python3.11/site-packages/IPython/core/formatters.py\", line 282, in catch_format_error\n",
      "  File \"/Users/evalievanoijen/Downloads/EPA133a-Lab/venv/lib/python3.11/site-packages/IPython/core/formatters.py\", line 770, in __call__\n",
      "  File \"/Users/evalievanoijen/Downloads/EPA133a-Lab/venv/lib/python3.11/site-packages/IPython/lib/pretty.py\", line 419, in pretty\n",
      "  File \"/Users/evalievanoijen/Downloads/EPA133a-Lab/venv/lib/python3.11/site-packages/IPython/lib/pretty.py\", line 794, in _repr_pprint\n",
      "  File \"/Users/evalievanoijen/Downloads/EPA133a-Lab/venv/lib/python3.11/site-packages/pandas/core/frame.py\", line 1133, in __repr__\n",
      "  File \"/Users/evalievanoijen/Downloads/EPA133a-Lab/venv/lib/python3.11/site-packages/pandas/core/frame.py\", line 1292, in to_string\n",
      "  File \"/Users/evalievanoijen/Downloads/EPA133a-Lab/venv/lib/python3.11/site-packages/pandas/io/formats/format.py\", line 608, in __init__\n",
      "  File \"/Users/evalievanoijen/Downloads/EPA133a-Lab/venv/lib/python3.11/site-packages/pandas/io/formats/format.py\", line 797, in truncate\n",
      "  File \"/Users/evalievanoijen/Downloads/EPA133a-Lab/venv/lib/python3.11/site-packages/pandas/io/formats/format.py\", line 837, in _truncate_vertically\n",
      "  File \"/Users/evalievanoijen/Downloads/EPA133a-Lab/venv/lib/python3.11/site-packages/pandas/core/reshape/concat.py\", line 393, in concat\n",
      "  File \"/Users/evalievanoijen/Downloads/EPA133a-Lab/venv/lib/python3.11/site-packages/pandas/core/reshape/concat.py\", line 680, in get_result\n",
      "  File \"/Users/evalievanoijen/Downloads/EPA133a-Lab/venv/lib/python3.11/site-packages/pandas/core/internals/concat.py\", line 180, in concatenate_managers\n",
      "  File \"/Users/evalievanoijen/Downloads/EPA133a-Lab/venv/lib/python3.11/site-packages/pandas/core/dtypes/concat.py\", line 83, in concat_compat\n",
      "  File \"/Users/evalievanoijen/Downloads/EPA133a-Lab/venv/lib/python3.11/site-packages/pandas/core/arrays/categorical.py\", line 2493, in _concat_same_type\n",
      "  File \"/Users/evalievanoijen/Downloads/EPA133a-Lab/venv/lib/python3.11/site-packages/pandas/core/dtypes/concat.py\", line 299, in union_categoricals\n",
      "  File \"/Users/evalievanoijen/Downloads/EPA133a-Lab/venv/lib/python3.11/site-packages/pandas/core/dtypes/concat.py\", line 299, in <genexpr>\n",
      "  File \"/Users/evalievanoijen/Downloads/EPA133a-Lab/venv/lib/python3.11/site-packages/pandas/core/arrays/categorical.py\", line 2528, in _categories_match_up_to_permutation\n",
      "  File \"/Users/evalievanoijen/Downloads/EPA133a-Lab/venv/lib/python3.11/site-packages/pandas/core/dtypes/dtypes.py\", line 389, in __hash__\n",
      "  File \"properties.pyx\", line 36, in pandas._libs.properties.CachedProperty.__get__\n",
      "  File \"/Users/evalievanoijen/Downloads/EPA133a-Lab/venv/lib/python3.11/site-packages/pandas/core/dtypes/dtypes.py\", line 471, in _hash_categories\n",
      "ModuleNotFoundError: No module named 'pandas.core.util.hashing'\n",
      "\n",
      "During handling of the above exception, another exception occurred:\n",
      "\n",
      "Traceback (most recent call last):\n",
      "  File \"/Users/evalievanoijen/Downloads/EPA133a-Lab/venv/lib/python3.11/site-packages/pygments/styles/__init__.py\", line 45, in get_style_by_name\n",
      "ModuleNotFoundError: No module named 'pygments.styles.default'\n",
      "\n",
      "During handling of the above exception, another exception occurred:\n",
      "\n",
      "Traceback (most recent call last):\n",
      "  File \"/Users/evalievanoijen/Downloads/EPA133a-Lab/venv/lib/python3.11/site-packages/IPython/core/interactiveshell.py\", line 2170, in showtraceback\n",
      "  File \"/Users/evalievanoijen/Downloads/EPA133a-Lab/venv/lib/python3.11/site-packages/IPython/core/ultratb.py\", line 1457, in structured_traceback\n",
      "  File \"/Users/evalievanoijen/Downloads/EPA133a-Lab/venv/lib/python3.11/site-packages/IPython/core/ultratb.py\", line 1348, in structured_traceback\n",
      "  File \"/Users/evalievanoijen/Downloads/EPA133a-Lab/venv/lib/python3.11/site-packages/IPython/core/ultratb.py\", line 1195, in structured_traceback\n",
      "  File \"/Users/evalievanoijen/Downloads/EPA133a-Lab/venv/lib/python3.11/site-packages/IPython/core/ultratb.py\", line 1085, in format_exception_as_a_whole\n",
      "  File \"/Users/evalievanoijen/Downloads/EPA133a-Lab/venv/lib/python3.11/site-packages/IPython/core/ultratb.py\", line 1136, in get_records\n",
      "  File \"/Users/evalievanoijen/Downloads/EPA133a-Lab/venv/lib/python3.11/site-packages/pygments/styles/__init__.py\", line 47, in get_style_by_name\n",
      "pygments.util.ClassNotFound: Could not find style module 'pygments.styles.default', though it should be builtin.\n",
      "Traceback (most recent call last):\n",
      "  File \"/Users/evalievanoijen/Downloads/EPA133a-Lab/venv/lib/python3.11/site-packages/IPython/core/formatters.py\", line 282, in catch_format_error\n",
      "  File \"/Users/evalievanoijen/Downloads/EPA133a-Lab/venv/lib/python3.11/site-packages/IPython/core/formatters.py\", line 406, in __call__\n",
      "  File \"/Users/evalievanoijen/Downloads/EPA133a-Lab/venv/lib/python3.11/site-packages/pandas/core/frame.py\", line 1155, in _repr_html_\n",
      "  File \"/Users/evalievanoijen/Downloads/EPA133a-Lab/venv/lib/python3.11/site-packages/pandas/io/formats/format.py\", line 608, in __init__\n",
      "  File \"/Users/evalievanoijen/Downloads/EPA133a-Lab/venv/lib/python3.11/site-packages/pandas/io/formats/format.py\", line 797, in truncate\n",
      "  File \"/Users/evalievanoijen/Downloads/EPA133a-Lab/venv/lib/python3.11/site-packages/pandas/io/formats/format.py\", line 837, in _truncate_vertically\n",
      "  File \"/Users/evalievanoijen/Downloads/EPA133a-Lab/venv/lib/python3.11/site-packages/pandas/core/reshape/concat.py\", line 393, in concat\n",
      "  File \"/Users/evalievanoijen/Downloads/EPA133a-Lab/venv/lib/python3.11/site-packages/pandas/core/reshape/concat.py\", line 680, in get_result\n",
      "  File \"/Users/evalievanoijen/Downloads/EPA133a-Lab/venv/lib/python3.11/site-packages/pandas/core/internals/concat.py\", line 180, in concatenate_managers\n",
      "  File \"/Users/evalievanoijen/Downloads/EPA133a-Lab/venv/lib/python3.11/site-packages/pandas/core/dtypes/concat.py\", line 83, in concat_compat\n",
      "  File \"/Users/evalievanoijen/Downloads/EPA133a-Lab/venv/lib/python3.11/site-packages/pandas/core/arrays/categorical.py\", line 2493, in _concat_same_type\n",
      "  File \"/Users/evalievanoijen/Downloads/EPA133a-Lab/venv/lib/python3.11/site-packages/pandas/core/dtypes/concat.py\", line 299, in union_categoricals\n",
      "  File \"/Users/evalievanoijen/Downloads/EPA133a-Lab/venv/lib/python3.11/site-packages/pandas/core/dtypes/concat.py\", line 299, in <genexpr>\n",
      "  File \"/Users/evalievanoijen/Downloads/EPA133a-Lab/venv/lib/python3.11/site-packages/pandas/core/arrays/categorical.py\", line 2528, in _categories_match_up_to_permutation\n",
      "  File \"/Users/evalievanoijen/Downloads/EPA133a-Lab/venv/lib/python3.11/site-packages/pandas/core/dtypes/dtypes.py\", line 389, in __hash__\n",
      "  File \"properties.pyx\", line 36, in pandas._libs.properties.CachedProperty.__get__\n",
      "  File \"/Users/evalievanoijen/Downloads/EPA133a-Lab/venv/lib/python3.11/site-packages/pandas/core/dtypes/dtypes.py\", line 471, in _hash_categories\n",
      "ModuleNotFoundError: No module named 'pandas.core.util.hashing'\n",
      "\n",
      "During handling of the above exception, another exception occurred:\n",
      "\n",
      "Traceback (most recent call last):\n",
      "  File \"/Users/evalievanoijen/Downloads/EPA133a-Lab/venv/lib/python3.11/site-packages/pygments/styles/__init__.py\", line 45, in get_style_by_name\n",
      "ModuleNotFoundError: No module named 'pygments.styles.default'\n",
      "\n",
      "During handling of the above exception, another exception occurred:\n",
      "\n",
      "Traceback (most recent call last):\n",
      "  File \"/Users/evalievanoijen/Downloads/EPA133a-Lab/venv/lib/python3.11/site-packages/IPython/core/interactiveshell.py\", line 2170, in showtraceback\n",
      "  File \"/Users/evalievanoijen/Downloads/EPA133a-Lab/venv/lib/python3.11/site-packages/IPython/core/ultratb.py\", line 1457, in structured_traceback\n",
      "  File \"/Users/evalievanoijen/Downloads/EPA133a-Lab/venv/lib/python3.11/site-packages/IPython/core/ultratb.py\", line 1348, in structured_traceback\n",
      "  File \"/Users/evalievanoijen/Downloads/EPA133a-Lab/venv/lib/python3.11/site-packages/IPython/core/ultratb.py\", line 1195, in structured_traceback\n",
      "  File \"/Users/evalievanoijen/Downloads/EPA133a-Lab/venv/lib/python3.11/site-packages/IPython/core/ultratb.py\", line 1085, in format_exception_as_a_whole\n",
      "  File \"/Users/evalievanoijen/Downloads/EPA133a-Lab/venv/lib/python3.11/site-packages/IPython/core/ultratb.py\", line 1136, in get_records\n",
      "  File \"/Users/evalievanoijen/Downloads/EPA133a-Lab/venv/lib/python3.11/site-packages/pygments/styles/__init__.py\", line 47, in get_style_by_name\n",
      "pygments.util.ClassNotFound: Could not find style module 'pygments.styles.default', though it should be builtin.\n"
     ]
    }
   ],
   "execution_count": 27
  },
  {
   "cell_type": "code",
   "metadata": {
    "ExecuteTime": {
     "end_time": "2025-06-04T14:34:36.895273Z",
     "start_time": "2025-06-04T14:34:36.891023Z"
    }
   },
   "source": [
    "experiments.columns"
   ],
   "outputs": [
    {
     "data": {
      "text/plain": [
       "Index(['A.0_ID flood wave shape', 'A.1_Bmax', 'A.1_Brate', 'A.1_pfail',\n",
       "       'A.2_Bmax', 'A.2_Brate', 'A.2_pfail', 'A.3_Bmax', 'A.3_Brate',\n",
       "       'A.3_pfail', 'A.4_Bmax', 'A.4_Brate', 'A.4_pfail', 'A.5_Bmax',\n",
       "       'A.5_Brate', 'A.5_pfail', 'discount rate 0', 'discount rate 1',\n",
       "       'discount rate 2', '0_RfR 0', '0_RfR 1', '0_RfR 2', '1_RfR 0',\n",
       "       '1_RfR 1', '1_RfR 2', '2_RfR 0', '2_RfR 1', '2_RfR 2', '3_RfR 0',\n",
       "       '3_RfR 1', '3_RfR 2', '4_RfR 0', '4_RfR 1', '4_RfR 2',\n",
       "       'A.1_DikeIncrease 0', 'A.1_DikeIncrease 1', 'A.1_DikeIncrease 2',\n",
       "       'A.2_DikeIncrease 0', 'A.2_DikeIncrease 1', 'A.2_DikeIncrease 2',\n",
       "       'A.3_DikeIncrease 0', 'A.3_DikeIncrease 1', 'A.3_DikeIncrease 2',\n",
       "       'A.4_DikeIncrease 0', 'A.4_DikeIncrease 1', 'A.4_DikeIncrease 2',\n",
       "       'A.5_DikeIncrease 0', 'A.5_DikeIncrease 1', 'A.5_DikeIncrease 2',\n",
       "       'EWS_DaysToThreat', 'scenario', 'policy', 'model'],\n",
       "      dtype='object')"
      ]
     },
     "execution_count": 28,
     "metadata": {},
     "output_type": "execute_result"
    }
   ],
   "execution_count": 28
  },
  {
   "cell_type": "code",
   "metadata": {
    "ExecuteTime": {
     "end_time": "2025-06-04T14:34:37.315833Z",
     "start_time": "2025-06-04T14:34:37.305664Z"
    }
   },
   "source": [
    "# only works because we have scalar outcomes\n",
    "outcomes_pd = pd.DataFrame(outcomes)\n",
    "outcomes_pd"
   ],
   "outputs": [
    {
     "name": "stdout",
     "output_type": "stream",
     "text": [
      "Unexpected exception formatting exception. Falling back to standard exception\n",
      "Unexpected exception formatting exception. Falling back to standard exception\n"
     ]
    },
    {
     "name": "stderr",
     "output_type": "stream",
     "text": [
      "Traceback (most recent call last):\n",
      "  File \"/Users/evalievanoijen/Downloads/EPA133a-Lab/venv/lib/python3.11/site-packages/IPython/core/formatters.py\", line 282, in catch_format_error\n",
      "  File \"/Users/evalievanoijen/Downloads/EPA133a-Lab/venv/lib/python3.11/site-packages/IPython/core/formatters.py\", line 770, in __call__\n",
      "  File \"/Users/evalievanoijen/Downloads/EPA133a-Lab/venv/lib/python3.11/site-packages/IPython/lib/pretty.py\", line 419, in pretty\n",
      "  File \"/Users/evalievanoijen/Downloads/EPA133a-Lab/venv/lib/python3.11/site-packages/IPython/lib/pretty.py\", line 794, in _repr_pprint\n",
      "  File \"/Users/evalievanoijen/Downloads/EPA133a-Lab/venv/lib/python3.11/site-packages/pandas/core/frame.py\", line 1133, in __repr__\n",
      "  File \"/Users/evalievanoijen/Downloads/EPA133a-Lab/venv/lib/python3.11/site-packages/pandas/core/frame.py\", line 1310, in to_string\n",
      "  File \"/Users/evalievanoijen/Downloads/EPA133a-Lab/venv/lib/python3.11/site-packages/pandas/io/formats/format.py\", line 1097, in to_string\n",
      "ModuleNotFoundError: No module named 'pandas.io.formats.string'\n",
      "\n",
      "During handling of the above exception, another exception occurred:\n",
      "\n",
      "Traceback (most recent call last):\n",
      "  File \"/Users/evalievanoijen/Downloads/EPA133a-Lab/venv/lib/python3.11/site-packages/pygments/styles/__init__.py\", line 45, in get_style_by_name\n",
      "ModuleNotFoundError: No module named 'pygments.styles.default'\n",
      "\n",
      "During handling of the above exception, another exception occurred:\n",
      "\n",
      "Traceback (most recent call last):\n",
      "  File \"/Users/evalievanoijen/Downloads/EPA133a-Lab/venv/lib/python3.11/site-packages/IPython/core/interactiveshell.py\", line 2170, in showtraceback\n",
      "  File \"/Users/evalievanoijen/Downloads/EPA133a-Lab/venv/lib/python3.11/site-packages/IPython/core/ultratb.py\", line 1457, in structured_traceback\n",
      "  File \"/Users/evalievanoijen/Downloads/EPA133a-Lab/venv/lib/python3.11/site-packages/IPython/core/ultratb.py\", line 1348, in structured_traceback\n",
      "  File \"/Users/evalievanoijen/Downloads/EPA133a-Lab/venv/lib/python3.11/site-packages/IPython/core/ultratb.py\", line 1195, in structured_traceback\n",
      "  File \"/Users/evalievanoijen/Downloads/EPA133a-Lab/venv/lib/python3.11/site-packages/IPython/core/ultratb.py\", line 1085, in format_exception_as_a_whole\n",
      "  File \"/Users/evalievanoijen/Downloads/EPA133a-Lab/venv/lib/python3.11/site-packages/IPython/core/ultratb.py\", line 1136, in get_records\n",
      "  File \"/Users/evalievanoijen/Downloads/EPA133a-Lab/venv/lib/python3.11/site-packages/pygments/styles/__init__.py\", line 47, in get_style_by_name\n",
      "pygments.util.ClassNotFound: Could not find style module 'pygments.styles.default', though it should be builtin.\n",
      "Traceback (most recent call last):\n",
      "  File \"/Users/evalievanoijen/Downloads/EPA133a-Lab/venv/lib/python3.11/site-packages/IPython/core/formatters.py\", line 282, in catch_format_error\n",
      "  File \"/Users/evalievanoijen/Downloads/EPA133a-Lab/venv/lib/python3.11/site-packages/IPython/core/formatters.py\", line 406, in __call__\n",
      "  File \"/Users/evalievanoijen/Downloads/EPA133a-Lab/venv/lib/python3.11/site-packages/pandas/core/frame.py\", line 1175, in _repr_html_\n",
      "  File \"/Users/evalievanoijen/Downloads/EPA133a-Lab/venv/lib/python3.11/site-packages/pandas/io/formats/format.py\", line 1060, in to_html\n",
      "ModuleNotFoundError: No module named 'pandas.io.formats.html'\n",
      "\n",
      "During handling of the above exception, another exception occurred:\n",
      "\n",
      "Traceback (most recent call last):\n",
      "  File \"/Users/evalievanoijen/Downloads/EPA133a-Lab/venv/lib/python3.11/site-packages/pygments/styles/__init__.py\", line 45, in get_style_by_name\n",
      "ModuleNotFoundError: No module named 'pygments.styles.default'\n",
      "\n",
      "During handling of the above exception, another exception occurred:\n",
      "\n",
      "Traceback (most recent call last):\n",
      "  File \"/Users/evalievanoijen/Downloads/EPA133a-Lab/venv/lib/python3.11/site-packages/IPython/core/interactiveshell.py\", line 2170, in showtraceback\n",
      "  File \"/Users/evalievanoijen/Downloads/EPA133a-Lab/venv/lib/python3.11/site-packages/IPython/core/ultratb.py\", line 1457, in structured_traceback\n",
      "  File \"/Users/evalievanoijen/Downloads/EPA133a-Lab/venv/lib/python3.11/site-packages/IPython/core/ultratb.py\", line 1348, in structured_traceback\n",
      "  File \"/Users/evalievanoijen/Downloads/EPA133a-Lab/venv/lib/python3.11/site-packages/IPython/core/ultratb.py\", line 1195, in structured_traceback\n",
      "  File \"/Users/evalievanoijen/Downloads/EPA133a-Lab/venv/lib/python3.11/site-packages/IPython/core/ultratb.py\", line 1085, in format_exception_as_a_whole\n",
      "  File \"/Users/evalievanoijen/Downloads/EPA133a-Lab/venv/lib/python3.11/site-packages/IPython/core/ultratb.py\", line 1136, in get_records\n",
      "  File \"/Users/evalievanoijen/Downloads/EPA133a-Lab/venv/lib/python3.11/site-packages/pygments/styles/__init__.py\", line 47, in get_style_by_name\n",
      "pygments.util.ClassNotFound: Could not find style module 'pygments.styles.default', though it should be builtin.\n"
     ]
    }
   ],
   "execution_count": 29
  },
  {
   "cell_type": "code",
   "metadata": {
    "ExecuteTime": {
     "end_time": "2025-06-04T14:34:37.663547Z",
     "start_time": "2025-06-04T14:34:37.547462Z"
    }
   },
   "source": [
    "tot = experiments.join(outcomes_pd)\n",
    "tot\n"
   ],
   "outputs": [
    {
     "name": "stdout",
     "output_type": "stream",
     "text": [
      "Unexpected exception formatting exception. Falling back to standard exception\n",
      "Unexpected exception formatting exception. Falling back to standard exception\n"
     ]
    },
    {
     "name": "stderr",
     "output_type": "stream",
     "text": [
      "Traceback (most recent call last):\n",
      "  File \"/Users/evalievanoijen/Downloads/EPA133a-Lab/venv/lib/python3.11/site-packages/IPython/core/formatters.py\", line 282, in catch_format_error\n",
      "  File \"/Users/evalievanoijen/Downloads/EPA133a-Lab/venv/lib/python3.11/site-packages/IPython/core/formatters.py\", line 770, in __call__\n",
      "  File \"/Users/evalievanoijen/Downloads/EPA133a-Lab/venv/lib/python3.11/site-packages/IPython/lib/pretty.py\", line 419, in pretty\n",
      "  File \"/Users/evalievanoijen/Downloads/EPA133a-Lab/venv/lib/python3.11/site-packages/IPython/lib/pretty.py\", line 794, in _repr_pprint\n",
      "  File \"/Users/evalievanoijen/Downloads/EPA133a-Lab/venv/lib/python3.11/site-packages/pandas/core/frame.py\", line 1133, in __repr__\n",
      "  File \"/Users/evalievanoijen/Downloads/EPA133a-Lab/venv/lib/python3.11/site-packages/pandas/core/frame.py\", line 1292, in to_string\n",
      "  File \"/Users/evalievanoijen/Downloads/EPA133a-Lab/venv/lib/python3.11/site-packages/pandas/io/formats/format.py\", line 608, in __init__\n",
      "  File \"/Users/evalievanoijen/Downloads/EPA133a-Lab/venv/lib/python3.11/site-packages/pandas/io/formats/format.py\", line 797, in truncate\n",
      "  File \"/Users/evalievanoijen/Downloads/EPA133a-Lab/venv/lib/python3.11/site-packages/pandas/io/formats/format.py\", line 837, in _truncate_vertically\n",
      "  File \"/Users/evalievanoijen/Downloads/EPA133a-Lab/venv/lib/python3.11/site-packages/pandas/core/reshape/concat.py\", line 393, in concat\n",
      "  File \"/Users/evalievanoijen/Downloads/EPA133a-Lab/venv/lib/python3.11/site-packages/pandas/core/reshape/concat.py\", line 680, in get_result\n",
      "  File \"/Users/evalievanoijen/Downloads/EPA133a-Lab/venv/lib/python3.11/site-packages/pandas/core/internals/concat.py\", line 180, in concatenate_managers\n",
      "  File \"/Users/evalievanoijen/Downloads/EPA133a-Lab/venv/lib/python3.11/site-packages/pandas/core/dtypes/concat.py\", line 83, in concat_compat\n",
      "  File \"/Users/evalievanoijen/Downloads/EPA133a-Lab/venv/lib/python3.11/site-packages/pandas/core/arrays/categorical.py\", line 2493, in _concat_same_type\n",
      "  File \"/Users/evalievanoijen/Downloads/EPA133a-Lab/venv/lib/python3.11/site-packages/pandas/core/dtypes/concat.py\", line 299, in union_categoricals\n",
      "  File \"/Users/evalievanoijen/Downloads/EPA133a-Lab/venv/lib/python3.11/site-packages/pandas/core/dtypes/concat.py\", line 299, in <genexpr>\n",
      "  File \"/Users/evalievanoijen/Downloads/EPA133a-Lab/venv/lib/python3.11/site-packages/pandas/core/arrays/categorical.py\", line 2528, in _categories_match_up_to_permutation\n",
      "  File \"/Users/evalievanoijen/Downloads/EPA133a-Lab/venv/lib/python3.11/site-packages/pandas/core/dtypes/dtypes.py\", line 389, in __hash__\n",
      "  File \"properties.pyx\", line 36, in pandas._libs.properties.CachedProperty.__get__\n",
      "  File \"/Users/evalievanoijen/Downloads/EPA133a-Lab/venv/lib/python3.11/site-packages/pandas/core/dtypes/dtypes.py\", line 471, in _hash_categories\n",
      "ModuleNotFoundError: No module named 'pandas.core.util.hashing'\n",
      "\n",
      "During handling of the above exception, another exception occurred:\n",
      "\n",
      "Traceback (most recent call last):\n",
      "  File \"/Users/evalievanoijen/Downloads/EPA133a-Lab/venv/lib/python3.11/site-packages/pygments/styles/__init__.py\", line 45, in get_style_by_name\n",
      "ModuleNotFoundError: No module named 'pygments.styles.default'\n",
      "\n",
      "During handling of the above exception, another exception occurred:\n",
      "\n",
      "Traceback (most recent call last):\n",
      "  File \"/Users/evalievanoijen/Downloads/EPA133a-Lab/venv/lib/python3.11/site-packages/IPython/core/interactiveshell.py\", line 2170, in showtraceback\n",
      "  File \"/Users/evalievanoijen/Downloads/EPA133a-Lab/venv/lib/python3.11/site-packages/IPython/core/ultratb.py\", line 1457, in structured_traceback\n",
      "  File \"/Users/evalievanoijen/Downloads/EPA133a-Lab/venv/lib/python3.11/site-packages/IPython/core/ultratb.py\", line 1348, in structured_traceback\n",
      "  File \"/Users/evalievanoijen/Downloads/EPA133a-Lab/venv/lib/python3.11/site-packages/IPython/core/ultratb.py\", line 1195, in structured_traceback\n",
      "  File \"/Users/evalievanoijen/Downloads/EPA133a-Lab/venv/lib/python3.11/site-packages/IPython/core/ultratb.py\", line 1085, in format_exception_as_a_whole\n",
      "  File \"/Users/evalievanoijen/Downloads/EPA133a-Lab/venv/lib/python3.11/site-packages/IPython/core/ultratb.py\", line 1136, in get_records\n",
      "  File \"/Users/evalievanoijen/Downloads/EPA133a-Lab/venv/lib/python3.11/site-packages/pygments/styles/__init__.py\", line 47, in get_style_by_name\n",
      "pygments.util.ClassNotFound: Could not find style module 'pygments.styles.default', though it should be builtin.\n",
      "Traceback (most recent call last):\n",
      "  File \"/Users/evalievanoijen/Downloads/EPA133a-Lab/venv/lib/python3.11/site-packages/IPython/core/formatters.py\", line 282, in catch_format_error\n",
      "  File \"/Users/evalievanoijen/Downloads/EPA133a-Lab/venv/lib/python3.11/site-packages/IPython/core/formatters.py\", line 406, in __call__\n",
      "  File \"/Users/evalievanoijen/Downloads/EPA133a-Lab/venv/lib/python3.11/site-packages/pandas/core/frame.py\", line 1155, in _repr_html_\n",
      "  File \"/Users/evalievanoijen/Downloads/EPA133a-Lab/venv/lib/python3.11/site-packages/pandas/io/formats/format.py\", line 608, in __init__\n",
      "  File \"/Users/evalievanoijen/Downloads/EPA133a-Lab/venv/lib/python3.11/site-packages/pandas/io/formats/format.py\", line 797, in truncate\n",
      "  File \"/Users/evalievanoijen/Downloads/EPA133a-Lab/venv/lib/python3.11/site-packages/pandas/io/formats/format.py\", line 837, in _truncate_vertically\n",
      "  File \"/Users/evalievanoijen/Downloads/EPA133a-Lab/venv/lib/python3.11/site-packages/pandas/core/reshape/concat.py\", line 393, in concat\n",
      "  File \"/Users/evalievanoijen/Downloads/EPA133a-Lab/venv/lib/python3.11/site-packages/pandas/core/reshape/concat.py\", line 680, in get_result\n",
      "  File \"/Users/evalievanoijen/Downloads/EPA133a-Lab/venv/lib/python3.11/site-packages/pandas/core/internals/concat.py\", line 180, in concatenate_managers\n",
      "  File \"/Users/evalievanoijen/Downloads/EPA133a-Lab/venv/lib/python3.11/site-packages/pandas/core/dtypes/concat.py\", line 83, in concat_compat\n",
      "  File \"/Users/evalievanoijen/Downloads/EPA133a-Lab/venv/lib/python3.11/site-packages/pandas/core/arrays/categorical.py\", line 2493, in _concat_same_type\n",
      "  File \"/Users/evalievanoijen/Downloads/EPA133a-Lab/venv/lib/python3.11/site-packages/pandas/core/dtypes/concat.py\", line 299, in union_categoricals\n",
      "  File \"/Users/evalievanoijen/Downloads/EPA133a-Lab/venv/lib/python3.11/site-packages/pandas/core/dtypes/concat.py\", line 299, in <genexpr>\n",
      "  File \"/Users/evalievanoijen/Downloads/EPA133a-Lab/venv/lib/python3.11/site-packages/pandas/core/arrays/categorical.py\", line 2528, in _categories_match_up_to_permutation\n",
      "  File \"/Users/evalievanoijen/Downloads/EPA133a-Lab/venv/lib/python3.11/site-packages/pandas/core/dtypes/dtypes.py\", line 389, in __hash__\n",
      "  File \"properties.pyx\", line 36, in pandas._libs.properties.CachedProperty.__get__\n",
      "  File \"/Users/evalievanoijen/Downloads/EPA133a-Lab/venv/lib/python3.11/site-packages/pandas/core/dtypes/dtypes.py\", line 471, in _hash_categories\n",
      "ModuleNotFoundError: No module named 'pandas.core.util.hashing'\n",
      "\n",
      "During handling of the above exception, another exception occurred:\n",
      "\n",
      "Traceback (most recent call last):\n",
      "  File \"/Users/evalievanoijen/Downloads/EPA133a-Lab/venv/lib/python3.11/site-packages/pygments/styles/__init__.py\", line 45, in get_style_by_name\n",
      "ModuleNotFoundError: No module named 'pygments.styles.default'\n",
      "\n",
      "During handling of the above exception, another exception occurred:\n",
      "\n",
      "Traceback (most recent call last):\n",
      "  File \"/Users/evalievanoijen/Downloads/EPA133a-Lab/venv/lib/python3.11/site-packages/IPython/core/interactiveshell.py\", line 2170, in showtraceback\n",
      "  File \"/Users/evalievanoijen/Downloads/EPA133a-Lab/venv/lib/python3.11/site-packages/IPython/core/ultratb.py\", line 1457, in structured_traceback\n",
      "  File \"/Users/evalievanoijen/Downloads/EPA133a-Lab/venv/lib/python3.11/site-packages/IPython/core/ultratb.py\", line 1348, in structured_traceback\n",
      "  File \"/Users/evalievanoijen/Downloads/EPA133a-Lab/venv/lib/python3.11/site-packages/IPython/core/ultratb.py\", line 1195, in structured_traceback\n",
      "  File \"/Users/evalievanoijen/Downloads/EPA133a-Lab/venv/lib/python3.11/site-packages/IPython/core/ultratb.py\", line 1085, in format_exception_as_a_whole\n",
      "  File \"/Users/evalievanoijen/Downloads/EPA133a-Lab/venv/lib/python3.11/site-packages/IPython/core/ultratb.py\", line 1136, in get_records\n",
      "  File \"/Users/evalievanoijen/Downloads/EPA133a-Lab/venv/lib/python3.11/site-packages/pygments/styles/__init__.py\", line 47, in get_style_by_name\n",
      "pygments.util.ClassNotFound: Could not find style module 'pygments.styles.default', though it should be builtin.\n"
     ]
    }
   ],
   "execution_count": 30
  },
  {
   "metadata": {
    "ExecuteTime": {
     "end_time": "2025-06-04T14:34:37.837758Z",
     "start_time": "2025-06-04T14:34:37.832344Z"
    }
   },
   "cell_type": "code",
   "source": [
    "from ema_workbench.analysis import pairs_plotting\n",
    "\n",
    "fig, axes = pairs_plotting.pairs_scatter(tot, outcomes, group_by='policy',legend=False)\n",
    "fig.set_figheight(15)\n",
    "fig.set_figwidth(15)\n",
    "plt.show()"
   ],
   "outputs": [
    {
     "name": "stdout",
     "output_type": "stream",
     "text": [
      "Unexpected exception formatting exception. Falling back to standard exception\n"
     ]
    },
    {
     "name": "stderr",
     "output_type": "stream",
     "text": [
      "Traceback (most recent call last):\n",
      "  File \"/Users/evalievanoijen/Downloads/EPA133a-Lab/venv/lib/python3.11/site-packages/IPython/core/interactiveshell.py\", line 3579, in run_code\n",
      "  File \"/var/folders/cq/_rbxzkq17533m5qdt1c__dyw0000gn/T/ipykernel_6141/2548029488.py\", line 1, in <module>\n",
      "    from ema_workbench.analysis import pairs_plotting\n",
      "ModuleNotFoundError: No module named 'ema_workbench.analysis'\n",
      "\n",
      "During handling of the above exception, another exception occurred:\n",
      "\n",
      "Traceback (most recent call last):\n",
      "  File \"/Users/evalievanoijen/Downloads/EPA133a-Lab/venv/lib/python3.11/site-packages/pygments/styles/__init__.py\", line 45, in get_style_by_name\n",
      "ModuleNotFoundError: No module named 'pygments.styles.default'\n",
      "\n",
      "During handling of the above exception, another exception occurred:\n",
      "\n",
      "Traceback (most recent call last):\n",
      "  File \"/Users/evalievanoijen/Downloads/EPA133a-Lab/venv/lib/python3.11/site-packages/IPython/core/interactiveshell.py\", line 2170, in showtraceback\n",
      "  File \"/Users/evalievanoijen/Downloads/EPA133a-Lab/venv/lib/python3.11/site-packages/IPython/core/ultratb.py\", line 1457, in structured_traceback\n",
      "  File \"/Users/evalievanoijen/Downloads/EPA133a-Lab/venv/lib/python3.11/site-packages/IPython/core/ultratb.py\", line 1348, in structured_traceback\n",
      "  File \"/Users/evalievanoijen/Downloads/EPA133a-Lab/venv/lib/python3.11/site-packages/IPython/core/ultratb.py\", line 1195, in structured_traceback\n",
      "  File \"/Users/evalievanoijen/Downloads/EPA133a-Lab/venv/lib/python3.11/site-packages/IPython/core/ultratb.py\", line 1085, in format_exception_as_a_whole\n",
      "  File \"/Users/evalievanoijen/Downloads/EPA133a-Lab/venv/lib/python3.11/site-packages/IPython/core/ultratb.py\", line 1136, in get_records\n",
      "  File \"/Users/evalievanoijen/Downloads/EPA133a-Lab/venv/lib/python3.11/site-packages/pygments/styles/__init__.py\", line 47, in get_style_by_name\n",
      "pygments.util.ClassNotFound: Could not find style module 'pygments.styles.default', though it should be builtin.\n"
     ]
    }
   ],
   "execution_count": 31
  },
  {
   "cell_type": "code",
   "metadata": {
    "ExecuteTime": {
     "end_time": "2025-06-04T14:34:38.037586Z",
     "start_time": "2025-06-04T14:34:37.933345Z"
    }
   },
   "source": [
    "tot_policy = tot.groupby('policy').mean(numeric_only=True)\n",
    "tot_policy.sort_values(by=tot_policy.columns[-1], ascending=True, inplace=True)\n",
    "tot_policy"
   ],
   "outputs": [
    {
     "name": "stdout",
     "output_type": "stream",
     "text": [
      "Unexpected exception formatting exception. Falling back to standard exception\n",
      "Unexpected exception formatting exception. Falling back to standard exception\n"
     ]
    },
    {
     "name": "stderr",
     "output_type": "stream",
     "text": [
      "/var/folders/cq/_rbxzkq17533m5qdt1c__dyw0000gn/T/ipykernel_6141/255886294.py:1: FutureWarning: The default of observed=False is deprecated and will be changed to True in a future version of pandas. Pass observed=False to retain current behavior or observed=True to adopt the future default and silence this warning.\n",
      "  tot_policy = tot.groupby('policy').mean(numeric_only=True)\n",
      "Traceback (most recent call last):\n",
      "  File \"/Users/evalievanoijen/Downloads/EPA133a-Lab/venv/lib/python3.11/site-packages/IPython/core/formatters.py\", line 282, in catch_format_error\n",
      "  File \"/Users/evalievanoijen/Downloads/EPA133a-Lab/venv/lib/python3.11/site-packages/IPython/core/formatters.py\", line 770, in __call__\n",
      "  File \"/Users/evalievanoijen/Downloads/EPA133a-Lab/venv/lib/python3.11/site-packages/IPython/lib/pretty.py\", line 419, in pretty\n",
      "  File \"/Users/evalievanoijen/Downloads/EPA133a-Lab/venv/lib/python3.11/site-packages/IPython/lib/pretty.py\", line 794, in _repr_pprint\n",
      "  File \"/Users/evalievanoijen/Downloads/EPA133a-Lab/venv/lib/python3.11/site-packages/pandas/core/frame.py\", line 1133, in __repr__\n",
      "  File \"/Users/evalievanoijen/Downloads/EPA133a-Lab/venv/lib/python3.11/site-packages/pandas/core/frame.py\", line 1292, in to_string\n",
      "  File \"/Users/evalievanoijen/Downloads/EPA133a-Lab/venv/lib/python3.11/site-packages/pandas/io/formats/format.py\", line 608, in __init__\n",
      "  File \"/Users/evalievanoijen/Downloads/EPA133a-Lab/venv/lib/python3.11/site-packages/pandas/io/formats/format.py\", line 794, in truncate\n",
      "  File \"/Users/evalievanoijen/Downloads/EPA133a-Lab/venv/lib/python3.11/site-packages/pandas/io/formats/format.py\", line 812, in _truncate_horizontally\n",
      "  File \"/Users/evalievanoijen/Downloads/EPA133a-Lab/venv/lib/python3.11/site-packages/pandas/core/reshape/concat.py\", line 393, in concat\n",
      "  File \"/Users/evalievanoijen/Downloads/EPA133a-Lab/venv/lib/python3.11/site-packages/pandas/core/reshape/concat.py\", line 675, in get_result\n",
      "  File \"/Users/evalievanoijen/Downloads/EPA133a-Lab/venv/lib/python3.11/site-packages/pandas/core/indexes/category.py\", line 329, in equals\n",
      "  File \"/Users/evalievanoijen/Downloads/EPA133a-Lab/venv/lib/python3.11/site-packages/pandas/core/indexes/category.py\", line 250, in _is_dtype_compat\n",
      "  File \"/Users/evalievanoijen/Downloads/EPA133a-Lab/venv/lib/python3.11/site-packages/pandas/core/arrays/categorical.py\", line 2528, in _categories_match_up_to_permutation\n",
      "  File \"/Users/evalievanoijen/Downloads/EPA133a-Lab/venv/lib/python3.11/site-packages/pandas/core/dtypes/dtypes.py\", line 389, in __hash__\n",
      "  File \"properties.pyx\", line 36, in pandas._libs.properties.CachedProperty.__get__\n",
      "  File \"/Users/evalievanoijen/Downloads/EPA133a-Lab/venv/lib/python3.11/site-packages/pandas/core/dtypes/dtypes.py\", line 471, in _hash_categories\n",
      "ModuleNotFoundError: No module named 'pandas.core.util.hashing'\n",
      "\n",
      "During handling of the above exception, another exception occurred:\n",
      "\n",
      "Traceback (most recent call last):\n",
      "  File \"/Users/evalievanoijen/Downloads/EPA133a-Lab/venv/lib/python3.11/site-packages/pygments/styles/__init__.py\", line 45, in get_style_by_name\n",
      "ModuleNotFoundError: No module named 'pygments.styles.default'\n",
      "\n",
      "During handling of the above exception, another exception occurred:\n",
      "\n",
      "Traceback (most recent call last):\n",
      "  File \"/Users/evalievanoijen/Downloads/EPA133a-Lab/venv/lib/python3.11/site-packages/IPython/core/interactiveshell.py\", line 2170, in showtraceback\n",
      "  File \"/Users/evalievanoijen/Downloads/EPA133a-Lab/venv/lib/python3.11/site-packages/IPython/core/ultratb.py\", line 1457, in structured_traceback\n",
      "  File \"/Users/evalievanoijen/Downloads/EPA133a-Lab/venv/lib/python3.11/site-packages/IPython/core/ultratb.py\", line 1348, in structured_traceback\n",
      "  File \"/Users/evalievanoijen/Downloads/EPA133a-Lab/venv/lib/python3.11/site-packages/IPython/core/ultratb.py\", line 1195, in structured_traceback\n",
      "  File \"/Users/evalievanoijen/Downloads/EPA133a-Lab/venv/lib/python3.11/site-packages/IPython/core/ultratb.py\", line 1085, in format_exception_as_a_whole\n",
      "  File \"/Users/evalievanoijen/Downloads/EPA133a-Lab/venv/lib/python3.11/site-packages/IPython/core/ultratb.py\", line 1136, in get_records\n",
      "  File \"/Users/evalievanoijen/Downloads/EPA133a-Lab/venv/lib/python3.11/site-packages/pygments/styles/__init__.py\", line 47, in get_style_by_name\n",
      "pygments.util.ClassNotFound: Could not find style module 'pygments.styles.default', though it should be builtin.\n",
      "Traceback (most recent call last):\n",
      "  File \"/Users/evalievanoijen/Downloads/EPA133a-Lab/venv/lib/python3.11/site-packages/IPython/core/formatters.py\", line 282, in catch_format_error\n",
      "  File \"/Users/evalievanoijen/Downloads/EPA133a-Lab/venv/lib/python3.11/site-packages/IPython/core/formatters.py\", line 406, in __call__\n",
      "  File \"/Users/evalievanoijen/Downloads/EPA133a-Lab/venv/lib/python3.11/site-packages/pandas/core/frame.py\", line 1155, in _repr_html_\n",
      "  File \"/Users/evalievanoijen/Downloads/EPA133a-Lab/venv/lib/python3.11/site-packages/pandas/io/formats/format.py\", line 608, in __init__\n",
      "  File \"/Users/evalievanoijen/Downloads/EPA133a-Lab/venv/lib/python3.11/site-packages/pandas/io/formats/format.py\", line 794, in truncate\n",
      "  File \"/Users/evalievanoijen/Downloads/EPA133a-Lab/venv/lib/python3.11/site-packages/pandas/io/formats/format.py\", line 812, in _truncate_horizontally\n",
      "  File \"/Users/evalievanoijen/Downloads/EPA133a-Lab/venv/lib/python3.11/site-packages/pandas/core/reshape/concat.py\", line 393, in concat\n",
      "  File \"/Users/evalievanoijen/Downloads/EPA133a-Lab/venv/lib/python3.11/site-packages/pandas/core/reshape/concat.py\", line 675, in get_result\n",
      "  File \"/Users/evalievanoijen/Downloads/EPA133a-Lab/venv/lib/python3.11/site-packages/pandas/core/indexes/category.py\", line 329, in equals\n",
      "  File \"/Users/evalievanoijen/Downloads/EPA133a-Lab/venv/lib/python3.11/site-packages/pandas/core/indexes/category.py\", line 250, in _is_dtype_compat\n",
      "  File \"/Users/evalievanoijen/Downloads/EPA133a-Lab/venv/lib/python3.11/site-packages/pandas/core/arrays/categorical.py\", line 2528, in _categories_match_up_to_permutation\n",
      "  File \"/Users/evalievanoijen/Downloads/EPA133a-Lab/venv/lib/python3.11/site-packages/pandas/core/dtypes/dtypes.py\", line 389, in __hash__\n",
      "  File \"properties.pyx\", line 36, in pandas._libs.properties.CachedProperty.__get__\n",
      "  File \"/Users/evalievanoijen/Downloads/EPA133a-Lab/venv/lib/python3.11/site-packages/pandas/core/dtypes/dtypes.py\", line 471, in _hash_categories\n",
      "ModuleNotFoundError: No module named 'pandas.core.util.hashing'\n",
      "\n",
      "During handling of the above exception, another exception occurred:\n",
      "\n",
      "Traceback (most recent call last):\n",
      "  File \"/Users/evalievanoijen/Downloads/EPA133a-Lab/venv/lib/python3.11/site-packages/pygments/styles/__init__.py\", line 45, in get_style_by_name\n",
      "ModuleNotFoundError: No module named 'pygments.styles.default'\n",
      "\n",
      "During handling of the above exception, another exception occurred:\n",
      "\n",
      "Traceback (most recent call last):\n",
      "  File \"/Users/evalievanoijen/Downloads/EPA133a-Lab/venv/lib/python3.11/site-packages/IPython/core/interactiveshell.py\", line 2170, in showtraceback\n",
      "  File \"/Users/evalievanoijen/Downloads/EPA133a-Lab/venv/lib/python3.11/site-packages/IPython/core/ultratb.py\", line 1457, in structured_traceback\n",
      "  File \"/Users/evalievanoijen/Downloads/EPA133a-Lab/venv/lib/python3.11/site-packages/IPython/core/ultratb.py\", line 1348, in structured_traceback\n",
      "  File \"/Users/evalievanoijen/Downloads/EPA133a-Lab/venv/lib/python3.11/site-packages/IPython/core/ultratb.py\", line 1195, in structured_traceback\n",
      "  File \"/Users/evalievanoijen/Downloads/EPA133a-Lab/venv/lib/python3.11/site-packages/IPython/core/ultratb.py\", line 1085, in format_exception_as_a_whole\n",
      "  File \"/Users/evalievanoijen/Downloads/EPA133a-Lab/venv/lib/python3.11/site-packages/IPython/core/ultratb.py\", line 1136, in get_records\n",
      "  File \"/Users/evalievanoijen/Downloads/EPA133a-Lab/venv/lib/python3.11/site-packages/pygments/styles/__init__.py\", line 47, in get_style_by_name\n",
      "pygments.util.ClassNotFound: Could not find style module 'pygments.styles.default', though it should be builtin.\n"
     ]
    }
   ],
   "execution_count": 32
  },
  {
   "metadata": {
    "ExecuteTime": {
     "end_time": "2025-06-04T14:34:38.135100Z",
     "start_time": "2025-06-04T14:34:38.117019Z"
    }
   },
   "cell_type": "code",
   "source": [
    "# outcomes to dataframe\n",
    "outcomes_df = pd.DataFrame.from_dict(outcomes)\n",
    "\n",
    "# right columns\n",
    "columns = [\"RfR Total Costs\", \"Expected Annual Damage\", \"Dike Investment Costs\"]\n",
    "\n",
    "# calculate mean, max, min\n",
    "summary = outcomes_df[columns].agg(['mean', 'max', 'min'])\n",
    "\n",
    "# calculate in millions\n",
    "summary.loc[:, \"RfR Total Costs\"] = summary[\"RfR Total Costs\"] / 1e6\n",
    "summary.loc[:, \"Expected Annual Damage\"] = summary[\"Expected Annual Damage\"] / 1e6\n",
    "summary.loc[:, \"Dike Investment Costs\"] = summary[\"Dike Investment Costs\"] / 1e6\n",
    "\n",
    "# round to two decimals\n",
    "summary = summary.round(2)\n",
    "\n",
    "# change index names\n",
    "summary.index = ['Mean', 'Maximum', 'Minimum']\n",
    "summary"
   ],
   "outputs": [
    {
     "name": "stdout",
     "output_type": "stream",
     "text": [
      "Unexpected exception formatting exception. Falling back to standard exception\n",
      "Unexpected exception formatting exception. Falling back to standard exception\n"
     ]
    },
    {
     "name": "stderr",
     "output_type": "stream",
     "text": [
      "Traceback (most recent call last):\n",
      "  File \"/Users/evalievanoijen/Downloads/EPA133a-Lab/venv/lib/python3.11/site-packages/IPython/core/formatters.py\", line 282, in catch_format_error\n",
      "  File \"/Users/evalievanoijen/Downloads/EPA133a-Lab/venv/lib/python3.11/site-packages/IPython/core/formatters.py\", line 770, in __call__\n",
      "  File \"/Users/evalievanoijen/Downloads/EPA133a-Lab/venv/lib/python3.11/site-packages/IPython/lib/pretty.py\", line 419, in pretty\n",
      "  File \"/Users/evalievanoijen/Downloads/EPA133a-Lab/venv/lib/python3.11/site-packages/IPython/lib/pretty.py\", line 794, in _repr_pprint\n",
      "  File \"/Users/evalievanoijen/Downloads/EPA133a-Lab/venv/lib/python3.11/site-packages/pandas/core/frame.py\", line 1133, in __repr__\n",
      "  File \"/Users/evalievanoijen/Downloads/EPA133a-Lab/venv/lib/python3.11/site-packages/pandas/core/frame.py\", line 1310, in to_string\n",
      "  File \"/Users/evalievanoijen/Downloads/EPA133a-Lab/venv/lib/python3.11/site-packages/pandas/io/formats/format.py\", line 1097, in to_string\n",
      "ModuleNotFoundError: No module named 'pandas.io.formats.string'\n",
      "\n",
      "During handling of the above exception, another exception occurred:\n",
      "\n",
      "Traceback (most recent call last):\n",
      "  File \"/Users/evalievanoijen/Downloads/EPA133a-Lab/venv/lib/python3.11/site-packages/pygments/styles/__init__.py\", line 45, in get_style_by_name\n",
      "ModuleNotFoundError: No module named 'pygments.styles.default'\n",
      "\n",
      "During handling of the above exception, another exception occurred:\n",
      "\n",
      "Traceback (most recent call last):\n",
      "  File \"/Users/evalievanoijen/Downloads/EPA133a-Lab/venv/lib/python3.11/site-packages/IPython/core/interactiveshell.py\", line 2170, in showtraceback\n",
      "  File \"/Users/evalievanoijen/Downloads/EPA133a-Lab/venv/lib/python3.11/site-packages/IPython/core/ultratb.py\", line 1457, in structured_traceback\n",
      "  File \"/Users/evalievanoijen/Downloads/EPA133a-Lab/venv/lib/python3.11/site-packages/IPython/core/ultratb.py\", line 1348, in structured_traceback\n",
      "  File \"/Users/evalievanoijen/Downloads/EPA133a-Lab/venv/lib/python3.11/site-packages/IPython/core/ultratb.py\", line 1195, in structured_traceback\n",
      "  File \"/Users/evalievanoijen/Downloads/EPA133a-Lab/venv/lib/python3.11/site-packages/IPython/core/ultratb.py\", line 1085, in format_exception_as_a_whole\n",
      "  File \"/Users/evalievanoijen/Downloads/EPA133a-Lab/venv/lib/python3.11/site-packages/IPython/core/ultratb.py\", line 1136, in get_records\n",
      "  File \"/Users/evalievanoijen/Downloads/EPA133a-Lab/venv/lib/python3.11/site-packages/pygments/styles/__init__.py\", line 47, in get_style_by_name\n",
      "pygments.util.ClassNotFound: Could not find style module 'pygments.styles.default', though it should be builtin.\n",
      "Traceback (most recent call last):\n",
      "  File \"/Users/evalievanoijen/Downloads/EPA133a-Lab/venv/lib/python3.11/site-packages/IPython/core/formatters.py\", line 282, in catch_format_error\n",
      "  File \"/Users/evalievanoijen/Downloads/EPA133a-Lab/venv/lib/python3.11/site-packages/IPython/core/formatters.py\", line 406, in __call__\n",
      "  File \"/Users/evalievanoijen/Downloads/EPA133a-Lab/venv/lib/python3.11/site-packages/pandas/core/frame.py\", line 1175, in _repr_html_\n",
      "  File \"/Users/evalievanoijen/Downloads/EPA133a-Lab/venv/lib/python3.11/site-packages/pandas/io/formats/format.py\", line 1060, in to_html\n",
      "ModuleNotFoundError: No module named 'pandas.io.formats.html'\n",
      "\n",
      "During handling of the above exception, another exception occurred:\n",
      "\n",
      "Traceback (most recent call last):\n",
      "  File \"/Users/evalievanoijen/Downloads/EPA133a-Lab/venv/lib/python3.11/site-packages/pygments/styles/__init__.py\", line 45, in get_style_by_name\n",
      "ModuleNotFoundError: No module named 'pygments.styles.default'\n",
      "\n",
      "During handling of the above exception, another exception occurred:\n",
      "\n",
      "Traceback (most recent call last):\n",
      "  File \"/Users/evalievanoijen/Downloads/EPA133a-Lab/venv/lib/python3.11/site-packages/IPython/core/interactiveshell.py\", line 2170, in showtraceback\n",
      "  File \"/Users/evalievanoijen/Downloads/EPA133a-Lab/venv/lib/python3.11/site-packages/IPython/core/ultratb.py\", line 1457, in structured_traceback\n",
      "  File \"/Users/evalievanoijen/Downloads/EPA133a-Lab/venv/lib/python3.11/site-packages/IPython/core/ultratb.py\", line 1348, in structured_traceback\n",
      "  File \"/Users/evalievanoijen/Downloads/EPA133a-Lab/venv/lib/python3.11/site-packages/IPython/core/ultratb.py\", line 1195, in structured_traceback\n",
      "  File \"/Users/evalievanoijen/Downloads/EPA133a-Lab/venv/lib/python3.11/site-packages/IPython/core/ultratb.py\", line 1085, in format_exception_as_a_whole\n",
      "  File \"/Users/evalievanoijen/Downloads/EPA133a-Lab/venv/lib/python3.11/site-packages/IPython/core/ultratb.py\", line 1136, in get_records\n",
      "  File \"/Users/evalievanoijen/Downloads/EPA133a-Lab/venv/lib/python3.11/site-packages/pygments/styles/__init__.py\", line 47, in get_style_by_name\n",
      "pygments.util.ClassNotFound: Could not find style module 'pygments.styles.default', though it should be builtin.\n"
     ]
    }
   ],
   "execution_count": 33
  },
  {
   "metadata": {
    "ExecuteTime": {
     "end_time": "2025-06-04T14:31:40.932507Z",
     "start_time": "2025-06-04T14:31:40.924729Z"
    }
   },
   "cell_type": "code",
   "source": "summary",
   "outputs": [
    {
     "name": "stdout",
     "output_type": "stream",
     "text": [
      "Unexpected exception formatting exception. Falling back to standard exception\n",
      "Unexpected exception formatting exception. Falling back to standard exception\n"
     ]
    },
    {
     "name": "stderr",
     "output_type": "stream",
     "text": [
      "Traceback (most recent call last):\n",
      "  File \"/Users/evalievanoijen/Downloads/EPA133a-Lab/venv/lib/python3.11/site-packages/IPython/core/formatters.py\", line 282, in catch_format_error\n",
      "  File \"/Users/evalievanoijen/Downloads/EPA133a-Lab/venv/lib/python3.11/site-packages/IPython/core/formatters.py\", line 770, in __call__\n",
      "  File \"/Users/evalievanoijen/Downloads/EPA133a-Lab/venv/lib/python3.11/site-packages/IPython/lib/pretty.py\", line 419, in pretty\n",
      "  File \"/Users/evalievanoijen/Downloads/EPA133a-Lab/venv/lib/python3.11/site-packages/IPython/lib/pretty.py\", line 794, in _repr_pprint\n",
      "  File \"/Users/evalievanoijen/Downloads/EPA133a-Lab/venv/lib/python3.11/site-packages/pandas/core/frame.py\", line 1133, in __repr__\n",
      "  File \"/Users/evalievanoijen/Downloads/EPA133a-Lab/venv/lib/python3.11/site-packages/pandas/core/frame.py\", line 1310, in to_string\n",
      "  File \"/Users/evalievanoijen/Downloads/EPA133a-Lab/venv/lib/python3.11/site-packages/pandas/io/formats/format.py\", line 1097, in to_string\n",
      "ModuleNotFoundError: No module named 'pandas.io.formats.string'\n",
      "\n",
      "During handling of the above exception, another exception occurred:\n",
      "\n",
      "Traceback (most recent call last):\n",
      "  File \"/Users/evalievanoijen/Downloads/EPA133a-Lab/venv/lib/python3.11/site-packages/pygments/styles/__init__.py\", line 45, in get_style_by_name\n",
      "ModuleNotFoundError: No module named 'pygments.styles.default'\n",
      "\n",
      "During handling of the above exception, another exception occurred:\n",
      "\n",
      "Traceback (most recent call last):\n",
      "  File \"/Users/evalievanoijen/Downloads/EPA133a-Lab/venv/lib/python3.11/site-packages/IPython/core/interactiveshell.py\", line 2170, in showtraceback\n",
      "  File \"/Users/evalievanoijen/Downloads/EPA133a-Lab/venv/lib/python3.11/site-packages/IPython/core/ultratb.py\", line 1457, in structured_traceback\n",
      "  File \"/Users/evalievanoijen/Downloads/EPA133a-Lab/venv/lib/python3.11/site-packages/IPython/core/ultratb.py\", line 1348, in structured_traceback\n",
      "  File \"/Users/evalievanoijen/Downloads/EPA133a-Lab/venv/lib/python3.11/site-packages/IPython/core/ultratb.py\", line 1195, in structured_traceback\n",
      "  File \"/Users/evalievanoijen/Downloads/EPA133a-Lab/venv/lib/python3.11/site-packages/IPython/core/ultratb.py\", line 1085, in format_exception_as_a_whole\n",
      "  File \"/Users/evalievanoijen/Downloads/EPA133a-Lab/venv/lib/python3.11/site-packages/IPython/core/ultratb.py\", line 1136, in get_records\n",
      "  File \"/Users/evalievanoijen/Downloads/EPA133a-Lab/venv/lib/python3.11/site-packages/pygments/styles/__init__.py\", line 47, in get_style_by_name\n",
      "pygments.util.ClassNotFound: Could not find style module 'pygments.styles.default', though it should be builtin.\n",
      "Traceback (most recent call last):\n",
      "  File \"/Users/evalievanoijen/Downloads/EPA133a-Lab/venv/lib/python3.11/site-packages/IPython/core/formatters.py\", line 282, in catch_format_error\n",
      "  File \"/Users/evalievanoijen/Downloads/EPA133a-Lab/venv/lib/python3.11/site-packages/IPython/core/formatters.py\", line 406, in __call__\n",
      "  File \"/Users/evalievanoijen/Downloads/EPA133a-Lab/venv/lib/python3.11/site-packages/pandas/core/frame.py\", line 1175, in _repr_html_\n",
      "  File \"/Users/evalievanoijen/Downloads/EPA133a-Lab/venv/lib/python3.11/site-packages/pandas/io/formats/format.py\", line 1060, in to_html\n",
      "ModuleNotFoundError: No module named 'pandas.io.formats.html'\n",
      "\n",
      "During handling of the above exception, another exception occurred:\n",
      "\n",
      "Traceback (most recent call last):\n",
      "  File \"/Users/evalievanoijen/Downloads/EPA133a-Lab/venv/lib/python3.11/site-packages/pygments/styles/__init__.py\", line 45, in get_style_by_name\n",
      "ModuleNotFoundError: No module named 'pygments.styles.default'\n",
      "\n",
      "During handling of the above exception, another exception occurred:\n",
      "\n",
      "Traceback (most recent call last):\n",
      "  File \"/Users/evalievanoijen/Downloads/EPA133a-Lab/venv/lib/python3.11/site-packages/IPython/core/interactiveshell.py\", line 2170, in showtraceback\n",
      "  File \"/Users/evalievanoijen/Downloads/EPA133a-Lab/venv/lib/python3.11/site-packages/IPython/core/ultratb.py\", line 1457, in structured_traceback\n",
      "  File \"/Users/evalievanoijen/Downloads/EPA133a-Lab/venv/lib/python3.11/site-packages/IPython/core/ultratb.py\", line 1348, in structured_traceback\n",
      "  File \"/Users/evalievanoijen/Downloads/EPA133a-Lab/venv/lib/python3.11/site-packages/IPython/core/ultratb.py\", line 1195, in structured_traceback\n",
      "  File \"/Users/evalievanoijen/Downloads/EPA133a-Lab/venv/lib/python3.11/site-packages/IPython/core/ultratb.py\", line 1085, in format_exception_as_a_whole\n",
      "  File \"/Users/evalievanoijen/Downloads/EPA133a-Lab/venv/lib/python3.11/site-packages/IPython/core/ultratb.py\", line 1136, in get_records\n",
      "  File \"/Users/evalievanoijen/Downloads/EPA133a-Lab/venv/lib/python3.11/site-packages/pygments/styles/__init__.py\", line 47, in get_style_by_name\n",
      "pygments.util.ClassNotFound: Could not find style module 'pygments.styles.default', though it should be builtin.\n"
     ]
    }
   ],
   "execution_count": 19
  },
  {
   "cell_type": "code",
   "metadata": {
    "ExecuteTime": {
     "end_time": "2025-06-04T14:31:41.367962Z",
     "start_time": "2025-06-04T14:31:41.365852Z"
    }
   },
   "source": [
    "# # defining specific policies\n",
    "# # for example, policy 1 is about extra protection in upper boundary\n",
    "# # policy 2 is about extra protection in lower boundary\n",
    "# # policy 3 is extra protection in random locations\n",
    "#\n",
    "#\n",
    "# def get_do_nothing_dict():\n",
    "#     return {l.name: 0 for l in dike_model.levers}\n",
    "#\n",
    "#\n",
    "# policies = [\n",
    "#     Policy(\n",
    "#         \"policy 1\",\n",
    "#         **dict(\n",
    "#             get_do_nothing_dict(),\n",
    "#             **{\"0_RfR 0\": 1, \"0_RfR 1\": 1, \"0_RfR 2\": 1, \"A.1_DikeIncrease 0\": 5}\n",
    "#         )\n",
    "#     ),\n",
    "#     Policy(\n",
    "#         \"policy 2\",\n",
    "#         **dict(\n",
    "#             get_do_nothing_dict(),\n",
    "#             **{\"4_RfR 0\": 1, \"4_RfR 1\": 1, \"4_RfR 2\": 1, \"A.5_DikeIncrease 0\": 5}\n",
    "#         )\n",
    "#     ),\n",
    "#     Policy(\n",
    "#         \"policy 3\",\n",
    "#         **dict(\n",
    "#             get_do_nothing_dict(),\n",
    "#             **{\"1_RfR 0\": 1, \"2_RfR 1\": 1, \"3_RfR 2\": 1, \"A.3_DikeIncrease 0\": 5}\n",
    "#         )\n",
    "#     ),\n",
    "# ]"
   ],
   "outputs": [],
   "execution_count": 20
  },
  {
   "cell_type": "code",
   "metadata": {
    "ExecuteTime": {
     "end_time": "2025-06-04T14:31:41.636246Z",
     "start_time": "2025-06-04T14:31:41.634148Z"
    }
   },
   "source": [
    "# # pass the policies list to EMA workbench experiment runs\n",
    "# n_scenarios = 100\n",
    "# with MultiprocessingEvaluator(dike_model) as evaluator:\n",
    "#     results = evaluator.perform_experiments(n_scenarios, policies)"
   ],
   "outputs": [],
   "execution_count": 21
  },
  {
   "cell_type": "code",
   "metadata": {
    "ExecuteTime": {
     "end_time": "2025-06-04T14:31:41.863529Z",
     "start_time": "2025-06-04T14:31:41.861668Z"
    }
   },
   "source": "# experiments, outcomes = results",
   "outputs": [],
   "execution_count": 22
  },
  {
   "cell_type": "code",
   "metadata": {
    "ExecuteTime": {
     "end_time": "2025-06-04T14:31:42.076159Z",
     "start_time": "2025-06-04T14:31:42.074329Z"
    }
   },
   "source": [
    "# only works because we have scalar outcomes\n",
    "# pd.DataFrame(outcomes)"
   ],
   "outputs": [],
   "execution_count": 23
  },
  {
   "metadata": {
    "ExecuteTime": {
     "end_time": "2025-06-04T14:31:42.252014Z",
     "start_time": "2025-06-04T14:31:42.234285Z"
    }
   },
   "cell_type": "code",
   "source": [
    "sns.pairplot(pd.DataFrame.from_dict(outcomes))\n",
    "plt.show()"
   ],
   "outputs": [
    {
     "name": "stdout",
     "output_type": "stream",
     "text": [
      "Unexpected exception formatting exception. Falling back to standard exception\n"
     ]
    },
    {
     "name": "stderr",
     "output_type": "stream",
     "text": [
      "Traceback (most recent call last):\n",
      "  File \"/Users/evalievanoijen/Downloads/EPA133a-Lab/venv/lib/python3.11/site-packages/IPython/core/interactiveshell.py\", line 3579, in run_code\n",
      "  File \"/var/folders/cq/_rbxzkq17533m5qdt1c__dyw0000gn/T/ipykernel_6141/500585219.py\", line 1, in <module>\n",
      "    sns.pairplot(pd.DataFrame.from_dict(outcomes))\n",
      "  File \"/Users/evalievanoijen/Downloads/EPA133a-Lab/venv/lib/python3.11/site-packages/seaborn/axisgrid.py\", line 2119, in pairplot\n",
      "  File \"/Users/evalievanoijen/Downloads/EPA133a-Lab/venv/lib/python3.11/site-packages/seaborn/axisgrid.py\", line 1280, in __init__\n",
      "  File \"/Users/evalievanoijen/Downloads/EPA133a-Lab/venv/lib/python3.11/site-packages/matplotlib/pyplot.py\", line 1042, in figure\n",
      "  File \"/Users/evalievanoijen/Downloads/EPA133a-Lab/venv/lib/python3.11/site-packages/matplotlib/pyplot.py\", line 551, in new_figure_manager\n",
      "  File \"/Users/evalievanoijen/Downloads/EPA133a-Lab/venv/lib/python3.11/site-packages/matplotlib/pyplot.py\", line 528, in _warn_if_gui_out_of_main_thread\n",
      "  File \"/Users/evalievanoijen/Downloads/EPA133a-Lab/venv/lib/python3.11/site-packages/matplotlib/pyplot.py\", line 369, in _get_backend_mod\n",
      "  File \"/Users/evalievanoijen/Downloads/EPA133a-Lab/venv/lib/python3.11/site-packages/matplotlib/pyplot.py\", line 425, in switch_backend\n",
      "  File \"/Users/evalievanoijen/Downloads/EPA133a-Lab/venv/lib/python3.11/site-packages/matplotlib/backends/registry.py\", line 317, in load_backend_module\n",
      "  File \"/Library/Frameworks/Python.framework/Versions/3.11/lib/python3.11/importlib/__init__.py\", line 126, in import_module\n",
      "    return _bootstrap._gcd_import(name[level:], package, level)\n",
      "           ^^^^^^^^^^^^^^^^^^^^^^^^^^^^^^^^^^^^^^^^^^^^^^^^^^^^\n",
      "  File \"<frozen importlib._bootstrap>\", line 1206, in _gcd_import\n",
      "  File \"<frozen importlib._bootstrap>\", line 1178, in _find_and_load\n",
      "  File \"<frozen importlib._bootstrap>\", line 1128, in _find_and_load_unlocked\n",
      "  File \"<frozen importlib._bootstrap>\", line 241, in _call_with_frames_removed\n",
      "  File \"<frozen importlib._bootstrap>\", line 1206, in _gcd_import\n",
      "  File \"<frozen importlib._bootstrap>\", line 1178, in _find_and_load\n",
      "  File \"<frozen importlib._bootstrap>\", line 1142, in _find_and_load_unlocked\n",
      "ModuleNotFoundError: No module named 'matplotlib_inline'\n",
      "\n",
      "During handling of the above exception, another exception occurred:\n",
      "\n",
      "Traceback (most recent call last):\n",
      "  File \"/Users/evalievanoijen/Downloads/EPA133a-Lab/venv/lib/python3.11/site-packages/pygments/styles/__init__.py\", line 45, in get_style_by_name\n",
      "ModuleNotFoundError: No module named 'pygments.styles.default'\n",
      "\n",
      "During handling of the above exception, another exception occurred:\n",
      "\n",
      "Traceback (most recent call last):\n",
      "  File \"/Users/evalievanoijen/Downloads/EPA133a-Lab/venv/lib/python3.11/site-packages/IPython/core/interactiveshell.py\", line 2170, in showtraceback\n",
      "  File \"/Users/evalievanoijen/Downloads/EPA133a-Lab/venv/lib/python3.11/site-packages/IPython/core/ultratb.py\", line 1457, in structured_traceback\n",
      "  File \"/Users/evalievanoijen/Downloads/EPA133a-Lab/venv/lib/python3.11/site-packages/IPython/core/ultratb.py\", line 1348, in structured_traceback\n",
      "  File \"/Users/evalievanoijen/Downloads/EPA133a-Lab/venv/lib/python3.11/site-packages/IPython/core/ultratb.py\", line 1195, in structured_traceback\n",
      "  File \"/Users/evalievanoijen/Downloads/EPA133a-Lab/venv/lib/python3.11/site-packages/IPython/core/ultratb.py\", line 1085, in format_exception_as_a_whole\n",
      "  File \"/Users/evalievanoijen/Downloads/EPA133a-Lab/venv/lib/python3.11/site-packages/IPython/core/ultratb.py\", line 1136, in get_records\n",
      "  File \"/Users/evalievanoijen/Downloads/EPA133a-Lab/venv/lib/python3.11/site-packages/pygments/styles/__init__.py\", line 47, in get_style_by_name\n",
      "pygments.util.ClassNotFound: Could not find style module 'pygments.styles.default', though it should be builtin.\n"
     ]
    }
   ],
   "execution_count": 24
  },
  {
   "metadata": {
    "ExecuteTime": {
     "end_time": "2025-06-04T14:31:43.124525Z",
     "start_time": "2025-06-04T14:31:43.075552Z"
    }
   },
   "cell_type": "code",
   "source": [
    "policies = experiments['policy']\n",
    "\n",
    "data = pd.DataFrame.from_dict(outcomes)\n",
    "data['policy'] = policies\n",
    "\n",
    "sns.pairplot(data, hue='policy',  vars=outcomes.keys())\n",
    "plt.show()"
   ],
   "outputs": [
    {
     "name": "stdout",
     "output_type": "stream",
     "text": [
      "Unexpected exception formatting exception. Falling back to standard exception\n"
     ]
    },
    {
     "name": "stderr",
     "output_type": "stream",
     "text": [
      "Traceback (most recent call last):\n",
      "  File \"/Users/evalievanoijen/Downloads/EPA133a-Lab/venv/lib/python3.11/site-packages/IPython/core/interactiveshell.py\", line 3579, in run_code\n",
      "  File \"/var/folders/cq/_rbxzkq17533m5qdt1c__dyw0000gn/T/ipykernel_6141/4030707497.py\", line 6, in <module>\n",
      "    sns.pairplot(data, hue='policy',  vars=outcomes.keys())\n",
      "  File \"/Users/evalievanoijen/Downloads/EPA133a-Lab/venv/lib/python3.11/site-packages/seaborn/axisgrid.py\", line 2119, in pairplot\n",
      "  File \"/Users/evalievanoijen/Downloads/EPA133a-Lab/venv/lib/python3.11/site-packages/seaborn/axisgrid.py\", line 1280, in __init__\n",
      "  File \"/Users/evalievanoijen/Downloads/EPA133a-Lab/venv/lib/python3.11/site-packages/matplotlib/pyplot.py\", line 1042, in figure\n",
      "  File \"/Users/evalievanoijen/Downloads/EPA133a-Lab/venv/lib/python3.11/site-packages/matplotlib/pyplot.py\", line 551, in new_figure_manager\n",
      "  File \"/Users/evalievanoijen/Downloads/EPA133a-Lab/venv/lib/python3.11/site-packages/matplotlib/pyplot.py\", line 528, in _warn_if_gui_out_of_main_thread\n",
      "  File \"/Users/evalievanoijen/Downloads/EPA133a-Lab/venv/lib/python3.11/site-packages/matplotlib/pyplot.py\", line 369, in _get_backend_mod\n",
      "  File \"/Users/evalievanoijen/Downloads/EPA133a-Lab/venv/lib/python3.11/site-packages/matplotlib/pyplot.py\", line 425, in switch_backend\n",
      "  File \"/Users/evalievanoijen/Downloads/EPA133a-Lab/venv/lib/python3.11/site-packages/matplotlib/backends/registry.py\", line 317, in load_backend_module\n",
      "  File \"/Library/Frameworks/Python.framework/Versions/3.11/lib/python3.11/importlib/__init__.py\", line 126, in import_module\n",
      "    return _bootstrap._gcd_import(name[level:], package, level)\n",
      "           ^^^^^^^^^^^^^^^^^^^^^^^^^^^^^^^^^^^^^^^^^^^^^^^^^^^^\n",
      "  File \"<frozen importlib._bootstrap>\", line 1206, in _gcd_import\n",
      "  File \"<frozen importlib._bootstrap>\", line 1178, in _find_and_load\n",
      "  File \"<frozen importlib._bootstrap>\", line 1128, in _find_and_load_unlocked\n",
      "  File \"<frozen importlib._bootstrap>\", line 241, in _call_with_frames_removed\n",
      "  File \"<frozen importlib._bootstrap>\", line 1206, in _gcd_import\n",
      "  File \"<frozen importlib._bootstrap>\", line 1178, in _find_and_load\n",
      "  File \"<frozen importlib._bootstrap>\", line 1142, in _find_and_load_unlocked\n",
      "ModuleNotFoundError: No module named 'matplotlib_inline'\n",
      "\n",
      "During handling of the above exception, another exception occurred:\n",
      "\n",
      "Traceback (most recent call last):\n",
      "  File \"/Users/evalievanoijen/Downloads/EPA133a-Lab/venv/lib/python3.11/site-packages/pygments/styles/__init__.py\", line 45, in get_style_by_name\n",
      "ModuleNotFoundError: No module named 'pygments.styles.default'\n",
      "\n",
      "During handling of the above exception, another exception occurred:\n",
      "\n",
      "Traceback (most recent call last):\n",
      "  File \"/Users/evalievanoijen/Downloads/EPA133a-Lab/venv/lib/python3.11/site-packages/IPython/core/interactiveshell.py\", line 2170, in showtraceback\n",
      "  File \"/Users/evalievanoijen/Downloads/EPA133a-Lab/venv/lib/python3.11/site-packages/IPython/core/ultratb.py\", line 1457, in structured_traceback\n",
      "  File \"/Users/evalievanoijen/Downloads/EPA133a-Lab/venv/lib/python3.11/site-packages/IPython/core/ultratb.py\", line 1348, in structured_traceback\n",
      "  File \"/Users/evalievanoijen/Downloads/EPA133a-Lab/venv/lib/python3.11/site-packages/IPython/core/ultratb.py\", line 1195, in structured_traceback\n",
      "  File \"/Users/evalievanoijen/Downloads/EPA133a-Lab/venv/lib/python3.11/site-packages/IPython/core/ultratb.py\", line 1085, in format_exception_as_a_whole\n",
      "  File \"/Users/evalievanoijen/Downloads/EPA133a-Lab/venv/lib/python3.11/site-packages/IPython/core/ultratb.py\", line 1136, in get_records\n",
      "  File \"/Users/evalievanoijen/Downloads/EPA133a-Lab/venv/lib/python3.11/site-packages/pygments/styles/__init__.py\", line 47, in get_style_by_name\n",
      "pygments.util.ClassNotFound: Could not find style module 'pygments.styles.default', though it should be builtin.\n"
     ]
    }
   ],
   "execution_count": 25
  },
  {
   "metadata": {
    "ExecuteTime": {
     "end_time": "2025-06-04T14:31:43.143597Z",
     "start_time": "2025-06-02T13:52:36.224419Z"
    }
   },
   "cell_type": "code",
   "source": [
    "from ema_workbench import save_results\n",
    "\n",
    "\n",
    "save_results(results, 'dike_open_exploration_results.tar.gz')"
   ],
   "outputs": [
    {
     "name": "stderr",
     "output_type": "stream",
     "text": [
      "[MainProcess/INFO] results saved successfully to /Users/evalievanoijen/PycharmProjects/group25_mbdm/final assignment/dike_open_exploration_results.tar.gz\n"
     ]
    }
   ],
   "execution_count": 39
  },
  {
   "metadata": {},
   "cell_type": "code",
   "outputs": [],
   "execution_count": null,
   "source": ""
  }
 ],
 "metadata": {
  "kernelspec": {
   "display_name": "Python 3 (ipykernel)",
   "language": "python",
   "name": "python3"
  },
  "language_info": {
   "codemirror_mode": {
    "name": "ipython",
    "version": 3
   },
   "file_extension": ".py",
   "mimetype": "text/x-python",
   "name": "python",
   "nbconvert_exporter": "python",
   "pygments_lexer": "ipython3",
   "version": "3.12.8"
  }
 },
 "nbformat": 4,
 "nbformat_minor": 4
}
