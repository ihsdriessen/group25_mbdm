{
 "cells": [
  {
   "metadata": {},
   "cell_type": "markdown",
   "source": [
    "# Dikemodel continued - subspace partitioning\n",
    "\n",
    "Scenario discovery.... (nog uitleg toevoegen)"
   ]
  },
  {
   "metadata": {},
   "cell_type": "markdown",
   "source": [
    "## 1. Apply scenario discovery\n",
    "\n",
    "**1.** Import model from Open Exploration"
   ]
  },
  {
   "metadata": {
    "ExecuteTime": {
     "end_time": "2025-05-29T10:20:13.662139Z",
     "start_time": "2025-05-29T10:20:13.659467Z"
    }
   },
   "cell_type": "code",
   "source": [
    "import numpy as np\n",
    "import matplotlib.pyplot as plt\n",
    "import seaborn as sns\n",
    "import pandas as pd"
   ],
   "outputs": [],
   "execution_count": 47
  },
  {
   "metadata": {
    "ExecuteTime": {
     "end_time": "2025-05-29T10:20:13.989089Z",
     "start_time": "2025-05-29T10:20:13.985117Z"
    }
   },
   "cell_type": "code",
   "source": [
    "from ema_workbench import (\n",
    "    Model,\n",
    "    Policy,\n",
    "    ema_logging,\n",
    "    SequentialEvaluator,\n",
    "    MultiprocessingEvaluator,\n",
    ")\n",
    "from dike_model_function import DikeNetwork  # @UnresolvedImport\n",
    "from problem_formulation2 import get_model_for_problem_formulation, sum_over, sum_over_time"
   ],
   "outputs": [],
   "execution_count": 48
  },
  {
   "metadata": {},
   "cell_type": "markdown",
   "source": [
    "**2.** Import results from Open Exploration\n",
    "\n",
    "bla bla importeren en levers weghalen\n",
    "\n"
   ]
  },
  {
   "metadata": {
    "ExecuteTime": {
     "end_time": "2025-05-29T10:20:14.350397Z",
     "start_time": "2025-05-29T10:20:14.331689Z"
    }
   },
   "cell_type": "code",
   "source": [
    "from ema_workbench import load_results\n",
    "\n",
    "# Laad de resultaten\n",
    "results = load_results('dike_open_exploration_results.tar.gz')\n",
    "experiments, outcomes = results\n",
    "\n",
    "lever_columns = [\n",
    "    '0_RfR 0', '0_RfR 1', '0_RfR 2',\n",
    "    '1_RfR 0', '1_RfR 1', '1_RfR 2',\n",
    "    '2_RfR 0', '2_RfR 1', '2_RfR 2',\n",
    "    '3_RfR 0', '3_RfR 1', '3_RfR 2',\n",
    "    '4_RfR 0', '4_RfR 1', '4_RfR 2',\n",
    "    'EWS_DaysToThreat',\n",
    "    'A.1_DikeIncrease 0', 'A.1_DikeIncrease 1', 'A.1_DikeIncrease 2',\n",
    "    'A.2_DikeIncrease 0', 'A.2_DikeIncrease 1', 'A.2_DikeIncrease 2',\n",
    "    'A.3_DikeIncrease 0', 'A.3_DikeIncrease 1', 'A.3_DikeIncrease 2',\n",
    "    'A.4_DikeIncrease 0', 'A.4_DikeIncrease 1', 'A.4_DikeIncrease 2',\n",
    "    'A.5_DikeIncrease 0', 'A.5_DikeIncrease 1', 'A.5_DikeIncrease 2'\n",
    "]\n",
    "\n",
    "cleaned_experiments = experiments.drop(columns=lever_columns)"
   ],
   "outputs": [],
   "execution_count": 49
  },
  {
   "metadata": {
    "ExecuteTime": {
     "end_time": "2025-05-29T10:20:34.598937Z",
     "start_time": "2025-05-29T10:20:34.562670Z"
    }
   },
   "cell_type": "code",
   "source": "cleaned_experiments",
   "outputs": [
    {
     "data": {
      "text/plain": [
       "     A.0_ID flood wave shape    A.1_Bmax A.1_Brate  A.1_pfail    A.2_Bmax  \\\n",
       "0                         39  206.369858       1.5   0.297196   89.480169   \n",
       "1                        109  173.683129      10.0   0.316656   50.423047   \n",
       "2                         82  198.772273       1.0   0.726503  323.423649   \n",
       "3                         74  259.411232       1.0   0.880120  161.165257   \n",
       "4                         88  338.823271       1.0   0.388168  226.808235   \n",
       "..                       ...         ...       ...        ...         ...   \n",
       "295                       57   84.413980       1.5   0.346576   52.809837   \n",
       "296                       98   36.370681      10.0   0.393455  124.186507   \n",
       "297                        2  159.787495       1.5   0.401006  275.519899   \n",
       "298                       43   64.810351      10.0   0.323329  100.596137   \n",
       "299                       55  107.129631       1.5   0.875168  242.661362   \n",
       "\n",
       "    A.2_Brate  A.2_pfail    A.3_Bmax A.3_Brate  A.3_pfail  ...  A.4_pfail  \\\n",
       "0         1.0   0.065777   96.047121       1.5   0.908267  ...   0.039788   \n",
       "1         1.5   0.184736  145.256534       1.0   0.559745  ...   0.153821   \n",
       "2        10.0   0.092229  194.003745       1.0   0.535525  ...   0.763177   \n",
       "3         1.5   0.835101  320.659631       1.0   0.223196  ...   0.819081   \n",
       "4         1.5   0.013840  155.432483       1.0   0.716914  ...   0.740312   \n",
       "..        ...        ...         ...       ...        ...  ...        ...   \n",
       "295      10.0   0.395087   65.045048       1.0   0.421916  ...   0.289524   \n",
       "296       1.0   0.499576  267.713174       1.5   0.100441  ...   0.697364   \n",
       "297       1.0   0.261897  345.535205       1.0   0.835366  ...   0.474896   \n",
       "298      10.0   0.849774  304.957707       1.0   0.318063  ...   0.001846   \n",
       "299       1.5   0.600938  167.604348      10.0   0.687505  ...   0.059391   \n",
       "\n",
       "       A.5_Bmax  A.5_Brate  A.5_pfail discount rate 0  discount rate 1  \\\n",
       "0    315.355142        1.0   0.174500             2.5              1.5   \n",
       "1     84.334553        1.0   0.599053             1.5              2.5   \n",
       "2    117.823468        1.0   0.809344             2.5              3.5   \n",
       "3    325.876512        1.5   0.909135             2.5              3.5   \n",
       "4     46.423107       10.0   0.114891             1.5              4.5   \n",
       "..          ...        ...        ...             ...              ...   \n",
       "295  292.966827       10.0   0.638070             1.5              1.5   \n",
       "296  345.475555        1.5   0.690914             2.5              1.5   \n",
       "297  271.620923        1.0   0.822970             1.5              2.5   \n",
       "298  196.816251        1.5   0.888847             4.5              1.5   \n",
       "299  194.025399        1.5   0.725149             3.5              1.5   \n",
       "\n",
       "    discount rate 2 scenario    policy     model  \n",
       "0               4.5      475  policy 1  dikesnet  \n",
       "1               3.5      476  policy 1  dikesnet  \n",
       "2               1.5      477  policy 1  dikesnet  \n",
       "3               2.5      478  policy 1  dikesnet  \n",
       "4               3.5      479  policy 1  dikesnet  \n",
       "..              ...      ...       ...       ...  \n",
       "295             1.5      570  policy 3  dikesnet  \n",
       "296             2.5      571  policy 3  dikesnet  \n",
       "297             4.5      572  policy 3  dikesnet  \n",
       "298             2.5      573  policy 3  dikesnet  \n",
       "299             3.5      574  policy 3  dikesnet  \n",
       "\n",
       "[300 rows x 22 columns]"
      ],
      "text/html": [
       "<div>\n",
       "<style scoped>\n",
       "    .dataframe tbody tr th:only-of-type {\n",
       "        vertical-align: middle;\n",
       "    }\n",
       "\n",
       "    .dataframe tbody tr th {\n",
       "        vertical-align: top;\n",
       "    }\n",
       "\n",
       "    .dataframe thead th {\n",
       "        text-align: right;\n",
       "    }\n",
       "</style>\n",
       "<table border=\"1\" class=\"dataframe\">\n",
       "  <thead>\n",
       "    <tr style=\"text-align: right;\">\n",
       "      <th></th>\n",
       "      <th>A.0_ID flood wave shape</th>\n",
       "      <th>A.1_Bmax</th>\n",
       "      <th>A.1_Brate</th>\n",
       "      <th>A.1_pfail</th>\n",
       "      <th>A.2_Bmax</th>\n",
       "      <th>A.2_Brate</th>\n",
       "      <th>A.2_pfail</th>\n",
       "      <th>A.3_Bmax</th>\n",
       "      <th>A.3_Brate</th>\n",
       "      <th>A.3_pfail</th>\n",
       "      <th>...</th>\n",
       "      <th>A.4_pfail</th>\n",
       "      <th>A.5_Bmax</th>\n",
       "      <th>A.5_Brate</th>\n",
       "      <th>A.5_pfail</th>\n",
       "      <th>discount rate 0</th>\n",
       "      <th>discount rate 1</th>\n",
       "      <th>discount rate 2</th>\n",
       "      <th>scenario</th>\n",
       "      <th>policy</th>\n",
       "      <th>model</th>\n",
       "    </tr>\n",
       "  </thead>\n",
       "  <tbody>\n",
       "    <tr>\n",
       "      <th>0</th>\n",
       "      <td>39</td>\n",
       "      <td>206.369858</td>\n",
       "      <td>1.5</td>\n",
       "      <td>0.297196</td>\n",
       "      <td>89.480169</td>\n",
       "      <td>1.0</td>\n",
       "      <td>0.065777</td>\n",
       "      <td>96.047121</td>\n",
       "      <td>1.5</td>\n",
       "      <td>0.908267</td>\n",
       "      <td>...</td>\n",
       "      <td>0.039788</td>\n",
       "      <td>315.355142</td>\n",
       "      <td>1.0</td>\n",
       "      <td>0.174500</td>\n",
       "      <td>2.5</td>\n",
       "      <td>1.5</td>\n",
       "      <td>4.5</td>\n",
       "      <td>475</td>\n",
       "      <td>policy 1</td>\n",
       "      <td>dikesnet</td>\n",
       "    </tr>\n",
       "    <tr>\n",
       "      <th>1</th>\n",
       "      <td>109</td>\n",
       "      <td>173.683129</td>\n",
       "      <td>10.0</td>\n",
       "      <td>0.316656</td>\n",
       "      <td>50.423047</td>\n",
       "      <td>1.5</td>\n",
       "      <td>0.184736</td>\n",
       "      <td>145.256534</td>\n",
       "      <td>1.0</td>\n",
       "      <td>0.559745</td>\n",
       "      <td>...</td>\n",
       "      <td>0.153821</td>\n",
       "      <td>84.334553</td>\n",
       "      <td>1.0</td>\n",
       "      <td>0.599053</td>\n",
       "      <td>1.5</td>\n",
       "      <td>2.5</td>\n",
       "      <td>3.5</td>\n",
       "      <td>476</td>\n",
       "      <td>policy 1</td>\n",
       "      <td>dikesnet</td>\n",
       "    </tr>\n",
       "    <tr>\n",
       "      <th>2</th>\n",
       "      <td>82</td>\n",
       "      <td>198.772273</td>\n",
       "      <td>1.0</td>\n",
       "      <td>0.726503</td>\n",
       "      <td>323.423649</td>\n",
       "      <td>10.0</td>\n",
       "      <td>0.092229</td>\n",
       "      <td>194.003745</td>\n",
       "      <td>1.0</td>\n",
       "      <td>0.535525</td>\n",
       "      <td>...</td>\n",
       "      <td>0.763177</td>\n",
       "      <td>117.823468</td>\n",
       "      <td>1.0</td>\n",
       "      <td>0.809344</td>\n",
       "      <td>2.5</td>\n",
       "      <td>3.5</td>\n",
       "      <td>1.5</td>\n",
       "      <td>477</td>\n",
       "      <td>policy 1</td>\n",
       "      <td>dikesnet</td>\n",
       "    </tr>\n",
       "    <tr>\n",
       "      <th>3</th>\n",
       "      <td>74</td>\n",
       "      <td>259.411232</td>\n",
       "      <td>1.0</td>\n",
       "      <td>0.880120</td>\n",
       "      <td>161.165257</td>\n",
       "      <td>1.5</td>\n",
       "      <td>0.835101</td>\n",
       "      <td>320.659631</td>\n",
       "      <td>1.0</td>\n",
       "      <td>0.223196</td>\n",
       "      <td>...</td>\n",
       "      <td>0.819081</td>\n",
       "      <td>325.876512</td>\n",
       "      <td>1.5</td>\n",
       "      <td>0.909135</td>\n",
       "      <td>2.5</td>\n",
       "      <td>3.5</td>\n",
       "      <td>2.5</td>\n",
       "      <td>478</td>\n",
       "      <td>policy 1</td>\n",
       "      <td>dikesnet</td>\n",
       "    </tr>\n",
       "    <tr>\n",
       "      <th>4</th>\n",
       "      <td>88</td>\n",
       "      <td>338.823271</td>\n",
       "      <td>1.0</td>\n",
       "      <td>0.388168</td>\n",
       "      <td>226.808235</td>\n",
       "      <td>1.5</td>\n",
       "      <td>0.013840</td>\n",
       "      <td>155.432483</td>\n",
       "      <td>1.0</td>\n",
       "      <td>0.716914</td>\n",
       "      <td>...</td>\n",
       "      <td>0.740312</td>\n",
       "      <td>46.423107</td>\n",
       "      <td>10.0</td>\n",
       "      <td>0.114891</td>\n",
       "      <td>1.5</td>\n",
       "      <td>4.5</td>\n",
       "      <td>3.5</td>\n",
       "      <td>479</td>\n",
       "      <td>policy 1</td>\n",
       "      <td>dikesnet</td>\n",
       "    </tr>\n",
       "    <tr>\n",
       "      <th>...</th>\n",
       "      <td>...</td>\n",
       "      <td>...</td>\n",
       "      <td>...</td>\n",
       "      <td>...</td>\n",
       "      <td>...</td>\n",
       "      <td>...</td>\n",
       "      <td>...</td>\n",
       "      <td>...</td>\n",
       "      <td>...</td>\n",
       "      <td>...</td>\n",
       "      <td>...</td>\n",
       "      <td>...</td>\n",
       "      <td>...</td>\n",
       "      <td>...</td>\n",
       "      <td>...</td>\n",
       "      <td>...</td>\n",
       "      <td>...</td>\n",
       "      <td>...</td>\n",
       "      <td>...</td>\n",
       "      <td>...</td>\n",
       "      <td>...</td>\n",
       "    </tr>\n",
       "    <tr>\n",
       "      <th>295</th>\n",
       "      <td>57</td>\n",
       "      <td>84.413980</td>\n",
       "      <td>1.5</td>\n",
       "      <td>0.346576</td>\n",
       "      <td>52.809837</td>\n",
       "      <td>10.0</td>\n",
       "      <td>0.395087</td>\n",
       "      <td>65.045048</td>\n",
       "      <td>1.0</td>\n",
       "      <td>0.421916</td>\n",
       "      <td>...</td>\n",
       "      <td>0.289524</td>\n",
       "      <td>292.966827</td>\n",
       "      <td>10.0</td>\n",
       "      <td>0.638070</td>\n",
       "      <td>1.5</td>\n",
       "      <td>1.5</td>\n",
       "      <td>1.5</td>\n",
       "      <td>570</td>\n",
       "      <td>policy 3</td>\n",
       "      <td>dikesnet</td>\n",
       "    </tr>\n",
       "    <tr>\n",
       "      <th>296</th>\n",
       "      <td>98</td>\n",
       "      <td>36.370681</td>\n",
       "      <td>10.0</td>\n",
       "      <td>0.393455</td>\n",
       "      <td>124.186507</td>\n",
       "      <td>1.0</td>\n",
       "      <td>0.499576</td>\n",
       "      <td>267.713174</td>\n",
       "      <td>1.5</td>\n",
       "      <td>0.100441</td>\n",
       "      <td>...</td>\n",
       "      <td>0.697364</td>\n",
       "      <td>345.475555</td>\n",
       "      <td>1.5</td>\n",
       "      <td>0.690914</td>\n",
       "      <td>2.5</td>\n",
       "      <td>1.5</td>\n",
       "      <td>2.5</td>\n",
       "      <td>571</td>\n",
       "      <td>policy 3</td>\n",
       "      <td>dikesnet</td>\n",
       "    </tr>\n",
       "    <tr>\n",
       "      <th>297</th>\n",
       "      <td>2</td>\n",
       "      <td>159.787495</td>\n",
       "      <td>1.5</td>\n",
       "      <td>0.401006</td>\n",
       "      <td>275.519899</td>\n",
       "      <td>1.0</td>\n",
       "      <td>0.261897</td>\n",
       "      <td>345.535205</td>\n",
       "      <td>1.0</td>\n",
       "      <td>0.835366</td>\n",
       "      <td>...</td>\n",
       "      <td>0.474896</td>\n",
       "      <td>271.620923</td>\n",
       "      <td>1.0</td>\n",
       "      <td>0.822970</td>\n",
       "      <td>1.5</td>\n",
       "      <td>2.5</td>\n",
       "      <td>4.5</td>\n",
       "      <td>572</td>\n",
       "      <td>policy 3</td>\n",
       "      <td>dikesnet</td>\n",
       "    </tr>\n",
       "    <tr>\n",
       "      <th>298</th>\n",
       "      <td>43</td>\n",
       "      <td>64.810351</td>\n",
       "      <td>10.0</td>\n",
       "      <td>0.323329</td>\n",
       "      <td>100.596137</td>\n",
       "      <td>10.0</td>\n",
       "      <td>0.849774</td>\n",
       "      <td>304.957707</td>\n",
       "      <td>1.0</td>\n",
       "      <td>0.318063</td>\n",
       "      <td>...</td>\n",
       "      <td>0.001846</td>\n",
       "      <td>196.816251</td>\n",
       "      <td>1.5</td>\n",
       "      <td>0.888847</td>\n",
       "      <td>4.5</td>\n",
       "      <td>1.5</td>\n",
       "      <td>2.5</td>\n",
       "      <td>573</td>\n",
       "      <td>policy 3</td>\n",
       "      <td>dikesnet</td>\n",
       "    </tr>\n",
       "    <tr>\n",
       "      <th>299</th>\n",
       "      <td>55</td>\n",
       "      <td>107.129631</td>\n",
       "      <td>1.5</td>\n",
       "      <td>0.875168</td>\n",
       "      <td>242.661362</td>\n",
       "      <td>1.5</td>\n",
       "      <td>0.600938</td>\n",
       "      <td>167.604348</td>\n",
       "      <td>10.0</td>\n",
       "      <td>0.687505</td>\n",
       "      <td>...</td>\n",
       "      <td>0.059391</td>\n",
       "      <td>194.025399</td>\n",
       "      <td>1.5</td>\n",
       "      <td>0.725149</td>\n",
       "      <td>3.5</td>\n",
       "      <td>1.5</td>\n",
       "      <td>3.5</td>\n",
       "      <td>574</td>\n",
       "      <td>policy 3</td>\n",
       "      <td>dikesnet</td>\n",
       "    </tr>\n",
       "  </tbody>\n",
       "</table>\n",
       "<p>300 rows × 22 columns</p>\n",
       "</div>"
      ]
     },
     "execution_count": 51,
     "metadata": {},
     "output_type": "execute_result"
    }
   ],
   "execution_count": 51
  },
  {
   "metadata": {},
   "cell_type": "markdown",
   "source": [
    "**3.** Apply scenario discovery\n",
    "\n",
    "neem de data die onder de 36970.... aan kosten is, doe daar een prim analyse op. je krijgt leuk plaatje"
   ]
  },
  {
   "metadata": {
    "ExecuteTime": {
     "end_time": "2025-05-29T10:24:22.550870Z",
     "start_time": "2025-05-29T10:24:22.463322Z"
    }
   },
   "cell_type": "code",
   "source": [
    "from ema_workbench.analysis import prim\n",
    "import numpy as np\n",
    "\n",
    "# Stel een vulnerability-condition in op basis van een relevante outcome\n",
    "data = outcomes['RfR Total Costs']\n",
    "# y = data > np.percentile(data, 90)\n",
    "y = (data <= 369700000).astype(bool)\n",
    "#y = (data < np.percentile(data, 10)).astype(int)  # of .astype(bool)\n",
    "\n",
    "# PRIM-analyse\n",
    "#prim_alg = prim.Prim(cleaned_experiments, y, threshold=0.8, mode='BINARY')  # expliciet maken\n",
    "\n",
    "prim_alg = prim.Prim(cleaned_experiments, y, threshold=0.8)\n",
    "box1 = prim_alg.find_box()\n",
    "box1.show_tradeoff()\n",
    "plt.show()\n"
   ],
   "outputs": [
    {
     "data": {
      "text/plain": [
       "<Figure size 640x480 with 2 Axes>"
      ],
      "image/png": "[encoded data removed]"
     },
     "metadata": {},
     "output_type": "display_data"
    }
   ],
   "execution_count": 54
  },
  {
   "metadata": {
    "ExecuteTime": {
     "end_time": "2025-05-29T10:24:28.387821Z",
     "start_time": "2025-05-29T10:24:28.384588Z"
    }
   },
   "cell_type": "code",
   "source": "print(\"Aantal cases of interest:\", np.sum(y))\n",
   "outputs": [
    {
     "name": "stdout",
     "output_type": "stream",
     "text": [
      "Aantal cases of interest: 200\n"
     ]
    }
   ],
   "execution_count": 55
  },
  {
   "metadata": {
    "ExecuteTime": {
     "end_time": "2025-05-29T10:24:29.676311Z",
     "start_time": "2025-05-29T10:24:29.197754Z"
    }
   },
   "cell_type": "code",
   "source": [
    "# PRIM analysis for the 'Expected Annual Damage'\n",
    "# Importing the PRIM analysis included in EMA workbench\n",
    "from ema_workbench.analysis import prim\n",
    "\n",
    "# Specifying the experiments and outcome\n",
    "# For the outcome 'Expected Annual Damage' the threshold is set to keep 30% of the points as cases of interest\n",
    "x = cleaned_experiments\n",
    "y = (outcomes['Expected Annual Damage'] <= 300000000).astype(int)\n",
    "\n",
    "# Executing the PRIM analysis with treshold=0.8, which stands for the minimum coverage threshold that a box should meet\n",
    "prim_alg = prim.Prim(x,y, threshold=0.8)\n",
    "box_damage = prim_alg.find_box()\n",
    "\n",
    "# Creating the trade-off visualisation\n",
    "box_damage.show_tradeoff()\n",
    "plt.show()"
   ],
   "outputs": [
    {
     "data": {
      "text/plain": [
       "<Figure size 640x480 with 2 Axes>"
      ],
      "image/png": "[encoded data removed]"
     },
     "metadata": {},
     "output_type": "display_data"
    }
   ],
   "execution_count": 56
  },
  {
   "metadata": {},
   "cell_type": "markdown",
   "source": [
    "DIT KAN DENK IK WEG. HIER MOET DAN EIGEN TEKST MET UITLEG>\n",
    "\n",
    "This figure shows the trade-off between coverage, density, and the number of restricted dimensions (i.e., a proxy for interpretability). Each dot corresponds to one candidate box. As an analyst, it is up to you to choose which box you want to inspect in more detail. Here you have to balance the three objectives. There is no hard rule that is used here. Note, however, that a density of lower than 0.5 means that less than half of the cases within the box of interest are of interest. So ideally, you start with higher density boxes. Moreover, you want boxes for which the box limits are statistically significant according to the quasi p-values. This means that the last box for a given number of restricted dimensions is also a good candidate box to inspect (here, for example, the last box with 2 dimensions and the last box with 3 dimensions)."
   ]
  },
  {
   "metadata": {
    "ExecuteTime": {
     "end_time": "2025-05-29T10:24:33.975030Z",
     "start_time": "2025-05-29T10:24:33.926840Z"
    }
   },
   "cell_type": "code",
   "source": [
    "box1.inspect(style='graph')\n",
    "plt.show()"
   ],
   "outputs": [
    {
     "data": {
      "text/plain": [
       "<Figure size 640x480 with 1 Axes>"
      ],
      "image/png": "[encoded data removed]"
     },
     "metadata": {},
     "output_type": "display_data"
    }
   ],
   "execution_count": 57
  },
  {
   "metadata": {},
   "cell_type": "markdown",
   "source": "This figure shows in gray the complete interval for each parameter. A blue line is used in the case of RealParameters to show the interval of the box identified by PRIM. For CategoricalParameters, a dot is used instead. The blue numbers give the specific limit. The numbers behind the y-labels indicate the quasi p-values. In the top right-hand corner, you can see the coverage and density of the identified box. So, what do we see in this case. First, both delta and stdev are not significant and should be ignored in the interpretation. This leaves b, q, and some of the policies as the key determinants. So, our top 10% worst performance for reliability occurs if b and q are low and for 6 out of the 10 policies. This covers 56% of the cases of interest, with a precision (i.e. density) of 80%. Now, you would go back to the model and try to understand why you get low reliability if b and q are low."
  },
  {
   "metadata": {},
   "cell_type": "markdown",
   "source": [
    "## 2. Visualize the results using Dimensional Stacking\n",
    "Take the classification of outcomes as used in step 3 of scenario discovery, and instead visualize the results using dimensional stacking. How do these results compare to the insights from scenario discovery?"
   ]
  },
  {
   "metadata": {
    "ExecuteTime": {
     "end_time": "2025-05-29T10:24:40.741373Z",
     "start_time": "2025-05-29T10:24:40.738092Z"
    }
   },
   "cell_type": "code",
   "source": "from ema_workbench.analysis import dimensional_stacking",
   "outputs": [],
   "execution_count": 58
  },
  {
   "metadata": {
    "ExecuteTime": {
     "end_time": "2025-05-29T10:24:41.379288Z",
     "start_time": "2025-05-29T10:24:41.107730Z"
    }
   },
   "cell_type": "code",
   "source": [
    "dimensional_stacking.create_pivot_plot(experiments, y)\n",
    "plt.show()"
   ],
   "outputs": [
    {
     "data": {
      "text/plain": [
       "<Figure size 1000x1000 with 4 Axes>"
      ],
      "image/png": "[encoded data removed]"
     },
     "metadata": {},
     "output_type": "display_data"
    }
   ],
   "execution_count": 59
  },
  {
   "metadata": {},
   "cell_type": "markdown",
   "source": [
    "DIT KAN WRS WEG. EIGEN TEKST HIER\n",
    "\n",
    "As you can see, with the additional runs there are at least no white spaces left anymore. This is a good indication that we have a good coverage of the space."
   ]
  },
  {
   "metadata": {},
   "cell_type": "markdown",
   "source": [
    "#### Concluding remarks\n",
    "In this notebook, we have applied several techniques for scenario discovery to the inter temporal version of the lake problem (i.e., the one with 100 decision variables). Both dimensional stacking and PRIM point to the importance of low values for the b and q parameters in driving low reliability. The last, qualitative, step is to go back to the model and offer a structural explanation (remember from system dynamics: structure explains behavior) for this behavior. So why do you get low reliability of b and q are low?"
   ]
  },
  {
   "metadata": {
    "ExecuteTime": {
     "end_time": "2025-05-29T09:19:17.658460Z",
     "start_time": "2025-05-29T09:19:17.656654Z"
    }
   },
   "cell_type": "code",
   "source": "",
   "outputs": [],
   "execution_count": null
  },
  {
   "metadata": {},
   "cell_type": "code",
   "outputs": [],
   "execution_count": null,
   "source": ""
  }
 ],
 "metadata": {
  "kernelspec": {
   "display_name": "Python 3",
   "language": "python",
   "name": "python3"
  },
  "language_info": {
   "codemirror_mode": {
    "name": "ipython",
    "version": 3
   },
   "file_extension": ".py",
   "mimetype": "text/x-python",
   "name": "python",
   "nbconvert_exporter": "python",
   "pygments_lexer": "ipython3",
   "version": "3.8.1"
  }
 },
 "nbformat": 4,
 "nbformat_minor": 4
}
