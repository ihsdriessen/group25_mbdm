{
 "cells": [
  {
   "metadata": {},
   "cell_type": "markdown",
   "source": [
    "# Dikemodel continued - subspace partitioning\n",
    "\n",
    "Scenario discovery.... (nog uitleg toevoegen)"
   ]
  },
  {
   "metadata": {},
   "cell_type": "markdown",
   "source": [
    "## 1. Apply scenario discovery\n",
    "\n",
    "**1.** Import model from Open Exploration"
   ]
  },
  {
   "metadata": {
    "ExecuteTime": {
     "end_time": "2025-05-29T11:04:40.771396Z",
     "start_time": "2025-05-29T11:04:40.769970Z"
    }
   },
   "cell_type": "code",
   "source": [
    "import numpy as np\n",
    "import matplotlib.pyplot as plt\n",
    "import seaborn as sns\n",
    "import pandas as pd"
   ],
   "outputs": [],
   "execution_count": 1
  },
  {
   "metadata": {
    "ExecuteTime": {
     "end_time": "2025-05-29T11:04:41.336972Z",
     "start_time": "2025-05-29T11:04:40.776508Z"
    }
   },
   "cell_type": "code",
   "source": [
    "from ema_workbench import (\n",
    "    Model,\n",
    "    Policy,\n",
    "    ema_logging,\n",
    "    SequentialEvaluator,\n",
    "    MultiprocessingEvaluator,\n",
    ")\n",
    "from dike_model_function import DikeNetwork  # @UnresolvedImport\n",
    "from problem_formulation2 import get_model_for_problem_formulation, sum_over, sum_over_time"
   ],
   "outputs": [],
   "execution_count": 2
  },
  {
   "metadata": {},
   "cell_type": "markdown",
   "source": [
    "**2.** Import results from Open Exploration\n",
    "\n",
    "bla bla importeren en levers weghalen\n",
    "\n"
   ]
  },
  {
   "metadata": {
    "ExecuteTime": {
     "end_time": "2025-05-29T11:04:51.571603Z",
     "start_time": "2025-05-29T11:04:51.554374Z"
    }
   },
   "cell_type": "code",
   "source": [
    "from ema_workbench import load_results\n",
    "\n",
    "# Laad de resultaten\n",
    "results = load_results('dike_open_exploration_results.tar.gz')\n",
    "#results = load_results(\"dike_open_exploration_with_allcosts.tar.gz\")\n",
    "experiments, outcomes = results\n",
    "\n",
    "\n",
    "lever_columns = [\n",
    "    '0_RfR 0', '0_RfR 1', '0_RfR 2',\n",
    "    '1_RfR 0', '1_RfR 1', '1_RfR 2',\n",
    "    '2_RfR 0', '2_RfR 1', '2_RfR 2',\n",
    "    '3_RfR 0', '3_RfR 1', '3_RfR 2',\n",
    "    '4_RfR 0', '4_RfR 1', '4_RfR 2',\n",
    "    'EWS_DaysToThreat',\n",
    "    'A.1_DikeIncrease 0', 'A.1_DikeIncrease 1', 'A.1_DikeIncrease 2',\n",
    "    'A.2_DikeIncrease 0', 'A.2_DikeIncrease 1', 'A.2_DikeIncrease 2',\n",
    "    'A.3_DikeIncrease 0', 'A.3_DikeIncrease 1', 'A.3_DikeIncrease 2',\n",
    "    'A.4_DikeIncrease 0', 'A.4_DikeIncrease 1', 'A.4_DikeIncrease 2',\n",
    "    'A.5_DikeIncrease 0', 'A.5_DikeIncrease 1', 'A.5_DikeIncrease 2'\n",
    "]\n",
    "\n",
    "cleaned_experiments = experiments.drop(columns=lever_columns)"
   ],
   "outputs": [],
   "execution_count": 4
  },
  {
   "metadata": {
    "ExecuteTime": {
     "end_time": "2025-05-29T11:04:52.519739Z",
     "start_time": "2025-05-29T11:04:52.495973Z"
    }
   },
   "cell_type": "code",
   "source": "cleaned_experiments",
   "outputs": [
    {
     "data": {
      "text/plain": [
       "     A.0_ID flood wave shape    A.1_Bmax A.1_Brate  A.1_pfail    A.2_Bmax  \\\n",
       "0                         73  202.778156       1.0   0.847227  198.833174   \n",
       "1                         14  269.866450       1.0   0.197496  166.230930   \n",
       "2                          1  153.296503       1.0   0.549923  115.560038   \n",
       "3                        112  242.431076       1.0   0.926754   76.124110   \n",
       "4                         22  170.729142       1.0   0.260201   60.309011   \n",
       "..                       ...         ...       ...        ...         ...   \n",
       "295                       68   72.857208       1.5   0.208646   32.181489   \n",
       "296                       19  209.434939       1.5   0.709366   34.667074   \n",
       "297                       59   80.726202       1.0   0.623243  120.863565   \n",
       "298                       84  333.126868       1.5   0.282582  147.152531   \n",
       "299                      125  230.701238       1.5   0.606350  346.847726   \n",
       "\n",
       "    A.2_Brate  A.2_pfail    A.3_Bmax A.3_Brate  A.3_pfail  ...  A.4_pfail  \\\n",
       "0         1.5   0.933403  136.997705       1.5   0.842369  ...   0.005016   \n",
       "1        10.0   0.397604  221.865258      10.0   0.489404  ...   0.758609   \n",
       "2         1.0   0.778492  312.731825       1.5   0.637244  ...   0.176722   \n",
       "3         1.0   0.534358  270.924401      10.0   0.103201  ...   0.201606   \n",
       "4         1.0   0.000390   35.337989      10.0   0.269380  ...   0.787258   \n",
       "..        ...        ...         ...       ...        ...  ...        ...   \n",
       "295       1.0   0.616398  175.106904       1.5   0.018375  ...   0.293001   \n",
       "296      10.0   0.461769  240.212225       1.5   0.153431  ...   0.850400   \n",
       "297       1.0   0.598330  108.346147      10.0   0.079613  ...   0.597586   \n",
       "298      10.0   0.658907  242.080314       1.5   0.146078  ...   0.238479   \n",
       "299       1.0   0.568291  321.123116       1.5   0.701481  ...   0.412780   \n",
       "\n",
       "       A.5_Bmax  A.5_Brate  A.5_pfail discount rate 0  discount rate 1  \\\n",
       "0    132.443781        1.0   0.879147             1.5              2.5   \n",
       "1    230.359472       10.0   0.417188             1.5              4.5   \n",
       "2    191.840126        1.5   0.687334             4.5              4.5   \n",
       "3    333.114843        1.5   0.032157             3.5              2.5   \n",
       "4    278.478873        1.0   0.513110             2.5              2.5   \n",
       "..          ...        ...        ...             ...              ...   \n",
       "295   51.103635        1.0   0.480993             4.5              4.5   \n",
       "296  157.292308       10.0   0.366763             1.5              2.5   \n",
       "297  193.378142        1.5   0.524990             2.5              3.5   \n",
       "298  245.409170       10.0   0.718191             1.5              3.5   \n",
       "299  312.554569        1.5   0.056420             4.5              1.5   \n",
       "\n",
       "    discount rate 2 scenario    policy     model  \n",
       "0               4.5      375  policy 1  dikesnet  \n",
       "1               1.5      376  policy 1  dikesnet  \n",
       "2               2.5      377  policy 1  dikesnet  \n",
       "3               3.5      378  policy 1  dikesnet  \n",
       "4               4.5      379  policy 1  dikesnet  \n",
       "..              ...      ...       ...       ...  \n",
       "295             4.5      470  policy 3  dikesnet  \n",
       "296             1.5      471  policy 3  dikesnet  \n",
       "297             3.5      472  policy 3  dikesnet  \n",
       "298             4.5      473  policy 3  dikesnet  \n",
       "299             1.5      474  policy 3  dikesnet  \n",
       "\n",
       "[300 rows x 22 columns]"
      ],
      "text/html": [
       "<div>\n",
       "<style scoped>\n",
       "    .dataframe tbody tr th:only-of-type {\n",
       "        vertical-align: middle;\n",
       "    }\n",
       "\n",
       "    .dataframe tbody tr th {\n",
       "        vertical-align: top;\n",
       "    }\n",
       "\n",
       "    .dataframe thead th {\n",
       "        text-align: right;\n",
       "    }\n",
       "</style>\n",
       "<table border=\"1\" class=\"dataframe\">\n",
       "  <thead>\n",
       "    <tr style=\"text-align: right;\">\n",
       "      <th></th>\n",
       "      <th>A.0_ID flood wave shape</th>\n",
       "      <th>A.1_Bmax</th>\n",
       "      <th>A.1_Brate</th>\n",
       "      <th>A.1_pfail</th>\n",
       "      <th>A.2_Bmax</th>\n",
       "      <th>A.2_Brate</th>\n",
       "      <th>A.2_pfail</th>\n",
       "      <th>A.3_Bmax</th>\n",
       "      <th>A.3_Brate</th>\n",
       "      <th>A.3_pfail</th>\n",
       "      <th>...</th>\n",
       "      <th>A.4_pfail</th>\n",
       "      <th>A.5_Bmax</th>\n",
       "      <th>A.5_Brate</th>\n",
       "      <th>A.5_pfail</th>\n",
       "      <th>discount rate 0</th>\n",
       "      <th>discount rate 1</th>\n",
       "      <th>discount rate 2</th>\n",
       "      <th>scenario</th>\n",
       "      <th>policy</th>\n",
       "      <th>model</th>\n",
       "    </tr>\n",
       "  </thead>\n",
       "  <tbody>\n",
       "    <tr>\n",
       "      <th>0</th>\n",
       "      <td>73</td>\n",
       "      <td>202.778156</td>\n",
       "      <td>1.0</td>\n",
       "      <td>0.847227</td>\n",
       "      <td>198.833174</td>\n",
       "      <td>1.5</td>\n",
       "      <td>0.933403</td>\n",
       "      <td>136.997705</td>\n",
       "      <td>1.5</td>\n",
       "      <td>0.842369</td>\n",
       "      <td>...</td>\n",
       "      <td>0.005016</td>\n",
       "      <td>132.443781</td>\n",
       "      <td>1.0</td>\n",
       "      <td>0.879147</td>\n",
       "      <td>1.5</td>\n",
       "      <td>2.5</td>\n",
       "      <td>4.5</td>\n",
       "      <td>375</td>\n",
       "      <td>policy 1</td>\n",
       "      <td>dikesnet</td>\n",
       "    </tr>\n",
       "    <tr>\n",
       "      <th>1</th>\n",
       "      <td>14</td>\n",
       "      <td>269.866450</td>\n",
       "      <td>1.0</td>\n",
       "      <td>0.197496</td>\n",
       "      <td>166.230930</td>\n",
       "      <td>10.0</td>\n",
       "      <td>0.397604</td>\n",
       "      <td>221.865258</td>\n",
       "      <td>10.0</td>\n",
       "      <td>0.489404</td>\n",
       "      <td>...</td>\n",
       "      <td>0.758609</td>\n",
       "      <td>230.359472</td>\n",
       "      <td>10.0</td>\n",
       "      <td>0.417188</td>\n",
       "      <td>1.5</td>\n",
       "      <td>4.5</td>\n",
       "      <td>1.5</td>\n",
       "      <td>376</td>\n",
       "      <td>policy 1</td>\n",
       "      <td>dikesnet</td>\n",
       "    </tr>\n",
       "    <tr>\n",
       "      <th>2</th>\n",
       "      <td>1</td>\n",
       "      <td>153.296503</td>\n",
       "      <td>1.0</td>\n",
       "      <td>0.549923</td>\n",
       "      <td>115.560038</td>\n",
       "      <td>1.0</td>\n",
       "      <td>0.778492</td>\n",
       "      <td>312.731825</td>\n",
       "      <td>1.5</td>\n",
       "      <td>0.637244</td>\n",
       "      <td>...</td>\n",
       "      <td>0.176722</td>\n",
       "      <td>191.840126</td>\n",
       "      <td>1.5</td>\n",
       "      <td>0.687334</td>\n",
       "      <td>4.5</td>\n",
       "      <td>4.5</td>\n",
       "      <td>2.5</td>\n",
       "      <td>377</td>\n",
       "      <td>policy 1</td>\n",
       "      <td>dikesnet</td>\n",
       "    </tr>\n",
       "    <tr>\n",
       "      <th>3</th>\n",
       "      <td>112</td>\n",
       "      <td>242.431076</td>\n",
       "      <td>1.0</td>\n",
       "      <td>0.926754</td>\n",
       "      <td>76.124110</td>\n",
       "      <td>1.0</td>\n",
       "      <td>0.534358</td>\n",
       "      <td>270.924401</td>\n",
       "      <td>10.0</td>\n",
       "      <td>0.103201</td>\n",
       "      <td>...</td>\n",
       "      <td>0.201606</td>\n",
       "      <td>333.114843</td>\n",
       "      <td>1.5</td>\n",
       "      <td>0.032157</td>\n",
       "      <td>3.5</td>\n",
       "      <td>2.5</td>\n",
       "      <td>3.5</td>\n",
       "      <td>378</td>\n",
       "      <td>policy 1</td>\n",
       "      <td>dikesnet</td>\n",
       "    </tr>\n",
       "    <tr>\n",
       "      <th>4</th>\n",
       "      <td>22</td>\n",
       "      <td>170.729142</td>\n",
       "      <td>1.0</td>\n",
       "      <td>0.260201</td>\n",
       "      <td>60.309011</td>\n",
       "      <td>1.0</td>\n",
       "      <td>0.000390</td>\n",
       "      <td>35.337989</td>\n",
       "      <td>10.0</td>\n",
       "      <td>0.269380</td>\n",
       "      <td>...</td>\n",
       "      <td>0.787258</td>\n",
       "      <td>278.478873</td>\n",
       "      <td>1.0</td>\n",
       "      <td>0.513110</td>\n",
       "      <td>2.5</td>\n",
       "      <td>2.5</td>\n",
       "      <td>4.5</td>\n",
       "      <td>379</td>\n",
       "      <td>policy 1</td>\n",
       "      <td>dikesnet</td>\n",
       "    </tr>\n",
       "    <tr>\n",
       "      <th>...</th>\n",
       "      <td>...</td>\n",
       "      <td>...</td>\n",
       "      <td>...</td>\n",
       "      <td>...</td>\n",
       "      <td>...</td>\n",
       "      <td>...</td>\n",
       "      <td>...</td>\n",
       "      <td>...</td>\n",
       "      <td>...</td>\n",
       "      <td>...</td>\n",
       "      <td>...</td>\n",
       "      <td>...</td>\n",
       "      <td>...</td>\n",
       "      <td>...</td>\n",
       "      <td>...</td>\n",
       "      <td>...</td>\n",
       "      <td>...</td>\n",
       "      <td>...</td>\n",
       "      <td>...</td>\n",
       "      <td>...</td>\n",
       "      <td>...</td>\n",
       "    </tr>\n",
       "    <tr>\n",
       "      <th>295</th>\n",
       "      <td>68</td>\n",
       "      <td>72.857208</td>\n",
       "      <td>1.5</td>\n",
       "      <td>0.208646</td>\n",
       "      <td>32.181489</td>\n",
       "      <td>1.0</td>\n",
       "      <td>0.616398</td>\n",
       "      <td>175.106904</td>\n",
       "      <td>1.5</td>\n",
       "      <td>0.018375</td>\n",
       "      <td>...</td>\n",
       "      <td>0.293001</td>\n",
       "      <td>51.103635</td>\n",
       "      <td>1.0</td>\n",
       "      <td>0.480993</td>\n",
       "      <td>4.5</td>\n",
       "      <td>4.5</td>\n",
       "      <td>4.5</td>\n",
       "      <td>470</td>\n",
       "      <td>policy 3</td>\n",
       "      <td>dikesnet</td>\n",
       "    </tr>\n",
       "    <tr>\n",
       "      <th>296</th>\n",
       "      <td>19</td>\n",
       "      <td>209.434939</td>\n",
       "      <td>1.5</td>\n",
       "      <td>0.709366</td>\n",
       "      <td>34.667074</td>\n",
       "      <td>10.0</td>\n",
       "      <td>0.461769</td>\n",
       "      <td>240.212225</td>\n",
       "      <td>1.5</td>\n",
       "      <td>0.153431</td>\n",
       "      <td>...</td>\n",
       "      <td>0.850400</td>\n",
       "      <td>157.292308</td>\n",
       "      <td>10.0</td>\n",
       "      <td>0.366763</td>\n",
       "      <td>1.5</td>\n",
       "      <td>2.5</td>\n",
       "      <td>1.5</td>\n",
       "      <td>471</td>\n",
       "      <td>policy 3</td>\n",
       "      <td>dikesnet</td>\n",
       "    </tr>\n",
       "    <tr>\n",
       "      <th>297</th>\n",
       "      <td>59</td>\n",
       "      <td>80.726202</td>\n",
       "      <td>1.0</td>\n",
       "      <td>0.623243</td>\n",
       "      <td>120.863565</td>\n",
       "      <td>1.0</td>\n",
       "      <td>0.598330</td>\n",
       "      <td>108.346147</td>\n",
       "      <td>10.0</td>\n",
       "      <td>0.079613</td>\n",
       "      <td>...</td>\n",
       "      <td>0.597586</td>\n",
       "      <td>193.378142</td>\n",
       "      <td>1.5</td>\n",
       "      <td>0.524990</td>\n",
       "      <td>2.5</td>\n",
       "      <td>3.5</td>\n",
       "      <td>3.5</td>\n",
       "      <td>472</td>\n",
       "      <td>policy 3</td>\n",
       "      <td>dikesnet</td>\n",
       "    </tr>\n",
       "    <tr>\n",
       "      <th>298</th>\n",
       "      <td>84</td>\n",
       "      <td>333.126868</td>\n",
       "      <td>1.5</td>\n",
       "      <td>0.282582</td>\n",
       "      <td>147.152531</td>\n",
       "      <td>10.0</td>\n",
       "      <td>0.658907</td>\n",
       "      <td>242.080314</td>\n",
       "      <td>1.5</td>\n",
       "      <td>0.146078</td>\n",
       "      <td>...</td>\n",
       "      <td>0.238479</td>\n",
       "      <td>245.409170</td>\n",
       "      <td>10.0</td>\n",
       "      <td>0.718191</td>\n",
       "      <td>1.5</td>\n",
       "      <td>3.5</td>\n",
       "      <td>4.5</td>\n",
       "      <td>473</td>\n",
       "      <td>policy 3</td>\n",
       "      <td>dikesnet</td>\n",
       "    </tr>\n",
       "    <tr>\n",
       "      <th>299</th>\n",
       "      <td>125</td>\n",
       "      <td>230.701238</td>\n",
       "      <td>1.5</td>\n",
       "      <td>0.606350</td>\n",
       "      <td>346.847726</td>\n",
       "      <td>1.0</td>\n",
       "      <td>0.568291</td>\n",
       "      <td>321.123116</td>\n",
       "      <td>1.5</td>\n",
       "      <td>0.701481</td>\n",
       "      <td>...</td>\n",
       "      <td>0.412780</td>\n",
       "      <td>312.554569</td>\n",
       "      <td>1.5</td>\n",
       "      <td>0.056420</td>\n",
       "      <td>4.5</td>\n",
       "      <td>1.5</td>\n",
       "      <td>1.5</td>\n",
       "      <td>474</td>\n",
       "      <td>policy 3</td>\n",
       "      <td>dikesnet</td>\n",
       "    </tr>\n",
       "  </tbody>\n",
       "</table>\n",
       "<p>300 rows × 22 columns</p>\n",
       "</div>"
      ]
     },
     "execution_count": 5,
     "metadata": {},
     "output_type": "execute_result"
    }
   ],
   "execution_count": 5
  },
  {
   "metadata": {},
   "cell_type": "markdown",
   "source": [
    "**3.** Apply scenario discovery\n",
    "\n",
    "neem de data die onder de 36970.... aan kosten is, doe daar een prim analyse op. je krijgt leuk plaatje"
   ]
  },
  {
   "metadata": {
    "ExecuteTime": {
     "end_time": "2025-05-29T11:04:54.401125Z",
     "start_time": "2025-05-29T11:04:53.638693Z"
    }
   },
   "cell_type": "code",
   "source": [
    "from ema_workbench.analysis import prim\n",
    "import numpy as np\n",
    "\n",
    "# Stel een vulnerability-condition in op basis van een relevante outcome\n",
    "data = outcomes['RfR Total Costs']\n",
    "# y = data > np.percentile(data, 90)\n",
    "y = (data <= 369700000).astype(bool)\n",
    "#y = (data < np.percentile(data, 10)).astype(int)  # of .astype(bool)\n",
    "\n",
    "# PRIM-analyse\n",
    "#prim_alg = prim.Prim(cleaned_experiments, y, threshold=0.8, mode='BINARY')  # expliciet maken\n",
    "\n",
    "prim_alg = prim.Prim(cleaned_experiments, y, threshold=0.8)\n",
    "box1 = prim_alg.find_box()\n",
    "box1.show_tradeoff()\n",
    "plt.show()\n"
   ],
   "outputs": [
    {
     "data": {
      "text/plain": [
       "<Figure size 640x480 with 2 Axes>"
      ],
      "image/png": "[encoded data removed]"
     },
     "metadata": {},
     "output_type": "display_data"
    }
   ],
   "execution_count": 6
  },
  {
   "metadata": {
    "ExecuteTime": {
     "end_time": "2025-05-29T11:04:55.051035Z",
     "start_time": "2025-05-29T11:04:55.048191Z"
    }
   },
   "cell_type": "code",
   "source": "print(\"Aantal cases of interest:\", np.sum(y))",
   "outputs": [
    {
     "name": "stdout",
     "output_type": "stream",
     "text": [
      "Aantal cases of interest: 200\n"
     ]
    }
   ],
   "execution_count": 7
  },
  {
   "metadata": {
    "ExecuteTime": {
     "end_time": "2025-05-29T11:05:10.920149Z",
     "start_time": "2025-05-29T11:05:10.914258Z"
    }
   },
   "cell_type": "code",
   "source": [
    "#from ema_workbench.analysis import prim\n",
    "#import numpy as np\n",
    "#import matplotlib.pyplot as plt\n",
    "\n",
    "# Stel een vulnerability-condition in op basis van een relevante outcome\n",
    "#data = outcomes[\"All Costs\"]\n",
    "#threshold_value = np.percentile(data, 10)\n",
    "#y = (data <= threshold_value)  # Let op: géén .astype(bool) of .astype(int)\n",
    "\n",
    "# PRIM-analyse uitvoeren – laat 'mode' weg, dan detecteert hij het automatisch\n",
    "#prim_alg = prim.Prim(experiments, y, threshold=0.8)\n",
    "#box1 = prim_alg.find_box()\n",
    "#box1.show_tradeoff()\n",
    "#plt.show()\n"
   ],
   "outputs": [],
   "execution_count": 9
  },
  {
   "metadata": {
    "ExecuteTime": {
     "end_time": "2025-05-29T11:05:12.073367Z",
     "start_time": "2025-05-29T11:05:11.728330Z"
    }
   },
   "cell_type": "code",
   "source": [
    "# PRIM analysis for the 'Expected Annual Damage'\n",
    "# Importing the PRIM analysis included in EMA workbench\n",
    "from ema_workbench.analysis import prim\n",
    "\n",
    "# Specifying the experiments and outcome\n",
    "# For the outcome 'Expected Annual Damage' the threshold is set to keep 30% of the points as cases of interest\n",
    "x = cleaned_experiments\n",
    "y = (outcomes['Expected Annual Damage'] <= 300000000).astype(int)\n",
    "\n",
    "# Executing the PRIM analysis with treshold=0.8, which stands for the minimum coverage threshold that a box should meet\n",
    "prim_alg = prim.Prim(x,y, threshold=0.8)\n",
    "box_damage = prim_alg.find_box()\n",
    "\n",
    "# Creating the trade-off visualisation\n",
    "box_damage.show_tradeoff()\n",
    "plt.show()"
   ],
   "outputs": [
    {
     "data": {
      "text/plain": [
       "<Figure size 640x480 with 2 Axes>"
      ],
      "image/png": "[encoded data removed]"
     },
     "metadata": {},
     "output_type": "display_data"
    }
   ],
   "execution_count": 10
  },
  {
   "metadata": {},
   "cell_type": "markdown",
   "source": [
    "DIT KAN DENK IK WEG. HIER MOET DAN EIGEN TEKST MET UITLEG>\n",
    "\n",
    "This figure shows the trade-off between coverage, density, and the number of restricted dimensions (i.e., a proxy for interpretability). Each dot corresponds to one candidate box. As an analyst, it is up to you to choose which box you want to inspect in more detail. Here you have to balance the three objectives. There is no hard rule that is used here. Note, however, that a density of lower than 0.5 means that less than half of the cases within the box of interest are of interest. So ideally, you start with higher density boxes. Moreover, you want boxes for which the box limits are statistically significant according to the quasi p-values. This means that the last box for a given number of restricted dimensions is also a good candidate box to inspect (here, for example, the last box with 2 dimensions and the last box with 3 dimensions)."
   ]
  },
  {
   "metadata": {
    "ExecuteTime": {
     "end_time": "2025-05-29T11:05:14.864972Z",
     "start_time": "2025-05-29T11:05:14.819583Z"
    }
   },
   "cell_type": "code",
   "source": [
    "box1.inspect(style='graph')\n",
    "plt.show()"
   ],
   "outputs": [
    {
     "data": {
      "text/plain": [
       "<Figure size 640x480 with 1 Axes>"
      ],
      "image/png": "[encoded data removed]"
     },
     "metadata": {},
     "output_type": "display_data"
    }
   ],
   "execution_count": 11
  },
  {
   "metadata": {},
   "cell_type": "markdown",
   "source": "This figure shows in gray the complete interval for each parameter. A blue line is used in the case of RealParameters to show the interval of the box identified by PRIM. For CategoricalParameters, a dot is used instead. The blue numbers give the specific limit. The numbers behind the y-labels indicate the quasi p-values. In the top right-hand corner, you can see the coverage and density of the identified box. So, what do we see in this case. First, both delta and stdev are not significant and should be ignored in the interpretation. This leaves b, q, and some of the policies as the key determinants. So, our top 10% worst performance for reliability occurs if b and q are low and for 6 out of the 10 policies. This covers 56% of the cases of interest, with a precision (i.e. density) of 80%. Now, you would go back to the model and try to understand why you get low reliability if b and q are low."
  },
  {
   "metadata": {},
   "cell_type": "markdown",
   "source": [
    "## 2. Visualize the results using Dimensional Stacking\n",
    "Take the classification of outcomes as used in step 3 of scenario discovery, and instead visualize the results using dimensional stacking. How do these results compare to the insights from scenario discovery?"
   ]
  },
  {
   "metadata": {
    "ExecuteTime": {
     "end_time": "2025-05-29T11:05:18.559873Z",
     "start_time": "2025-05-29T11:05:18.550251Z"
    }
   },
   "cell_type": "code",
   "source": "from ema_workbench.analysis import dimensional_stacking",
   "outputs": [],
   "execution_count": 12
  },
  {
   "metadata": {
    "ExecuteTime": {
     "end_time": "2025-05-29T11:05:19.007511Z",
     "start_time": "2025-05-29T11:05:18.706030Z"
    }
   },
   "cell_type": "code",
   "source": [
    "dimensional_stacking.create_pivot_plot(experiments, y)\n",
    "plt.show()"
   ],
   "outputs": [
    {
     "data": {
      "text/plain": [
       "<Figure size 1000x1000 with 4 Axes>"
      ],
      "image/png": "[encoded data removed]"
     },
     "metadata": {},
     "output_type": "display_data"
    }
   ],
   "execution_count": 13
  },
  {
   "metadata": {},
   "cell_type": "markdown",
   "source": [
    "DIT KAN WRS WEG. EIGEN TEKST HIER\n",
    "\n",
    "As you can see, with the additional runs there are at least no white spaces left anymore. This is a good indication that we have a good coverage of the space."
   ]
  },
  {
   "metadata": {},
   "cell_type": "markdown",
   "source": [
    "#### Concluding remarks\n",
    "In this notebook, we have applied several techniques for scenario discovery to the inter temporal version of the lake problem (i.e., the one with 100 decision variables). Both dimensional stacking and PRIM point to the importance of low values for the b and q parameters in driving low reliability. The last, qualitative, step is to go back to the model and offer a structural explanation (remember from system dynamics: structure explains behavior) for this behavior. So why do you get low reliability of b and q are low?"
   ]
  },
  {
   "metadata": {
    "ExecuteTime": {
     "end_time": "2025-05-29T10:32:42.373959Z",
     "start_time": "2025-05-29T10:32:42.372537Z"
    }
   },
   "cell_type": "code",
   "source": "",
   "outputs": [],
   "execution_count": null
  },
  {
   "metadata": {
    "ExecuteTime": {
     "end_time": "2025-05-29T10:32:42.393461Z",
     "start_time": "2025-05-29T10:32:42.391169Z"
    }
   },
   "cell_type": "code",
   "source": "",
   "outputs": [],
   "execution_count": null
  }
 ],
 "metadata": {
  "kernelspec": {
   "display_name": "Python 3",
   "language": "python",
   "name": "python3"
  },
  "language_info": {
   "codemirror_mode": {
    "name": "ipython",
    "version": 3
   },
   "file_extension": ".py",
   "mimetype": "text/x-python",
   "name": "python",
   "nbconvert_exporter": "python",
   "pygments_lexer": "ipython3",
   "version": "3.8.1"
  }
 },
 "nbformat": 4,
 "nbformat_minor": 4
}
