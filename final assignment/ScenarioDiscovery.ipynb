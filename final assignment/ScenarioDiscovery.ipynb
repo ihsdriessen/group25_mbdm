{
 "cells": [
  {
   "metadata": {},
   "cell_type": "markdown",
   "source": [
    "# Scenario Discovery\n",
    "\n",
    "In this file the results from Open Exploration will be analysed using PRIM and Dimensional Stacking."
   ]
  },
  {
   "metadata": {},
   "cell_type": "markdown",
   "source": [
    "## 1. Apply PRIM\n",
    "\n",
    "**1.** Import model from Open Exploration"
   ]
  },
  {
   "metadata": {
    "ExecuteTime": {
     "end_time": "2025-06-10T14:10:08.612499Z",
     "start_time": "2025-06-10T14:10:07.670629Z"
    }
   },
   "cell_type": "code",
   "source": [
    "import numpy as np\n",
    "import matplotlib.pyplot as plt\n",
    "import seaborn as sns\n",
    "import pandas as pd\n",
    "\n",
    "from ema_workbench import (\n",
    "    Model,\n",
    "    Policy,\n",
    "    ema_logging,\n",
    "    SequentialEvaluator,\n",
    "    MultiprocessingEvaluator,\n",
    ")\n",
    "from dike_model_function import DikeNetwork  # @UnresolvedImport\n",
    "from problem_formulation2 import get_model_for_problem_formulation, sum_over, sum_over_time"
   ],
   "outputs": [],
   "execution_count": 1
  },
  {
   "metadata": {},
   "cell_type": "markdown",
   "source": [
    "**2.** Import results from Open Exploration\n",
    "\n"
   ]
  },
  {
   "metadata": {
    "ExecuteTime": {
     "end_time": "2025-06-10T14:10:10.074151Z",
     "start_time": "2025-06-10T14:10:08.624764Z"
    }
   },
   "cell_type": "code",
   "source": [
    "from ema_workbench import load_results\n",
    "\n",
    "# Load the results that were generated in Open Exploration\n",
    "results = load_results('dike_open_exploration_results.tar.gz')\n",
    "experiments, outcomes = results\n",
    "\n",
    "# Metadata\n",
    "columns_to_drop = [\n",
    "    'scenario', 'policy', 'model'\n",
    "]\n",
    "\n",
    "# Make a clean dataframe without the meta data.\n",
    "cleaned_experiments = experiments.drop(columns=columns_to_drop)"
   ],
   "outputs": [],
   "execution_count": 2
  },
  {
   "metadata": {
    "ExecuteTime": {
     "end_time": "2025-06-10T14:10:10.241320Z",
     "start_time": "2025-06-10T14:10:10.173207Z"
    }
   },
   "cell_type": "code",
   "source": [
    "#See cleaned experiments\n",
    "cleaned_experiments"
   ],
   "outputs": [
    {
     "data": {
      "text/plain": [
       "        A.0_ID flood wave shape    A.1_Bmax A.1_Brate  A.1_pfail    A.2_Bmax  \\\n",
       "0                           120  258.586586      10.0   0.153032  335.246128   \n",
       "1                           113  194.568728      10.0   0.293827  255.509874   \n",
       "2                            61   91.891624      10.0   0.693707  119.755578   \n",
       "3                            37  202.480358       1.0   0.190247  291.386916   \n",
       "4                            72  107.315104       1.5   0.891560  161.090764   \n",
       "...                         ...         ...       ...        ...         ...   \n",
       "274995                       11   36.472636      10.0   0.861548  311.634628   \n",
       "274996                       83  114.609975       1.0   0.701080  236.826590   \n",
       "274997                      117  209.328350       1.0   0.152388   30.133378   \n",
       "274998                      120   55.912132      10.0   0.471526  219.754121   \n",
       "274999                      131  310.666579       1.0   0.732549  251.285427   \n",
       "\n",
       "       A.2_Brate  A.2_pfail    A.3_Bmax A.3_Brate  A.3_pfail  ...  \\\n",
       "0            1.5   0.512826  254.019441       1.5   0.457289  ...   \n",
       "1           10.0   0.068949   49.174779       1.5   0.544252  ...   \n",
       "2            1.5   0.738327  268.405931       1.0   0.673490  ...   \n",
       "3            1.0   0.796584  310.859423       1.0   0.472770  ...   \n",
       "4            1.0   0.663633  282.442271      10.0   0.736509  ...   \n",
       "...          ...        ...         ...       ...        ...  ...   \n",
       "274995       1.0   0.406204   94.075970       1.0   0.267837  ...   \n",
       "274996       1.5   0.384472  229.176558       1.5   0.279916  ...   \n",
       "274997       1.5   0.511698  117.241683       1.5   0.292723  ...   \n",
       "274998       1.5   0.190638  307.120528       1.5   0.020785  ...   \n",
       "274999       1.5   0.673498  191.391468       1.0   0.470886  ...   \n",
       "\n",
       "        A.3_DikeIncrease 0 A.3_DikeIncrease 1  A.3_DikeIncrease 2  \\\n",
       "0                        3                  0                   3   \n",
       "1                        3                  0                   3   \n",
       "2                        3                  0                   3   \n",
       "3                        3                  0                   3   \n",
       "4                        3                  0                   3   \n",
       "...                    ...                ...                 ...   \n",
       "274995                   2                 10                   6   \n",
       "274996                   2                 10                   6   \n",
       "274997                   2                 10                   6   \n",
       "274998                   2                 10                   6   \n",
       "274999                   2                 10                   6   \n",
       "\n",
       "        A.4_DikeIncrease 0 A.4_DikeIncrease 1  A.4_DikeIncrease 2  \\\n",
       "0                        5                  1                   0   \n",
       "1                        5                  1                   0   \n",
       "2                        5                  1                   0   \n",
       "3                        5                  1                   0   \n",
       "4                        5                  1                   0   \n",
       "...                    ...                ...                 ...   \n",
       "274995                   4                  7                   9   \n",
       "274996                   4                  7                   9   \n",
       "274997                   4                  7                   9   \n",
       "274998                   4                  7                   9   \n",
       "274999                   4                  7                   9   \n",
       "\n",
       "       A.5_DikeIncrease 0 A.5_DikeIncrease 1 A.5_DikeIncrease 2  \\\n",
       "0                       4                  1                  8   \n",
       "1                       4                  1                  8   \n",
       "2                       4                  1                  8   \n",
       "3                       4                  1                  8   \n",
       "4                       4                  1                  8   \n",
       "...                   ...                ...                ...   \n",
       "274995                  8                  5                  6   \n",
       "274996                  8                  5                  6   \n",
       "274997                  8                  5                  6   \n",
       "274998                  8                  5                  6   \n",
       "274999                  8                  5                  6   \n",
       "\n",
       "        EWS_DaysToThreat  \n",
       "0                      3  \n",
       "1                      3  \n",
       "2                      3  \n",
       "3                      3  \n",
       "4                      3  \n",
       "...                  ...  \n",
       "274995                 3  \n",
       "274996                 3  \n",
       "274997                 3  \n",
       "274998                 3  \n",
       "274999                 3  \n",
       "\n",
       "[275000 rows x 50 columns]"
      ],
      "text/html": [
       "<div>\n",
       "<style scoped>\n",
       "    .dataframe tbody tr th:only-of-type {\n",
       "        vertical-align: middle;\n",
       "    }\n",
       "\n",
       "    .dataframe tbody tr th {\n",
       "        vertical-align: top;\n",
       "    }\n",
       "\n",
       "    .dataframe thead th {\n",
       "        text-align: right;\n",
       "    }\n",
       "</style>\n",
       "<table border=\"1\" class=\"dataframe\">\n",
       "  <thead>\n",
       "    <tr style=\"text-align: right;\">\n",
       "      <th></th>\n",
       "      <th>A.0_ID flood wave shape</th>\n",
       "      <th>A.1_Bmax</th>\n",
       "      <th>A.1_Brate</th>\n",
       "      <th>A.1_pfail</th>\n",
       "      <th>A.2_Bmax</th>\n",
       "      <th>A.2_Brate</th>\n",
       "      <th>A.2_pfail</th>\n",
       "      <th>A.3_Bmax</th>\n",
       "      <th>A.3_Brate</th>\n",
       "      <th>A.3_pfail</th>\n",
       "      <th>...</th>\n",
       "      <th>A.3_DikeIncrease 0</th>\n",
       "      <th>A.3_DikeIncrease 1</th>\n",
       "      <th>A.3_DikeIncrease 2</th>\n",
       "      <th>A.4_DikeIncrease 0</th>\n",
       "      <th>A.4_DikeIncrease 1</th>\n",
       "      <th>A.4_DikeIncrease 2</th>\n",
       "      <th>A.5_DikeIncrease 0</th>\n",
       "      <th>A.5_DikeIncrease 1</th>\n",
       "      <th>A.5_DikeIncrease 2</th>\n",
       "      <th>EWS_DaysToThreat</th>\n",
       "    </tr>\n",
       "  </thead>\n",
       "  <tbody>\n",
       "    <tr>\n",
       "      <th>0</th>\n",
       "      <td>120</td>\n",
       "      <td>258.586586</td>\n",
       "      <td>10.0</td>\n",
       "      <td>0.153032</td>\n",
       "      <td>335.246128</td>\n",
       "      <td>1.5</td>\n",
       "      <td>0.512826</td>\n",
       "      <td>254.019441</td>\n",
       "      <td>1.5</td>\n",
       "      <td>0.457289</td>\n",
       "      <td>...</td>\n",
       "      <td>3</td>\n",
       "      <td>0</td>\n",
       "      <td>3</td>\n",
       "      <td>5</td>\n",
       "      <td>1</td>\n",
       "      <td>0</td>\n",
       "      <td>4</td>\n",
       "      <td>1</td>\n",
       "      <td>8</td>\n",
       "      <td>3</td>\n",
       "    </tr>\n",
       "    <tr>\n",
       "      <th>1</th>\n",
       "      <td>113</td>\n",
       "      <td>194.568728</td>\n",
       "      <td>10.0</td>\n",
       "      <td>0.293827</td>\n",
       "      <td>255.509874</td>\n",
       "      <td>10.0</td>\n",
       "      <td>0.068949</td>\n",
       "      <td>49.174779</td>\n",
       "      <td>1.5</td>\n",
       "      <td>0.544252</td>\n",
       "      <td>...</td>\n",
       "      <td>3</td>\n",
       "      <td>0</td>\n",
       "      <td>3</td>\n",
       "      <td>5</td>\n",
       "      <td>1</td>\n",
       "      <td>0</td>\n",
       "      <td>4</td>\n",
       "      <td>1</td>\n",
       "      <td>8</td>\n",
       "      <td>3</td>\n",
       "    </tr>\n",
       "    <tr>\n",
       "      <th>2</th>\n",
       "      <td>61</td>\n",
       "      <td>91.891624</td>\n",
       "      <td>10.0</td>\n",
       "      <td>0.693707</td>\n",
       "      <td>119.755578</td>\n",
       "      <td>1.5</td>\n",
       "      <td>0.738327</td>\n",
       "      <td>268.405931</td>\n",
       "      <td>1.0</td>\n",
       "      <td>0.673490</td>\n",
       "      <td>...</td>\n",
       "      <td>3</td>\n",
       "      <td>0</td>\n",
       "      <td>3</td>\n",
       "      <td>5</td>\n",
       "      <td>1</td>\n",
       "      <td>0</td>\n",
       "      <td>4</td>\n",
       "      <td>1</td>\n",
       "      <td>8</td>\n",
       "      <td>3</td>\n",
       "    </tr>\n",
       "    <tr>\n",
       "      <th>3</th>\n",
       "      <td>37</td>\n",
       "      <td>202.480358</td>\n",
       "      <td>1.0</td>\n",
       "      <td>0.190247</td>\n",
       "      <td>291.386916</td>\n",
       "      <td>1.0</td>\n",
       "      <td>0.796584</td>\n",
       "      <td>310.859423</td>\n",
       "      <td>1.0</td>\n",
       "      <td>0.472770</td>\n",
       "      <td>...</td>\n",
       "      <td>3</td>\n",
       "      <td>0</td>\n",
       "      <td>3</td>\n",
       "      <td>5</td>\n",
       "      <td>1</td>\n",
       "      <td>0</td>\n",
       "      <td>4</td>\n",
       "      <td>1</td>\n",
       "      <td>8</td>\n",
       "      <td>3</td>\n",
       "    </tr>\n",
       "    <tr>\n",
       "      <th>4</th>\n",
       "      <td>72</td>\n",
       "      <td>107.315104</td>\n",
       "      <td>1.5</td>\n",
       "      <td>0.891560</td>\n",
       "      <td>161.090764</td>\n",
       "      <td>1.0</td>\n",
       "      <td>0.663633</td>\n",
       "      <td>282.442271</td>\n",
       "      <td>10.0</td>\n",
       "      <td>0.736509</td>\n",
       "      <td>...</td>\n",
       "      <td>3</td>\n",
       "      <td>0</td>\n",
       "      <td>3</td>\n",
       "      <td>5</td>\n",
       "      <td>1</td>\n",
       "      <td>0</td>\n",
       "      <td>4</td>\n",
       "      <td>1</td>\n",
       "      <td>8</td>\n",
       "      <td>3</td>\n",
       "    </tr>\n",
       "    <tr>\n",
       "      <th>...</th>\n",
       "      <td>...</td>\n",
       "      <td>...</td>\n",
       "      <td>...</td>\n",
       "      <td>...</td>\n",
       "      <td>...</td>\n",
       "      <td>...</td>\n",
       "      <td>...</td>\n",
       "      <td>...</td>\n",
       "      <td>...</td>\n",
       "      <td>...</td>\n",
       "      <td>...</td>\n",
       "      <td>...</td>\n",
       "      <td>...</td>\n",
       "      <td>...</td>\n",
       "      <td>...</td>\n",
       "      <td>...</td>\n",
       "      <td>...</td>\n",
       "      <td>...</td>\n",
       "      <td>...</td>\n",
       "      <td>...</td>\n",
       "      <td>...</td>\n",
       "    </tr>\n",
       "    <tr>\n",
       "      <th>274995</th>\n",
       "      <td>11</td>\n",
       "      <td>36.472636</td>\n",
       "      <td>10.0</td>\n",
       "      <td>0.861548</td>\n",
       "      <td>311.634628</td>\n",
       "      <td>1.0</td>\n",
       "      <td>0.406204</td>\n",
       "      <td>94.075970</td>\n",
       "      <td>1.0</td>\n",
       "      <td>0.267837</td>\n",
       "      <td>...</td>\n",
       "      <td>2</td>\n",
       "      <td>10</td>\n",
       "      <td>6</td>\n",
       "      <td>4</td>\n",
       "      <td>7</td>\n",
       "      <td>9</td>\n",
       "      <td>8</td>\n",
       "      <td>5</td>\n",
       "      <td>6</td>\n",
       "      <td>3</td>\n",
       "    </tr>\n",
       "    <tr>\n",
       "      <th>274996</th>\n",
       "      <td>83</td>\n",
       "      <td>114.609975</td>\n",
       "      <td>1.0</td>\n",
       "      <td>0.701080</td>\n",
       "      <td>236.826590</td>\n",
       "      <td>1.5</td>\n",
       "      <td>0.384472</td>\n",
       "      <td>229.176558</td>\n",
       "      <td>1.5</td>\n",
       "      <td>0.279916</td>\n",
       "      <td>...</td>\n",
       "      <td>2</td>\n",
       "      <td>10</td>\n",
       "      <td>6</td>\n",
       "      <td>4</td>\n",
       "      <td>7</td>\n",
       "      <td>9</td>\n",
       "      <td>8</td>\n",
       "      <td>5</td>\n",
       "      <td>6</td>\n",
       "      <td>3</td>\n",
       "    </tr>\n",
       "    <tr>\n",
       "      <th>274997</th>\n",
       "      <td>117</td>\n",
       "      <td>209.328350</td>\n",
       "      <td>1.0</td>\n",
       "      <td>0.152388</td>\n",
       "      <td>30.133378</td>\n",
       "      <td>1.5</td>\n",
       "      <td>0.511698</td>\n",
       "      <td>117.241683</td>\n",
       "      <td>1.5</td>\n",
       "      <td>0.292723</td>\n",
       "      <td>...</td>\n",
       "      <td>2</td>\n",
       "      <td>10</td>\n",
       "      <td>6</td>\n",
       "      <td>4</td>\n",
       "      <td>7</td>\n",
       "      <td>9</td>\n",
       "      <td>8</td>\n",
       "      <td>5</td>\n",
       "      <td>6</td>\n",
       "      <td>3</td>\n",
       "    </tr>\n",
       "    <tr>\n",
       "      <th>274998</th>\n",
       "      <td>120</td>\n",
       "      <td>55.912132</td>\n",
       "      <td>10.0</td>\n",
       "      <td>0.471526</td>\n",
       "      <td>219.754121</td>\n",
       "      <td>1.5</td>\n",
       "      <td>0.190638</td>\n",
       "      <td>307.120528</td>\n",
       "      <td>1.5</td>\n",
       "      <td>0.020785</td>\n",
       "      <td>...</td>\n",
       "      <td>2</td>\n",
       "      <td>10</td>\n",
       "      <td>6</td>\n",
       "      <td>4</td>\n",
       "      <td>7</td>\n",
       "      <td>9</td>\n",
       "      <td>8</td>\n",
       "      <td>5</td>\n",
       "      <td>6</td>\n",
       "      <td>3</td>\n",
       "    </tr>\n",
       "    <tr>\n",
       "      <th>274999</th>\n",
       "      <td>131</td>\n",
       "      <td>310.666579</td>\n",
       "      <td>1.0</td>\n",
       "      <td>0.732549</td>\n",
       "      <td>251.285427</td>\n",
       "      <td>1.5</td>\n",
       "      <td>0.673498</td>\n",
       "      <td>191.391468</td>\n",
       "      <td>1.0</td>\n",
       "      <td>0.470886</td>\n",
       "      <td>...</td>\n",
       "      <td>2</td>\n",
       "      <td>10</td>\n",
       "      <td>6</td>\n",
       "      <td>4</td>\n",
       "      <td>7</td>\n",
       "      <td>9</td>\n",
       "      <td>8</td>\n",
       "      <td>5</td>\n",
       "      <td>6</td>\n",
       "      <td>3</td>\n",
       "    </tr>\n",
       "  </tbody>\n",
       "</table>\n",
       "<p>275000 rows × 50 columns</p>\n",
       "</div>"
      ]
     },
     "execution_count": 3,
     "metadata": {},
     "output_type": "execute_result"
    }
   ],
   "execution_count": 3
  },
  {
   "metadata": {
    "ExecuteTime": {
     "end_time": "2025-06-10T14:10:10.436461Z",
     "start_time": "2025-06-10T14:10:10.329480Z"
    }
   },
   "cell_type": "code",
   "source": [
    "y_rfr = outcomes['RfR Total Costs']\n",
    "plt.hist(y_rfr)\n"
   ],
   "outputs": [
    {
     "data": {
      "text/plain": [
       "(array([12000., 17000., 35000., 37000., 64000., 48000., 35000., 18000.,\n",
       "         5000.,  4000.]),\n",
       " array([3.88400e+08, 5.39030e+08, 6.89660e+08, 8.40290e+08, 9.90920e+08,\n",
       "        1.14155e+09, 1.29218e+09, 1.44281e+09, 1.59344e+09, 1.74407e+09,\n",
       "        1.89470e+09]),\n",
       " <BarContainer object of 10 artists>)"
      ]
     },
     "execution_count": 4,
     "metadata": {},
     "output_type": "execute_result"
    },
    {
     "data": {
      "text/plain": [
       "<Figure size 640x480 with 1 Axes>"
      ],
      "image/png": "[encoded data removed]"
     },
     "metadata": {},
     "output_type": "display_data"
    }
   ],
   "execution_count": 4
  },
  {
   "metadata": {},
   "cell_type": "markdown",
   "source": "**3.** Apply scenario discovery\n"
  },
  {
   "metadata": {},
   "cell_type": "markdown",
   "source": "#### 1. RFR Total Cost"
  },
  {
   "metadata": {
    "ExecuteTime": {
     "end_time": "2025-06-10T14:10:51.439435Z",
     "start_time": "2025-06-10T14:10:10.539431Z"
    }
   },
   "cell_type": "code",
   "source": [
    "from ema_workbench.analysis import prim\n",
    "import matplotlib.pyplot as plt\n",
    "\n",
    "# Set thresholds for min and max outcome\n",
    "threshold_rfr_min = 1000000000\n",
    "threshold_rfr_max = 1400000000\n",
    "\n",
    "y_rfr = (outcomes['RfR Total Costs'] >= threshold_rfr_min) & (outcomes['RfR Total Costs'] <= threshold_rfr_max)\n",
    "\n",
    "# Execute PRIM\n",
    "x_rfr = cleaned_experiments.copy()\n",
    "prim_alg_rfr = prim.Prim(x_rfr, y_rfr, threshold=0.8)\n",
    "box_rfr = prim_alg_rfr.find_box()\n",
    "\n",
    "# Show results\n",
    "print(f\"'RfR Total Costs': {y_rfr.sum()} of {len(y_rfr)} are True.\")\n",
    "box_rfr.show_tradeoff()\n",
    "plt.show()"
   ],
   "outputs": [
    {
     "name": "stdout",
     "output_type": "stream",
     "text": [
      "'RfR Total Costs': 135000 of 275000 are True.\n"
     ]
    },
    {
     "data": {
      "text/plain": [
       "<Figure size 640x480 with 2 Axes>"
      ],
      "image/png": "[encoded data removed]"
     },
     "metadata": {},
     "output_type": "display_data"
    }
   ],
   "execution_count": 5
  },
  {
   "metadata": {
    "ExecuteTime": {
     "end_time": "2025-06-10T14:10:51.551436Z",
     "start_time": "2025-06-10T14:10:51.458442Z"
    }
   },
   "cell_type": "code",
   "source": [
    "# Inspect box\n",
    "box_rfr.inspect(9)\n",
    "box_rfr.inspect(9, style='graph')\n",
    "plt.show()"
   ],
   "outputs": [
    {
     "name": "stdout",
     "output_type": "stream",
     "text": [
      "coverage        0.362963\n",
      "density         0.816667\n",
      "id              9.000000\n",
      "k           49000.000000\n",
      "mass            0.218182\n",
      "mean            0.816667\n",
      "n           60000.000000\n",
      "res_dim         6.000000\n",
      "Name: 9, dtype: float64\n",
      "\n",
      "                   box 9                              \n",
      "                     min   max qp value       qp value\n",
      "A.3_DikeIncrease 0   0.0   8.0      NaN   0.000000e+00\n",
      "A.4_DikeIncrease 0   0.0   9.0      NaN  1.796458e-184\n",
      "A.1_DikeIncrease 0   0.0   9.0      NaN   1.137058e-84\n",
      "A.1_DikeIncrease 2   0.0   9.0      NaN   9.999223e-01\n",
      "4_RfR 1              1.0   1.0      0.0            NaN\n",
      "A.2_DikeIncrease 1   3.0  10.0      0.0            NaN\n",
      "\n"
     ]
    },
    {
     "data": {
      "text/plain": [
       "<Figure size 640x480 with 1 Axes>"
      ],
      "image/png": "[encoded data removed]"
     },
     "metadata": {},
     "output_type": "display_data"
    }
   ],
   "execution_count": 6
  },
  {
   "metadata": {
    "jupyter": {
     "is_executing": true
    },
    "ExecuteTime": {
     "start_time": "2025-06-10T14:10:51.580948Z"
    }
   },
   "cell_type": "code",
   "source": [
    "# Show scenario discovery\n",
    "box_rfr.show_pairs_scatter(9)\n",
    "plt.show()"
   ],
   "outputs": [],
   "execution_count": null
  },
  {
   "metadata": {},
   "cell_type": "code",
   "outputs": [],
   "execution_count": null,
   "source": [
    "print(len(box_rfr.box_lims[0].keys()))\n",
    "print(list(box_rfr.box_lims[0].keys()))"
   ]
  },
  {
   "metadata": {},
   "cell_type": "code",
   "outputs": [],
   "execution_count": null,
   "source": [
    "# Geselecteerde dimensies zijn gebaseerd op:\n",
    "# - De restricted_dims uit de PRIM-box, die aangeven welke variabelen het gedrag in de box verklaren\n",
    "# - Domeinkennis: faalkansen (pfail) en beleidshefbomen (RfR) zijn direct relevant voor RfR-kosten\n",
    "# - De discontovoeten zijn meegenomen omdat ze financiële uitkomsten beïnvloeden\n",
    "\n",
    "# dims_rfr = ['A.1_pfail','A.2_pfail', 'A.3_pfail',\n",
    "#             'discount rate 0', 'discount rate 1', 'discount rate 2',\n",
    "#             '0_RfR 0', '0_RfR 1', '0_RfR 2', '1_RfR 0', '1_RfR 1', '1_RfR 2', '2_RfR 0', '2_RfR 1', '2_RfR 2']\n",
    "# box_rfr.show_pairs_scatter(dims=dims_rfr)\n",
    "# plt.title(\"PRIM scatter - RfR Total Costs (select dims)\")\n",
    "# plt.show()"
   ]
  },
  {
   "metadata": {},
   "cell_type": "code",
   "outputs": [],
   "execution_count": null,
   "source": ""
  },
  {
   "metadata": {},
   "cell_type": "markdown",
   "source": "### 2. Expected Annual Damage"
  },
  {
   "metadata": {},
   "cell_type": "code",
   "outputs": [],
   "execution_count": null,
   "source": [
    "# Binaire classificatie aanmaken\n",
    "threshold_ead = 5000000\n",
    "y_ead = outcomes['Expected Annual Damage'] <= threshold_ead\n",
    "\n",
    "# Controle op voldoende positieve gevallen\n",
    "if y_ead.sum() < 10:\n",
    "    raise ValueError(f\"Te weinig positieve classificaties ({y_ead.sum()}) onder de drempel van {threshold_ead} voor 'Expected Annual Damage'.\")\n",
    "\n",
    "# PRIM uitvoeren\n",
    "x_ead = cleaned_experiments.copy()\n",
    "prim_alg_ead = prim.Prim(x_ead, y_ead, threshold=0.8)\n",
    "box_ead = prim_alg_ead.find_box()\n",
    "\n",
    "# Resultaten tonen\n",
    "print(f\"'Expected Annual Damage': {y_ead.sum()} van {len(y_ead)} scenario's voldoen aan de drempel.\")\n",
    "box_ead.show_tradeoff()\n",
    "#box_ead.show_box()\n",
    "plt.show()\n"
   ]
  },
  {
   "metadata": {},
   "cell_type": "code",
   "outputs": [],
   "execution_count": null,
   "source": "box_ead.inspect(9)"
  },
  {
   "metadata": {},
   "cell_type": "code",
   "outputs": [],
   "execution_count": null,
   "source": [
    "box_ead.inspect(9)\n",
    "box_ead.inspect(9,style='graph')\n",
    "plt.show()"
   ]
  },
  {
   "metadata": {},
   "cell_type": "code",
   "outputs": [],
   "execution_count": null,
   "source": [
    "box_ead.show_pairs_scatter(9)\n",
    "plt.show()"
   ]
  },
  {
   "metadata": {},
   "cell_type": "code",
   "outputs": [],
   "execution_count": null,
   "source": [
    "# print(len(box_ead.box_lims[0].keys()))\n",
    "# print(list(box_ead.box_lims[0].keys()))"
   ]
  },
  {
   "metadata": {},
   "cell_type": "code",
   "outputs": [],
   "execution_count": null,
   "source": [
    "# # # Selecteer handmatig een subset (bijv. 2 onzekerheden en 2 beleidshefbomen)\n",
    "# dims = ['A.1_pfail', 'A.2_pfail', '1_RfR 0', '2_RfR 1']\n",
    "#\n",
    "# box_ead.show_pairs_scatter(dims=dims)\n",
    "# plt.title(\"PRIM scatter - Expected Annual Damage (select dims)\")\n",
    "# plt.show()"
   ]
  },
  {
   "metadata": {},
   "cell_type": "code",
   "outputs": [],
   "execution_count": null,
   "source": [
    "# dims = list(box_ead.box_lims[0].keys())\n",
    "# box_ead.show_pairs_scatter(dims=dims)\n",
    "# plt.title(\"PRIM scatter - Expected Annual Damage (restricted dims)\")\n",
    "# plt.show()"
   ]
  },
  {
   "metadata": {},
   "cell_type": "markdown",
   "source": "### 3. 'Dike Investment Costs'"
  },
  {
   "metadata": {},
   "cell_type": "code",
   "outputs": [],
   "execution_count": null,
   "source": [
    "from ema_workbench.analysis import prim\n",
    "import matplotlib.pyplot as plt\n",
    "\n",
    "# Selecteer de relevante outcome-data\n",
    "data_dike_inv = outcomes['Dike Investment Costs']\n",
    "\n",
    "# Stel een binaire classificatie op voor lage investeringskosten\n",
    "threshold_dike_inv = 600_000_000\n",
    "y_dike_inv = (data_dike_inv <= threshold_dike_inv).astype(bool)\n",
    "\n",
    "# Controleer of er voldoende positieve gevallen zijn\n",
    "if y_dike_inv.sum() < 10:\n",
    "    raise ValueError(f\"Te weinig positieve classificaties ({y_dike_inv.sum()}) onder de drempel van {threshold_dike_inv} voor 'Dike Investment Costs'.\")\n",
    "\n",
    "# PRIM uitvoeren\n",
    "x_dike_inv = cleaned_experiments.copy()\n",
    "prim_alg_dike_inv = prim.Prim(x_dike_inv, y_dike_inv, threshold=0.8)\n",
    "box_dike_inv = prim_alg_dike_inv.find_box()\n",
    "\n",
    "# Resultaten tonen\n",
    "print(f\"'Dike Investment Costs': {y_dike_inv.sum()} van {len(y_dike_inv)} scenario's voldoen aan de drempel van {threshold_dike_inv}.\")\n",
    "box_dike_inv.show_tradeoff()\n",
    "#box_dike_inv.show_box()\n",
    "plt.show()\n"
   ]
  },
  {
   "metadata": {},
   "cell_type": "code",
   "outputs": [],
   "execution_count": null,
   "source": [
    "box_dike_inv.inspect(5)\n",
    "box_dike_inv.inspect(5, style='graph')\n",
    "plt.show()"
   ]
  },
  {
   "metadata": {},
   "cell_type": "code",
   "outputs": [],
   "execution_count": null,
   "source": [
    "box_dike_inv.show_pairs_scatter(5)\n",
    "plt.show()"
   ]
  },
  {
   "metadata": {},
   "cell_type": "code",
   "outputs": [],
   "execution_count": null,
   "source": [
    "# dims = list(box_dike_inv.box_lims[0].keys())\n",
    "# box_dike_inv.show_pairs_scatter(dims=dims)\n",
    "# plt.title(\"\")\n",
    "# plt.show()"
   ]
  },
  {
   "metadata": {},
   "cell_type": "code",
   "outputs": [],
   "execution_count": null,
   "source": [
    "# print(len(box_dike_inv.box_lims[0].keys()))\n",
    "# print(list(box_dike_inv.box_lims[0].keys()))"
   ]
  },
  {
   "metadata": {},
   "cell_type": "code",
   "outputs": [],
   "execution_count": null,
   "source": [
    "# dims_dike = ['A.2_Bmax', 'A.3_Brate', 'A.3_pfail', 'discount rate 1']\n",
    "# box_dike_inv.show_pairs_scatter(dims=dims_dike)\n",
    "# plt.title(\"PRIM scatter - Dike Investment Costs (select dims)\")\n",
    "# plt.show()"
   ]
  },
  {
   "metadata": {},
   "cell_type": "markdown",
   "source": "# 2. Visualize the results using Dimensional Stacking\n"
  },
  {
   "metadata": {},
   "cell_type": "code",
   "outputs": [],
   "execution_count": null,
   "source": [
    "from ema_workbench.analysis import dimensional_stacking\n",
    "import matplotlib.pyplot as plt"
   ]
  },
  {
   "metadata": {},
   "cell_type": "markdown",
   "source": "### 1. Dimensional stacking voor 'RfR Total Costs"
  },
  {
   "metadata": {},
   "cell_type": "code",
   "outputs": [],
   "execution_count": null,
   "source": [
    "dimensional_stacking.create_pivot_plot(experiments, y_rfr)\n",
    "plt.title(\"Dimensional stacking - RfR Total Costs ≤ 1.000.000.000\")\n",
    "plt.show()"
   ]
  },
  {
   "metadata": {},
   "cell_type": "markdown",
   "source": "### 2. Dimensional stacking voor 'Expected Annual Damage'\n"
  },
  {
   "metadata": {},
   "cell_type": "code",
   "outputs": [],
   "execution_count": null,
   "source": [
    "dimensional_stacking.create_pivot_plot(experiments, y_ead)\n",
    "plt.title(\"Dimensional stacking - Expected Annual Damage ≤ 5.000.000\")\n",
    "plt.show()"
   ]
  },
  {
   "metadata": {},
   "cell_type": "markdown",
   "source": "### 3. Dimensional stacking voor 'Dike Investment Costs'"
  },
  {
   "metadata": {},
   "cell_type": "code",
   "outputs": [],
   "execution_count": null,
   "source": [
    "dimensional_stacking.create_pivot_plot(experiments, y_dike_inv)\n",
    "plt.title(\"Dimensional stacking - Dike Investment Costs ≤ 600.000.000\")\n",
    "plt.show()"
   ]
  }
 ],
 "metadata": {
  "kernelspec": {
   "display_name": "Python 3",
   "language": "python",
   "name": "python3"
  },
  "language_info": {
   "codemirror_mode": {
    "name": "ipython",
    "version": 3
   },
   "file_extension": ".py",
   "mimetype": "text/x-python",
   "name": "python",
   "nbconvert_exporter": "python",
   "pygments_lexer": "ipython3",
   "version": "3.8.1"
  }
 },
 "nbformat": 4,
 "nbformat_minor": 4
}
