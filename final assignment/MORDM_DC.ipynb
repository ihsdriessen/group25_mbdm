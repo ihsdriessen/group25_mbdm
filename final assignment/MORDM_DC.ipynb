{
 "cells": [
  {
   "metadata": {},
   "cell_type": "markdown",
   "source": [
    "# Multi-objective robust decision making (MORDM)\n",
    "\n",
    "This file applies MOR-DM techniques to analyze and visualize the performance of policies under uncertainty. It focuses on identifying robust solutions by evaluating trade-offs across multiple outcomes using parallel coordinate plots.\n",
    "\n",
    "## Step 1: Problem formulation\n",
    "\n",
    "The problem formulation is chosen based on the expectation of the stakeholder."
   ]
  },
  {
   "metadata": {
    "ExecuteTime": {
     "end_time": "2025-06-18T09:07:15.935934Z",
     "start_time": "2025-06-18T09:07:15.923010Z"
    }
   },
   "cell_type": "code",
   "source": [
    "# Import all necessary packages\n",
    "import pandas as pd\n",
    "import numpy as np\n",
    "import matplotlib.pyplot as plt\n",
    "import seaborn as sns\n",
    "\n",
    "import warnings\n",
    "\n",
    "# Suppress all warnings\n",
    "warnings.filterwarnings(\"ignore\")"
   ],
   "outputs": [],
   "execution_count": 1
  },
  {
   "metadata": {
    "ExecuteTime": {
     "end_time": "2025-06-18T09:07:25.655153Z",
     "start_time": "2025-06-18T09:07:15.994524Z"
    }
   },
   "cell_type": "code",
   "source": [
    "from ema_workbench import (Model, RealParameter, CategoricalParameter, IntegerParameter, ScalarOutcome)\n",
    "from dike_model_function import DikeNetwork\n",
    "\n",
    "from ema_workbench import (Model, MultiprocessingEvaluator, SequentialEvaluator, ScalarOutcome, Policy,\n",
    "                           RealParameter, CategoricalParameter, IntegerParameter, optimize, Scenario)\n",
    "\n",
    "from ema_workbench.em_framework.optimization import EpsilonProgress, HyperVolume\n",
    "from ema_workbench.util import ema_logging\n",
    "from ema_workbench.em_framework.samplers import sample_levers, sample_uncertainties, LHSSampler\n",
    "from ema_workbench.em_framework.salib_samplers import SobolSampler, MorrisSampler\n",
    "from ema_workbench import save_results, load_results\n",
    "from ema_workbench.analysis import parcoords\n",
    "from ema_workbench.analysis import prim\n",
    "\n",
    "from problem_formulation2 import get_model_for_problem_formulation, sum_over, sum_over_time\n",
    "\n",
    "# Make model\n",
    "dike_model = Model('dikeproblem', function=DikeNetwork())\n",
    "\n",
    "# Set uncertainties\n",
    "dike_model.uncertainties = [\n",
    "    # Uncertainties per dike\n",
    "    RealParameter('A.1_Bmax', 30, 350),\n",
    "    RealParameter('A.1_pfail', 0, 1),\n",
    "    CategoricalParameter('A.1_Brate', [1.0, 1.5, 10]),\n",
    "\n",
    "    RealParameter('A.2_Bmax', 30, 350),\n",
    "    RealParameter('A.2_pfail', 0, 1),\n",
    "    CategoricalParameter('A.2_Brate', [1.0, 1.5, 10]),\n",
    "\n",
    "    RealParameter('A.3_Bmax', 30, 350),\n",
    "    RealParameter('A.3_pfail', 0, 1),\n",
    "    CategoricalParameter('A.3_Brate', [1.0, 1.5, 10]),\n",
    "\n",
    "    RealParameter('A.4_Bmax', 30, 350),\n",
    "    RealParameter('A.4_pfail', 0, 1),\n",
    "    CategoricalParameter('A.4_Brate', [1.0, 1.5, 10]),\n",
    "\n",
    "    RealParameter('A.5_Bmax', 30, 350),\n",
    "    RealParameter('A.5_pfail', 0, 1),\n",
    "    CategoricalParameter('A.5_Brate', [1.0, 1.5, 10]),\n",
    "\n",
    "    # Discount rate per planning step (planning_steps = [0,1,2])\n",
    "    CategoricalParameter('discount rate 0', [1.5, 2.5, 3.5, 4.5]),\n",
    "    CategoricalParameter('discount rate 1', [1.5, 2.5, 3.5, 4.5]),\n",
    "    CategoricalParameter('discount rate 2', [1.5, 2.5, 3.5, 4.5]),\n",
    "\n",
    "    # Flood wave shape\n",
    "    IntegerParameter('A.0_ID flood wave shape', 0, 132)\n",
    "]\n",
    "\n",
    "# Set levers\n",
    "dike_model.levers = [\n",
    "    # DikeIncrease per dike and per planning step\n",
    "    IntegerParameter('A.1_DikeIncrease 0', 0, 10),\n",
    "    IntegerParameter('A.1_DikeIncrease 1', 0, 10),\n",
    "    IntegerParameter('A.1_DikeIncrease 2', 0, 10),\n",
    "\n",
    "    IntegerParameter('A.2_DikeIncrease 0', 0, 10),\n",
    "    IntegerParameter('A.2_DikeIncrease 1', 0, 10),\n",
    "    IntegerParameter('A.2_DikeIncrease 2', 0, 10),\n",
    "\n",
    "    IntegerParameter('A.3_DikeIncrease 0', 0, 10),\n",
    "    IntegerParameter('A.3_DikeIncrease 1', 0, 10),\n",
    "    IntegerParameter('A.3_DikeIncrease 2', 0, 10),\n",
    "\n",
    "    IntegerParameter('A.4_DikeIncrease 0', 0, 10),\n",
    "    IntegerParameter('A.4_DikeIncrease 1', 0, 10),\n",
    "    IntegerParameter('A.4_DikeIncrease 2', 0, 10),\n",
    "\n",
    "    IntegerParameter('A.5_DikeIncrease 0', 0, 10),\n",
    "    IntegerParameter('A.5_DikeIncrease 1', 0, 10),\n",
    "    IntegerParameter('A.5_DikeIncrease 2', 0, 10),\n",
    "\n",
    "    # RfR per project en per planning step (5 projecten: 0 t/m 4)\n",
    "    IntegerParameter('0_RfR 0', 0, 1),\n",
    "    IntegerParameter('0_RfR 1', 0, 1),\n",
    "    IntegerParameter('0_RfR 2', 0, 1),\n",
    "\n",
    "    IntegerParameter('1_RfR 0', 0, 1),\n",
    "    IntegerParameter('1_RfR 1', 0, 1),\n",
    "    IntegerParameter('1_RfR 2', 0, 1),\n",
    "\n",
    "    IntegerParameter('2_RfR 0', 0, 1),\n",
    "    IntegerParameter('2_RfR 1', 0, 1),\n",
    "    IntegerParameter('2_RfR 2', 0, 1),\n",
    "\n",
    "    IntegerParameter('3_RfR 0', 0, 1),\n",
    "    IntegerParameter('3_RfR 1', 0, 1),\n",
    "    IntegerParameter('3_RfR 2', 0, 1),\n",
    "\n",
    "    IntegerParameter('4_RfR 0', 0, 1),\n",
    "    IntegerParameter('4_RfR 1', 0, 1),\n",
    "    IntegerParameter('4_RfR 2', 0, 1),\n",
    "\n",
    "    # Early Warning System\n",
    "    IntegerParameter('EWS_DaysToThreat', 0, 4)\n",
    "]\n",
    "\n",
    "\n",
    "# Set outcomes\n",
    "dike_cost_variables = []\n",
    "evac_cost_variables = []\n",
    "casuality_variables = []\n",
    "rfr_cost_variables = []\n",
    "\n",
    "dike_cost_variables.extend(\n",
    "    [f\"{dike}_Dike Investment Costs\" for dike in ['A.1', 'A.2']]\n",
    ")\n",
    "\n",
    "rfr_cost_variables.extend([f\"RfR Total Costs\"])\n",
    "evac_cost_variables.extend([f\"Evacuation Costs\"])\n",
    "casuality_variables.extend([f\"Expected Number of Deaths\"])\n",
    "\n",
    "dike_model.outcomes = [\n",
    "    ScalarOutcome(\n",
    "        \"Dike Investment Costs\",\n",
    "        variable_name=[var for var in dike_cost_variables],\n",
    "        function=sum_over,\n",
    "        kind=ScalarOutcome.MINIMIZE,\n",
    "    ),\n",
    "    ScalarOutcome(\n",
    "        \"RfR Total Costs\",\n",
    "        variable_name=rfr_cost_variables,\n",
    "        kind=ScalarOutcome.MINIMIZE,\n",
    "        function=sum_over,\n",
    "    ),\n",
    "    ScalarOutcome(\n",
    "        \"Evacuation Costs\",\n",
    "        variable_name=[var for var in evac_cost_variables],\n",
    "        function=sum_over,\n",
    "        kind=ScalarOutcome.MINIMIZE,\n",
    "    ),\n",
    "    ScalarOutcome(\n",
    "        \"Expected Number of Deaths\",\n",
    "        variable_name=[var for var in casuality_variables],\n",
    "        function=sum_over,\n",
    "        kind=ScalarOutcome.MINIMIZE,\n",
    "    ),\n",
    "]\n"
   ],
   "outputs": [],
   "execution_count": 2
  },
  {
   "metadata": {},
   "cell_type": "markdown",
   "source": [
    "## Step 2: Searching for candidate solutions\n",
    "\n",
    "In the second step of MORDM, candidate strategies are identified which are pareto optimal conditional on a reference scenario. These candiate strategies are identified through search with multi-objective evolutionary algorithms, that iteratively evaluate a large number of alternatives on multiple objectives until they find the best candidates. Different epsilon values are used, to see which one gives the best results.\n"
   ]
  },
  {
   "metadata": {
    "ExecuteTime": {
     "end_time": "2025-06-18T09:07:37.997625Z",
     "start_time": "2025-06-18T09:07:37.988344Z"
    }
   },
   "cell_type": "code",
   "source": [
    "# Setting up the reference scenario - needed for MORDM\n",
    "reference_values = {'Bmax': 175, 'Brate': 1.5, 'pfail': 0.5,\n",
    "                    'discount rate': 3.5,\n",
    "                    'ID flood wave shape': 4}\n",
    "\n",
    "# Definition of scenario-dictionary for later creation of policy class-instance for reference scenario\n",
    "scen1 = {}\n",
    "\n",
    "# Reference scenario updated for all dike rings\n",
    "for key in dike_model.uncertainties:\n",
    "    name_split = key.name.split('_')\n",
    "    if len(name_split) == 1:\n",
    "        if key.name in reference_values.keys():\n",
    "            scen1.update({key.name: reference_values[name]})\n",
    "    else:\n",
    "        scen1.update({key.name: reference_values[name_split[1]]})\n",
    "\n",
    "# Set reference scenario\n",
    "ref_scenario = Scenario('reference', **scen1)\n",
    "\n",
    "# set convergence metrics\n",
    "convergence_metrics = [EpsilonProgress()]\n",
    "\n",
    "nfe = 100000"
   ],
   "outputs": [],
   "execution_count": 5
  },
  {
   "metadata": {},
   "cell_type": "markdown",
   "source": "Now, we do it first with epsilon 0.1, and then with epsilon 0.01, to choose which one can give the best results."
  },
  {
   "metadata": {
    "ExecuteTime": {
     "end_time": "2025-06-18T09:09:37.436372Z",
     "start_time": "2025-06-18T09:07:38.893668Z"
    }
   },
   "cell_type": "code",
   "source": [
    "# Run optimization with epsilon = 0.1\n",
    "if __name__ == '__main__':\n",
    "    with MultiprocessingEvaluator(dike_model) as evaluator:\n",
    "            results1, convergence = evaluator.optimize(nfe=nfe,\n",
    "                                                      searchover='levers',\n",
    "                                                      epsilons=[0.1,]*len(dike_model.outcomes),\n",
    "                                                      convergence=convergence_metrics,\n",
    "                                                      reference=ref_scenario\n",
    "                                                      )"
   ],
   "outputs": [
    {
     "name": "stderr",
     "output_type": "stream",
     "text": [
      "100%|████████████████████████████████████████| 100/100 [01:26<00:00,  1.16it/s]\n"
     ]
    }
   ],
   "execution_count": 6
  },
  {
   "metadata": {
    "jupyter": {
     "is_executing": true
    },
    "ExecuteTime": {
     "start_time": "2025-06-18T09:09:37.495974Z"
    }
   },
   "cell_type": "code",
   "source": [
    "# Run optimization with epsilon = 0.01\n",
    "if __name__ == '__main__':\n",
    "    with MultiprocessingEvaluator(dike_model) as evaluator:\n",
    "            results2, convergence = evaluator.optimize(nfe=nfe,\n",
    "                                                      searchover='levers',\n",
    "                                                      epsilons=[0.01,]*len(dike_model.outcomes),\n",
    "                                                      convergence=convergence_metrics,\n",
    "                                                      reference=ref_scenario\n",
    "                                                      )"
   ],
   "outputs": [],
   "execution_count": null
  },
  {
   "metadata": {
    "ExecuteTime": {
     "end_time": "2025-06-17T13:28:48.154898Z",
     "start_time": "2025-06-17T13:28:48.001908Z"
    }
   },
   "cell_type": "code",
   "source": [
    "# Select relevant outcome columns for visualization\n",
    "data1 = results1.loc[:, [\n",
    "    \"Dike Investment Costs\",\n",
    "    \"RfR Total Costs\",\n",
    "    \"Evacuation Costs\",\n",
    "    \"Expected Number of Deaths\",\n",
    "]]\n",
    "\n",
    "# Get axis limits for the parallel coordinates plot\n",
    "limits1 = parcoords.get_limits(data1)\n",
    "\n",
    "# Set minimum values (lower bounds) for selected outcomes to 0\n",
    "limits1.loc[0, [\n",
    "    \"Dike Investment Costs\",\n",
    "    \"RfR Total Costs\",\n",
    "    \"Evacuation Costs\",\n",
    "    \"Expected Number of Deaths\",\n",
    "]] = 0\n",
    "\n",
    "# Create and plot the parallel axes for the selected outcomes\n",
    "paraxes1 = parcoords.ParallelAxes(limits1)\n",
    "paraxes1.plot(data1)\n",
    "plt.title(\"Parallel Coordinates Plot of Outcomes with epsilon = 0.1\")\n",
    "plt.show()"
   ],
   "outputs": [
    {
     "data": {
      "text/plain": [
       "<Figure size 640x480 with 2 Axes>"
      ],
      "image/png": "[encoded data removed]"
     },
     "metadata": {},
     "output_type": "display_data"
    }
   ],
   "execution_count": 10
  },
  {
   "metadata": {
    "ExecuteTime": {
     "end_time": "2025-06-17T13:28:48.236257Z",
     "start_time": "2025-06-17T13:28:48.178112Z"
    }
   },
   "cell_type": "code",
   "source": [
    "# Select relevant outcome columns for visualization\n",
    "data2 = results2.loc[:, [\n",
    "    \"Dike Investment Costs\",\n",
    "    \"RfR Total Costs\",\n",
    "    \"Evacuation Costs\",\n",
    "    \"Expected Number of Deaths\",\n",
    "]]\n",
    "\n",
    "# Get axis limits for the parallel coordinates plot\n",
    "limits2 = parcoords.get_limits(data2)\n",
    "\n",
    "# Set minimum values (lower bounds) for selected outcomes to 0\n",
    "limits2.loc[0, [\n",
    "    \"Dike Investment Costs\",\n",
    "    \"RfR Total Costs\",\n",
    "    \"Evacuation Costs\",\n",
    "    \"Expected Number of Deaths\",\n",
    "]] = 0\n",
    "\n",
    "# Create and plot the parallel axes for the selected outcomes\n",
    "paraxes2 = parcoords.ParallelAxes(limits2)\n",
    "paraxes2.plot(data2)\n",
    "plt.title(\"Parallel Coordinates Plot of Outcomes with epsilon = 0.01\")\n",
    "plt.show()"
   ],
   "outputs": [
    {
     "data": {
      "text/plain": [
       "<Figure size 640x480 with 2 Axes>"
      ],
      "image/png": "[encoded data removed]"
     },
     "metadata": {},
     "output_type": "display_data"
    }
   ],
   "execution_count": 11
  },
  {
   "metadata": {},
   "cell_type": "markdown",
   "source": [
    "As can be seen, epsilon 0.01 gives more results. So, the next part will go further with those results.\n",
    "\n",
    "## Step 3: Re-evaluate candidate solutions under uncertainty\n",
    "\n",
    "We apply a constraint on Dike Investment Costs to filter out policies that exceed the budget threshold.\n",
    "The remaining policies are reformatted and re-evaluated over 1000 scenarios using the EMA Workbench.\n",
    "This allows us to analyze the robustness of cost-effective policies under deep uncertainty.\n",
    "\n"
   ]
  },
  {
   "metadata": {
    "ExecuteTime": {
     "end_time": "2025-06-17T13:28:48.262655Z",
     "start_time": "2025-06-17T13:28:48.253210Z"
    }
   },
   "cell_type": "code",
   "source": [
    "# Create a boolean mask for policies with Evacuation Costs below €500000000\n",
    "logical = results2['Evacuation Costs'] < 500000000\n",
    "\n",
    "# Filter the results to include only the cost-effective policies\n",
    "results2[logical]"
   ],
   "outputs": [
    {
     "data": {
      "text/plain": [
       "   A.1_DikeIncrease 0  A.1_DikeIncrease 1  A.1_DikeIncrease 2  \\\n",
       "0                   0                   0                   0   \n",
       "\n",
       "   A.2_DikeIncrease 0  A.2_DikeIncrease 1  A.2_DikeIncrease 2  \\\n",
       "0                   0                   0                   0   \n",
       "\n",
       "   A.3_DikeIncrease 0  A.3_DikeIncrease 1  A.3_DikeIncrease 2  \\\n",
       "0                   5                   6                   6   \n",
       "\n",
       "   A.4_DikeIncrease 0  ...  3_RfR 0  3_RfR 1  3_RfR 2  4_RfR 0  4_RfR 1  \\\n",
       "0                   0  ...        0        0        1        1        0   \n",
       "\n",
       "   4_RfR 2  EWS_DaysToThreat  Dike Investment Costs  Evacuation Costs  \\\n",
       "0        0                 3                      0                 0   \n",
       "\n",
       "   Expected Number of Deaths  \n",
       "0                          0  \n",
       "\n",
       "[1 rows x 34 columns]"
      ],
      "text/html": [
       "<div>\n",
       "<style scoped>\n",
       "    .dataframe tbody tr th:only-of-type {\n",
       "        vertical-align: middle;\n",
       "    }\n",
       "\n",
       "    .dataframe tbody tr th {\n",
       "        vertical-align: top;\n",
       "    }\n",
       "\n",
       "    .dataframe thead th {\n",
       "        text-align: right;\n",
       "    }\n",
       "</style>\n",
       "<table border=\"1\" class=\"dataframe\">\n",
       "  <thead>\n",
       "    <tr style=\"text-align: right;\">\n",
       "      <th></th>\n",
       "      <th>A.1_DikeIncrease 0</th>\n",
       "      <th>A.1_DikeIncrease 1</th>\n",
       "      <th>A.1_DikeIncrease 2</th>\n",
       "      <th>A.2_DikeIncrease 0</th>\n",
       "      <th>A.2_DikeIncrease 1</th>\n",
       "      <th>A.2_DikeIncrease 2</th>\n",
       "      <th>A.3_DikeIncrease 0</th>\n",
       "      <th>A.3_DikeIncrease 1</th>\n",
       "      <th>A.3_DikeIncrease 2</th>\n",
       "      <th>A.4_DikeIncrease 0</th>\n",
       "      <th>...</th>\n",
       "      <th>3_RfR 0</th>\n",
       "      <th>3_RfR 1</th>\n",
       "      <th>3_RfR 2</th>\n",
       "      <th>4_RfR 0</th>\n",
       "      <th>4_RfR 1</th>\n",
       "      <th>4_RfR 2</th>\n",
       "      <th>EWS_DaysToThreat</th>\n",
       "      <th>Dike Investment Costs</th>\n",
       "      <th>Evacuation Costs</th>\n",
       "      <th>Expected Number of Deaths</th>\n",
       "    </tr>\n",
       "  </thead>\n",
       "  <tbody>\n",
       "    <tr>\n",
       "      <th>0</th>\n",
       "      <td>0</td>\n",
       "      <td>0</td>\n",
       "      <td>0</td>\n",
       "      <td>0</td>\n",
       "      <td>0</td>\n",
       "      <td>0</td>\n",
       "      <td>5</td>\n",
       "      <td>6</td>\n",
       "      <td>6</td>\n",
       "      <td>0</td>\n",
       "      <td>...</td>\n",
       "      <td>0</td>\n",
       "      <td>0</td>\n",
       "      <td>1</td>\n",
       "      <td>1</td>\n",
       "      <td>0</td>\n",
       "      <td>0</td>\n",
       "      <td>3</td>\n",
       "      <td>0</td>\n",
       "      <td>0</td>\n",
       "      <td>0</td>\n",
       "    </tr>\n",
       "  </tbody>\n",
       "</table>\n",
       "<p>1 rows × 34 columns</p>\n",
       "</div>"
      ]
     },
     "execution_count": 12,
     "metadata": {},
     "output_type": "execute_result"
    }
   ],
   "execution_count": 12
  },
  {
   "metadata": {
    "ExecuteTime": {
     "end_time": "2025-06-17T13:28:48.421759Z",
     "start_time": "2025-06-17T13:28:48.417052Z"
    }
   },
   "cell_type": "code",
   "source": [
    "# Select the filtered policies that meet the cost constraint\n",
    "policies = results2[logical]\n",
    "\n",
    "# Remove outcome columns to keep only policy input parameters\n",
    "policies = policies.drop([o.name for o in dike_model.outcomes], axis=1)\n",
    "\n",
    "# Display the resulting policies dataframe\n",
    "policies"
   ],
   "outputs": [
    {
     "data": {
      "text/plain": [
       "   A.1_DikeIncrease 0  A.1_DikeIncrease 1  A.1_DikeIncrease 2  \\\n",
       "0                   0                   0                   0   \n",
       "\n",
       "   A.2_DikeIncrease 0  A.2_DikeIncrease 1  A.2_DikeIncrease 2  \\\n",
       "0                   0                   0                   0   \n",
       "\n",
       "   A.3_DikeIncrease 0  A.3_DikeIncrease 1  A.3_DikeIncrease 2  \\\n",
       "0                   5                   6                   6   \n",
       "\n",
       "   A.4_DikeIncrease 0  ...  2_RfR 0  2_RfR 1  2_RfR 2  3_RfR 0  3_RfR 1  \\\n",
       "0                   0  ...        0        1        1        0        0   \n",
       "\n",
       "   3_RfR 2  4_RfR 0  4_RfR 1  4_RfR 2  EWS_DaysToThreat  \n",
       "0        1        1        0        0                 3  \n",
       "\n",
       "[1 rows x 31 columns]"
      ],
      "text/html": [
       "<div>\n",
       "<style scoped>\n",
       "    .dataframe tbody tr th:only-of-type {\n",
       "        vertical-align: middle;\n",
       "    }\n",
       "\n",
       "    .dataframe tbody tr th {\n",
       "        vertical-align: top;\n",
       "    }\n",
       "\n",
       "    .dataframe thead th {\n",
       "        text-align: right;\n",
       "    }\n",
       "</style>\n",
       "<table border=\"1\" class=\"dataframe\">\n",
       "  <thead>\n",
       "    <tr style=\"text-align: right;\">\n",
       "      <th></th>\n",
       "      <th>A.1_DikeIncrease 0</th>\n",
       "      <th>A.1_DikeIncrease 1</th>\n",
       "      <th>A.1_DikeIncrease 2</th>\n",
       "      <th>A.2_DikeIncrease 0</th>\n",
       "      <th>A.2_DikeIncrease 1</th>\n",
       "      <th>A.2_DikeIncrease 2</th>\n",
       "      <th>A.3_DikeIncrease 0</th>\n",
       "      <th>A.3_DikeIncrease 1</th>\n",
       "      <th>A.3_DikeIncrease 2</th>\n",
       "      <th>A.4_DikeIncrease 0</th>\n",
       "      <th>...</th>\n",
       "      <th>2_RfR 0</th>\n",
       "      <th>2_RfR 1</th>\n",
       "      <th>2_RfR 2</th>\n",
       "      <th>3_RfR 0</th>\n",
       "      <th>3_RfR 1</th>\n",
       "      <th>3_RfR 2</th>\n",
       "      <th>4_RfR 0</th>\n",
       "      <th>4_RfR 1</th>\n",
       "      <th>4_RfR 2</th>\n",
       "      <th>EWS_DaysToThreat</th>\n",
       "    </tr>\n",
       "  </thead>\n",
       "  <tbody>\n",
       "    <tr>\n",
       "      <th>0</th>\n",
       "      <td>0</td>\n",
       "      <td>0</td>\n",
       "      <td>0</td>\n",
       "      <td>0</td>\n",
       "      <td>0</td>\n",
       "      <td>0</td>\n",
       "      <td>5</td>\n",
       "      <td>6</td>\n",
       "      <td>6</td>\n",
       "      <td>0</td>\n",
       "      <td>...</td>\n",
       "      <td>0</td>\n",
       "      <td>1</td>\n",
       "      <td>1</td>\n",
       "      <td>0</td>\n",
       "      <td>0</td>\n",
       "      <td>1</td>\n",
       "      <td>1</td>\n",
       "      <td>0</td>\n",
       "      <td>0</td>\n",
       "      <td>3</td>\n",
       "    </tr>\n",
       "  </tbody>\n",
       "</table>\n",
       "<p>1 rows × 31 columns</p>\n",
       "</div>"
      ]
     },
     "execution_count": 13,
     "metadata": {},
     "output_type": "execute_result"
    }
   ],
   "execution_count": 13
  },
  {
   "metadata": {
    "ExecuteTime": {
     "end_time": "2025-06-17T13:28:48.458023Z",
     "start_time": "2025-06-17T13:28:48.454904Z"
    }
   },
   "cell_type": "code",
   "source": [
    "from ema_workbench import Policy\n",
    "\n",
    "# Make each policy row into a Policy object for EMA Workbench evaluation\n",
    "policies_to_evaluate = []\n",
    "\n",
    "for i, policy in policies.iterrows():\n",
    "    policies_to_evaluate.append(Policy(str(i), **policy.to_dict()))"
   ],
   "outputs": [],
   "execution_count": 14
  },
  {
   "metadata": {
    "ExecuteTime": {
     "end_time": "2025-06-17T13:29:17.345460Z",
     "start_time": "2025-06-17T13:28:48.530044Z"
    }
   },
   "cell_type": "code",
   "source": [
    "# Define the number of scenarios to run per policy\n",
    "n_scenarios = 1000\n",
    "\n",
    "# Run the model evaluations for the selected policies and scenarios\n",
    "with MultiprocessingEvaluator(dike_model) as evaluator:\n",
    "    results = evaluator.perform_experiments(n_scenarios, policies_to_evaluate)"
   ],
   "outputs": [
    {
     "name": "stderr",
     "output_type": "stream",
     "text": [
      "\n",
      "  0%|                                                 | 0/1000 [00:00<?, ?it/s]\u001B[A\n",
      "  0%|                                         | 1/1000 [00:00<03:23,  4.90it/s]\u001B[A\n",
      "  1%|▍                                       | 11/1000 [00:00<00:27, 36.56it/s]\u001B[A\n",
      "  2%|▊                                       | 21/1000 [00:00<00:20, 46.89it/s]\u001B[A\n",
      "  3%|█▏                                      | 31/1000 [00:00<00:17, 54.17it/s]\u001B[A\n",
      "  4%|█▌                                      | 40/1000 [00:00<00:15, 60.01it/s]\u001B[A\n",
      "  5%|█▉                                      | 47/1000 [00:00<00:15, 61.35it/s]\u001B[A\n",
      "  5%|██▏                                     | 54/1000 [00:01<00:17, 53.69it/s]\u001B[A\n",
      "  6%|██▍                                     | 62/1000 [00:01<00:16, 57.26it/s]\u001B[A\n",
      "  7%|██▋                                     | 68/1000 [00:01<00:16, 56.58it/s]\u001B[A\n",
      "  7%|██▉                                     | 74/1000 [00:01<00:16, 57.29it/s]\u001B[A\n",
      "  8%|███▏                                    | 80/1000 [00:01<00:17, 53.95it/s]\u001B[A\n",
      "  9%|███▌                                    | 89/1000 [00:01<00:15, 57.65it/s]\u001B[A\n",
      " 10%|███▉                                    | 98/1000 [00:01<00:13, 64.99it/s]\u001B[A\n",
      " 10%|████                                   | 105/1000 [00:01<00:15, 58.85it/s]\u001B[A\n",
      " 11%|████▎                                  | 112/1000 [00:02<00:17, 50.89it/s]\u001B[A\n",
      " 12%|████▋                                  | 121/1000 [00:02<00:14, 59.72it/s]\u001B[A\n",
      " 13%|████▉                                  | 128/1000 [00:02<00:14, 61.06it/s]\u001B[A\n",
      " 14%|█████▎                                 | 135/1000 [00:02<00:14, 61.22it/s]\u001B[A\n",
      " 14%|█████▌                                 | 142/1000 [00:02<00:13, 61.32it/s]\u001B[A\n",
      " 15%|█████▊                                 | 149/1000 [00:02<00:15, 53.64it/s]\u001B[A\n",
      " 16%|██████                                 | 157/1000 [00:02<00:14, 58.56it/s]\u001B[A\n",
      " 16%|██████▍                                | 164/1000 [00:02<00:14, 58.64it/s]\u001B[A\n",
      " 17%|██████▋                                | 171/1000 [00:03<00:14, 56.02it/s]\u001B[A\n",
      " 18%|██████▉                                | 177/1000 [00:03<00:14, 56.20it/s]\u001B[A\n",
      " 19%|███████▎                               | 187/1000 [00:03<00:13, 59.36it/s]\u001B[A\n",
      " 19%|███████▌                               | 193/1000 [00:03<00:14, 56.60it/s]\u001B[A\n",
      " 20%|███████▊                               | 201/1000 [00:03<00:13, 58.18it/s]\u001B[A\n",
      " 21%|████████                               | 208/1000 [00:03<00:13, 59.48it/s]\u001B[A\n",
      " 21%|████████▎                              | 214/1000 [00:03<00:14, 56.12it/s]\u001B[A\n",
      " 22%|████████▋                              | 222/1000 [00:03<00:13, 58.07it/s]\u001B[A\n",
      " 23%|████████▉                              | 228/1000 [00:04<00:13, 58.08it/s]\u001B[A\n",
      " 24%|█████████▎                             | 238/1000 [00:04<00:12, 60.76it/s]\u001B[A\n",
      " 24%|█████████▌                             | 245/1000 [00:04<00:12, 60.04it/s]\u001B[A\n",
      " 25%|█████████▊                             | 251/1000 [00:04<00:14, 53.20it/s]\u001B[A\n",
      " 26%|██████████▏                            | 260/1000 [00:04<00:13, 53.37it/s]\u001B[A\n",
      " 27%|██████████▌                            | 270/1000 [00:04<00:12, 58.58it/s]\u001B[A\n",
      " 28%|██████████▊                            | 276/1000 [00:04<00:13, 55.19it/s]\u001B[A\n",
      " 29%|███████████▏                           | 286/1000 [00:05<00:11, 64.37it/s]\u001B[A\n",
      " 29%|███████████▍                           | 293/1000 [00:05<00:11, 60.41it/s]\u001B[A\n",
      " 30%|███████████▋                           | 300/1000 [00:05<00:11, 59.67it/s]\u001B[A\n",
      " 31%|███████████▉                           | 307/1000 [00:05<00:11, 59.97it/s]\u001B[A\n",
      " 32%|████████████▎                          | 315/1000 [00:05<00:11, 61.74it/s]\u001B[A\n",
      " 32%|████████████▌                          | 322/1000 [00:05<00:11, 60.57it/s]\u001B[A\n",
      " 33%|████████████▊                          | 329/1000 [00:05<00:11, 57.26it/s]\u001B[A\n",
      " 34%|█████████████                          | 336/1000 [00:05<00:11, 56.99it/s]\u001B[A\n",
      " 34%|█████████████▍                         | 344/1000 [00:06<00:10, 62.00it/s]\u001B[A\n",
      " 35%|█████████████▋                         | 351/1000 [00:06<00:11, 55.35it/s]\u001B[A\n",
      " 36%|█████████████▉                         | 358/1000 [00:06<00:11, 53.89it/s]\u001B[A\n",
      " 37%|██████████████▎                        | 366/1000 [00:06<00:10, 58.37it/s]\u001B[A\n",
      " 37%|██████████████▌                        | 372/1000 [00:06<00:10, 58.24it/s]\u001B[A\n",
      " 38%|██████████████▊                        | 379/1000 [00:06<00:10, 58.50it/s]\u001B[A\n",
      " 38%|███████████████                        | 385/1000 [00:06<00:10, 57.74it/s]\u001B[A\n",
      " 39%|███████████████▏                       | 391/1000 [00:06<00:11, 53.23it/s]\u001B[A\n",
      " 40%|███████████████▌                       | 399/1000 [00:07<00:10, 57.61it/s]\u001B[A\n",
      " 40%|███████████████▊                       | 405/1000 [00:07<00:10, 55.78it/s]\u001B[A\n",
      " 41%|████████████████                       | 411/1000 [00:07<00:10, 55.21it/s]\u001B[A\n",
      " 42%|████████████████▎                      | 419/1000 [00:07<00:10, 56.37it/s]\u001B[A\n",
      " 43%|████████████████▌                      | 426/1000 [00:07<00:09, 57.69it/s]\u001B[A\n",
      " 43%|████████████████▊                      | 432/1000 [00:07<00:10, 53.47it/s]\u001B[A\n",
      " 44%|█████████████████▏                     | 440/1000 [00:07<00:10, 55.45it/s]\u001B[A\n",
      " 45%|█████████████████▍                     | 447/1000 [00:07<00:10, 55.05it/s]\u001B[A\n",
      " 45%|█████████████████▋                     | 454/1000 [00:07<00:09, 58.28it/s]\u001B[A\n",
      " 46%|█████████████████▉                     | 460/1000 [00:08<00:10, 52.35it/s]\u001B[A\n",
      " 47%|██████████████████▎                    | 468/1000 [00:08<00:09, 58.65it/s]\u001B[A\n",
      " 48%|██████████████████▌                    | 475/1000 [00:08<00:09, 54.27it/s]\u001B[A\n",
      " 48%|██████████████████▊                    | 482/1000 [00:08<00:09, 56.07it/s]\u001B[A\n",
      " 49%|███████████████████                    | 489/1000 [00:08<00:09, 53.17it/s]\u001B[A\n",
      " 50%|███████████████████▍                   | 497/1000 [00:08<00:09, 55.83it/s]\u001B[A\n",
      " 50%|███████████████████▌                   | 503/1000 [00:08<00:10, 49.65it/s]\u001B[A\n",
      " 51%|███████████████████▊                   | 509/1000 [00:09<00:11, 42.45it/s]\u001B[A\n",
      " 52%|████████████████████▏                  | 517/1000 [00:09<00:09, 49.62it/s]\u001B[A\n",
      " 52%|████████████████████▍                  | 524/1000 [00:09<00:08, 54.11it/s]\u001B[A\n",
      " 53%|████████████████████▋                  | 531/1000 [00:09<00:08, 57.94it/s]\u001B[A\n",
      " 54%|████████████████████▉                  | 538/1000 [00:09<00:08, 54.29it/s]\u001B[A\n",
      " 54%|█████████████████████▏                 | 544/1000 [00:09<00:09, 48.63it/s]\u001B[A\n",
      " 55%|█████████████████████▌                 | 554/1000 [00:09<00:08, 54.62it/s]\u001B[A\n",
      " 56%|█████████████████████▉                 | 561/1000 [00:10<00:07, 55.60it/s]\u001B[A\n",
      " 57%|██████████████████████                 | 567/1000 [00:10<00:08, 48.94it/s]\u001B[A\n",
      " 58%|██████████████████████▌                | 577/1000 [00:10<00:07, 54.21it/s]\u001B[A\n",
      " 59%|██████████████████████▊                | 586/1000 [00:10<00:06, 61.72it/s]\u001B[A\n",
      " 59%|███████████████████████▏               | 593/1000 [00:10<00:06, 59.93it/s]\u001B[A\n",
      " 60%|███████████████████████▍               | 600/1000 [00:10<00:07, 51.70it/s]\u001B[A\n",
      " 61%|███████████████████████▊               | 609/1000 [00:10<00:07, 55.03it/s]\u001B[A\n",
      " 62%|████████████████████████               | 618/1000 [00:11<00:06, 59.80it/s]\u001B[A\n",
      " 62%|████████████████████████▍              | 625/1000 [00:11<00:06, 58.93it/s]\u001B[A\n",
      " 63%|████████████████████████▋              | 632/1000 [00:11<00:07, 52.05it/s]\u001B[A\n",
      " 64%|████████████████████████▉              | 639/1000 [00:11<00:06, 55.65it/s]\u001B[A\n",
      " 64%|█████████████████████████▏             | 645/1000 [00:11<00:06, 56.34it/s]\u001B[A\n",
      " 65%|█████████████████████████▍             | 651/1000 [00:11<00:06, 53.06it/s]\u001B[A\n",
      " 66%|█████████████████████████▋             | 658/1000 [00:11<00:06, 54.91it/s]\u001B[A\n",
      " 67%|█████████████████████████▉             | 666/1000 [00:11<00:06, 54.75it/s]\u001B[A\n",
      " 67%|██████████████████████████▏            | 672/1000 [00:12<00:05, 54.88it/s]\u001B[A\n",
      " 68%|██████████████████████████▍            | 679/1000 [00:12<00:06, 53.16it/s]\u001B[A\n",
      " 69%|██████████████████████████▊            | 688/1000 [00:12<00:05, 53.70it/s]\u001B[A\n",
      " 69%|███████████████████████████            | 694/1000 [00:12<00:05, 52.48it/s]\u001B[A\n",
      " 70%|███████████████████████████▎           | 700/1000 [00:12<00:06, 44.50it/s]\u001B[A\n",
      " 71%|███████████████████████████▌           | 708/1000 [00:12<00:05, 50.13it/s]\u001B[A\n",
      " 71%|███████████████████████████▊           | 714/1000 [00:13<00:07, 38.27it/s]\u001B[A\n",
      " 72%|████████████████████████████           | 719/1000 [00:13<00:08, 34.16it/s]\u001B[A\n",
      " 73%|████████████████████████████▎          | 727/1000 [00:13<00:06, 40.96it/s]\u001B[A\n",
      " 73%|████████████████████████████▌          | 732/1000 [00:13<00:06, 41.40it/s]\u001B[A\n",
      " 74%|████████████████████████████▊          | 738/1000 [00:13<00:06, 43.26it/s]\u001B[A\n",
      " 75%|█████████████████████████████▏         | 747/1000 [00:13<00:05, 48.43it/s]\u001B[A\n",
      " 75%|█████████████████████████████▎         | 753/1000 [00:13<00:05, 46.09it/s]\u001B[A\n",
      " 76%|█████████████████████████████▌         | 758/1000 [00:14<00:05, 42.98it/s]\u001B[A\n",
      " 76%|█████████████████████████████▊         | 763/1000 [00:14<00:05, 44.47it/s]\u001B[A\n",
      " 77%|█████████████████████████████▉         | 768/1000 [00:14<00:05, 42.89it/s]\u001B[A\n",
      " 77%|██████████████████████████████▏        | 774/1000 [00:14<00:04, 45.37it/s]\u001B[A\n",
      " 78%|██████████████████████████████▍        | 780/1000 [00:14<00:05, 43.54it/s]\u001B[A\n",
      " 79%|██████████████████████████████▋        | 787/1000 [00:14<00:04, 46.91it/s]\u001B[A\n",
      " 79%|██████████████████████████████▉        | 794/1000 [00:14<00:03, 51.66it/s]\u001B[A\n",
      " 80%|███████████████████████████████▏       | 800/1000 [00:14<00:04, 48.78it/s]\u001B[A\n",
      " 81%|███████████████████████████████▌       | 808/1000 [00:15<00:03, 52.04it/s]\u001B[A\n",
      " 81%|███████████████████████████████▋       | 814/1000 [00:15<00:03, 50.68it/s]\u001B[A\n",
      " 82%|████████████████████████████████       | 822/1000 [00:15<00:03, 54.20it/s]\u001B[A\n",
      " 83%|████████████████████████████████▎      | 829/1000 [00:15<00:03, 52.69it/s]\u001B[A\n",
      " 84%|████████████████████████████████▌      | 835/1000 [00:15<00:03, 54.15it/s]\u001B[A\n",
      " 84%|████████████████████████████████▊      | 841/1000 [00:15<00:03, 52.86it/s]\u001B[A\n",
      " 85%|█████████████████████████████████      | 848/1000 [00:15<00:02, 54.59it/s]\u001B[A\n",
      " 85%|█████████████████████████████████▎     | 854/1000 [00:15<00:02, 55.89it/s]\u001B[A\n",
      " 86%|█████████████████████████████████▌     | 860/1000 [00:16<00:02, 51.05it/s]\u001B[A\n",
      " 87%|█████████████████████████████████▊     | 866/1000 [00:16<00:02, 50.82it/s]\u001B[A\n",
      " 87%|██████████████████████████████████     | 872/1000 [00:16<00:02, 51.57it/s]\u001B[A\n",
      " 88%|██████████████████████████████████▏    | 878/1000 [00:16<00:02, 45.78it/s]\u001B[A\n",
      " 89%|██████████████████████████████████▌    | 887/1000 [00:16<00:02, 51.45it/s]\u001B[A\n",
      " 89%|██████████████████████████████████▊    | 894/1000 [00:16<00:01, 55.89it/s]\u001B[A\n",
      " 90%|███████████████████████████████████    | 900/1000 [00:16<00:01, 52.32it/s]\u001B[A\n",
      " 91%|███████████████████████████████████▎   | 906/1000 [00:16<00:01, 52.89it/s]\u001B[A\n",
      " 91%|███████████████████████████████████▌   | 912/1000 [00:17<00:01, 53.84it/s]\u001B[A\n",
      " 92%|███████████████████████████████████▊   | 918/1000 [00:17<00:01, 47.98it/s]\u001B[A\n",
      " 92%|████████████████████████████████████   | 925/1000 [00:17<00:01, 50.24it/s]\u001B[A\n",
      " 93%|████████████████████████████████████▍  | 934/1000 [00:17<00:01, 58.12it/s]\u001B[A\n",
      " 94%|████████████████████████████████████▋  | 940/1000 [00:17<00:01, 53.62it/s]\u001B[A\n",
      " 95%|████████████████████████████████████▉  | 946/1000 [00:17<00:01, 51.87it/s]\u001B[A\n",
      " 95%|█████████████████████████████████████▏ | 954/1000 [00:17<00:00, 58.93it/s]\u001B[A\n",
      " 96%|█████████████████████████████████████▍ | 961/1000 [00:17<00:00, 53.03it/s]\u001B[A\n",
      " 97%|█████████████████████████████████████▋ | 967/1000 [00:18<00:00, 50.83it/s]\u001B[A\n",
      " 98%|██████████████████████████████████████ | 976/1000 [00:18<00:00, 54.50it/s]\u001B[A\n",
      " 98%|██████████████████████████████████████▍| 985/1000 [00:18<00:00, 61.16it/s]\u001B[A\n",
      " 99%|██████████████████████████████████████▋| 992/1000 [00:18<00:00, 54.80it/s]\u001B[A\n",
      "100%|██████████████████████████████████████| 1000/1000 [00:18<00:00, 53.81it/s]\u001B[A\n"
     ]
    }
   ],
   "execution_count": 15
  },
  {
   "metadata": {},
   "cell_type": "markdown",
   "source": [
    "**Signal-to-noise ratio**\n",
    "\n",
    "We evaluate the robustness of each policy by analyzing its performance across 1000 scenarios, focusing on our outcomes. Robustness is quantified using the signal-to-noise ratio, which balances the mean outcome against its standard deviation, with different formulations depending on whether the outcome should be maximized or minimized. By calculating these ratios for all outcomes and policies, we can visualize trade-offs and identify policies that offer good compromises."
   ]
  },
  {
   "metadata": {
    "ExecuteTime": {
     "end_time": "2025-06-17T13:29:17.362889Z",
     "start_time": "2025-06-17T13:29:17.360826Z"
    }
   },
   "cell_type": "code",
   "source": [
    "def s_to_n(data, direction):\n",
    "    # Calculate mean and standard deviation of the data\n",
    "    mean = np.mean(data)\n",
    "    std = np.std(data)\n",
    "\n",
    "    # Avoid division by zero if std is zero\n",
    "    if std==0:\n",
    "        std = 1\n",
    "\n",
    "    # For outcomes to maximize, use mean divided by std\n",
    "    if direction==ScalarOutcome.MAXIMIZE:\n",
    "        return mean/std\n",
    "    else:\n",
    "        # For outcomes to minimize, use mean multiplied by std\n",
    "        return mean*std\n",
    "    "
   ],
   "outputs": [],
   "execution_count": 16
  },
  {
   "metadata": {},
   "cell_type": "markdown",
   "source": "The signal-to-noise ratio is calculated for each policy and each outcome using the results for that policy. The direction of the outcome tells how to calculate the ratio, so the code does not need to be repeated. All the results are put into a dataframe to make visualization easier."
  },
  {
   "metadata": {
    "ExecuteTime": {
     "end_time": "2025-06-17T13:29:17.394486Z",
     "start_time": "2025-06-17T13:29:17.389818Z"
    }
   },
   "cell_type": "code",
   "source": [
    "experiments, outcomes = results\n",
    "\n",
    "# Initialize dictionary to store signal-to-noise scores for each policy\n",
    "overall_scores = {}\n",
    "\n",
    "# Loop over each unique policy\n",
    "for policy in np.unique(experiments['policy']):\n",
    "    scores = {}\n",
    "\n",
    "    # Select experiments corresponding to the current policy\n",
    "    logical = experiments['policy']==policy\n",
    "\n",
    "    # Calculate signal-to-noise ratio for each outcome of the policy\n",
    "    for outcome in dike_model.outcomes:\n",
    "        value  = outcomes[outcome.name][logical]\n",
    "        sn_ratio = s_to_n(value, outcome.kind)\n",
    "        scores[outcome.name] = sn_ratio\n",
    "\n",
    "    # Store the scores for this policy\n",
    "    overall_scores[policy] = scores\n",
    "\n",
    "# Convert the scores dictionary to a DataFrame and transpose\n",
    "scores = pd.DataFrame.from_dict(overall_scores).T\n",
    "scores"
   ],
   "outputs": [
    {
     "data": {
      "text/plain": [
       "   Dike Investment Costs  Evacuation Costs  Expected Number of Deaths\n",
       "0                    0.0               0.0                        0.0"
      ],
      "text/html": [
       "<div>\n",
       "<style scoped>\n",
       "    .dataframe tbody tr th:only-of-type {\n",
       "        vertical-align: middle;\n",
       "    }\n",
       "\n",
       "    .dataframe tbody tr th {\n",
       "        vertical-align: top;\n",
       "    }\n",
       "\n",
       "    .dataframe thead th {\n",
       "        text-align: right;\n",
       "    }\n",
       "</style>\n",
       "<table border=\"1\" class=\"dataframe\">\n",
       "  <thead>\n",
       "    <tr style=\"text-align: right;\">\n",
       "      <th></th>\n",
       "      <th>Dike Investment Costs</th>\n",
       "      <th>Evacuation Costs</th>\n",
       "      <th>Expected Number of Deaths</th>\n",
       "    </tr>\n",
       "  </thead>\n",
       "  <tbody>\n",
       "    <tr>\n",
       "      <th>0</th>\n",
       "      <td>0.0</td>\n",
       "      <td>0.0</td>\n",
       "      <td>0.0</td>\n",
       "    </tr>\n",
       "  </tbody>\n",
       "</table>\n",
       "</div>"
      ]
     },
     "execution_count": 17,
     "metadata": {},
     "output_type": "execute_result"
    }
   ],
   "execution_count": 17
  },
  {
   "metadata": {
    "ExecuteTime": {
     "end_time": "2025-06-17T13:29:17.493797Z",
     "start_time": "2025-06-17T13:29:17.448055Z"
    }
   },
   "cell_type": "code",
   "source": [
    "from ema_workbench.analysis import parcoords\n",
    "\n",
    "# Use the calculated scores as data for the parallel coordinates plot\n",
    "data = scores\n",
    "limits = parcoords.get_limits(data)\n",
    "limits.loc[0, [\n",
    "    \"Dike Investment Costs\",\n",
    "    \"RfR Total Costs\",\n",
    "    \"Evacuation Costs\",\n",
    "    \"Expected Number of Deaths\",\n",
    "] ] = 0\n",
    "\n",
    "# Plot the data showing trade-offs across outcomes for each policy\n",
    "paraxes = parcoords.ParallelAxes(limits)\n",
    "paraxes.plot(data)\n",
    "plt.show()"
   ],
   "outputs": [
    {
     "data": {
      "text/plain": [
       "<Figure size 640x480 with 2 Axes>"
      ],
      "image/png": "[encoded data removed]"
     },
     "metadata": {},
     "output_type": "display_data"
    }
   ],
   "execution_count": 18
  },
  {
   "metadata": {},
   "cell_type": "markdown",
   "source": [
    "**Maximum regret**\n",
    "\n",
    "Maximum regret measures the worst-case difference between a policy’s performance and the best possible outcome across all scenarios. It is calculated for each policy and outcome, favoring policies with lower maximum regret values. These values can be visualized using parallel plots to identify policies that balance trade-offs effectively."
   ]
  },
  {
   "metadata": {
    "ExecuteTime": {
     "end_time": "2025-06-17T13:29:17.551765Z",
     "start_time": "2025-06-17T13:29:17.549941Z"
    }
   },
   "cell_type": "code",
   "source": [
    "def calculate_regret(data, best):\n",
    "    return np.abs(best-data)"
   ],
   "outputs": [],
   "execution_count": 19
  },
  {
   "metadata": {},
   "cell_type": "markdown",
   "source": "Regret is the absolute difference between a policy’s outcome and the best possible outcome in each scenario, regardless of whether the outcome is to be minimized or maximized. This allows calculating the best value across policies for each scenario efficiently."
  },
  {
   "metadata": {
    "ExecuteTime": {
     "end_time": "2025-06-17T13:29:17.612343Z",
     "start_time": "2025-06-17T13:29:17.600338Z"
    }
   },
   "cell_type": "code",
   "source": [
    "experiments, outcomes = results\n",
    "\n",
    "overall_regret = {}\n",
    "max_regret = {}\n",
    "\n",
    "for outcome in dike_model.outcomes:\n",
    "    policy_column = experiments['policy']\n",
    "\n",
    "    # Create a DataFrame with relevant data: outcome values, policy names, and scenario IDs\n",
    "    data = pd.DataFrame({\n",
    "        outcome.name: outcomes[outcome.name],\n",
    "        \"policy\": experiments['policy'],\n",
    "        \"scenario\": experiments['scenario']\n",
    "    })\n",
    "\n",
    "    # Pivot the DataFrame to have scenarios as rows and policies as columns\n",
    "    data = data.pivot(index='scenario', columns='policy')\n",
    "\n",
    "    # Flatten the hierarchical column index created by pivoting\n",
    "    data.columns = data.columns.get_level_values(1)\n",
    "\n",
    "    # Calculate regret as the absolute difference between the best value per scenario and each policy's value\n",
    "    # Use np.newaxis to align shapes for broadcasting\n",
    "    outcome_regret = (data.max(axis=1).values[:, np.newaxis] - data).abs()\n",
    "\n",
    "    overall_regret[outcome.name] = outcome_regret\n",
    "    max_regret[outcome.name] = outcome_regret.max()"
   ],
   "outputs": [],
   "execution_count": 20
  },
  {
   "metadata": {
    "ExecuteTime": {
     "end_time": "2025-06-17T13:29:17.730706Z",
     "start_time": "2025-06-17T13:29:17.656893Z"
    }
   },
   "cell_type": "code",
   "source": [
    "# Convert max_regret dictionary to a DataFrame for heatmap visualization\n",
    "max_regret = pd.DataFrame(max_regret)\n",
    "sns.heatmap(max_regret/max_regret.max(), cmap='viridis', annot=True)\n",
    "plt.show()"
   ],
   "outputs": [
    {
     "data": {
      "text/plain": [
       "<Figure size 640x480 with 2 Axes>"
      ],
      "image/png": "[encoded data removed]"
     },
     "metadata": {},
     "output_type": "display_data"
    }
   ],
   "execution_count": 21
  },
  {
   "metadata": {
    "ExecuteTime": {
     "end_time": "2025-06-17T13:29:17.773938Z",
     "start_time": "2025-06-17T13:29:17.741650Z"
    }
   },
   "cell_type": "code",
   "source": [
    "colors = sns.color_palette()\n",
    "\n",
    "data = max_regret\n",
    "\n",
    "# makes it easier to identify the policy associated with each line\n",
    "# in the parcoords plot\n",
    "# data['policy'] = data.index.astype(\"float64\")\n",
    "\n",
    "limits = parcoords.get_limits(data)\n",
    "limits.loc[0, [\n",
    "    \"Dike Investment Costs\",\n",
    "    \"RfR Total Costs\",\n",
    "    \"Evacuation Costs\",\n",
    "    \"Expected Number of Deaths\",\n",
    "]] = 0\n",
    "\n",
    "paraxes = parcoords.ParallelAxes(limits)\n",
    "for i, (index, row) in enumerate(data.iterrows()):\n",
    "    paraxes.plot(row.to_frame().T, label=str(index))\n",
    "plt.show()"
   ],
   "outputs": [
    {
     "data": {
      "text/plain": [
       "<Figure size 640x480 with 2 Axes>"
      ],
      "image/png": "[encoded data removed]"
     },
     "metadata": {},
     "output_type": "display_data"
    }
   ],
   "execution_count": 22
  },
  {
   "metadata": {
    "ExecuteTime": {
     "end_time": "2025-06-17T13:29:17.796280Z",
     "start_time": "2025-06-17T13:29:17.794787Z"
    }
   },
   "cell_type": "code",
   "source": "",
   "outputs": [],
   "execution_count": null
  }
 ],
 "metadata": {
  "anaconda-cloud": {},
  "kernelspec": {
   "display_name": "Python 3 (ipykernel)",
   "language": "python",
   "name": "python3"
  },
  "language_info": {
   "codemirror_mode": {
    "name": "ipython",
    "version": 3
   },
   "file_extension": ".py",
   "mimetype": "text/x-python",
   "name": "python",
   "nbconvert_exporter": "python",
   "pygments_lexer": "ipython3",
   "version": "3.12.2"
  },
  "latex_envs": {
   "LaTeX_envs_menu_present": true,
   "autocomplete": true,
   "bibliofile": "biblio.bib",
   "cite_by": "apalike",
   "current_citInitial": 1,
   "eqLabelWithNumbers": true,
   "eqNumInitial": 1,
   "hotkeys": {
    "equation": "Ctrl-E",
    "itemize": "Ctrl-I"
   },
   "labels_anchors": false,
   "latex_user_defs": false,
   "report_style_numbering": false,
   "user_envs_cfg": false
  }
 },
 "nbformat": 4,
 "nbformat_minor": 4
}
