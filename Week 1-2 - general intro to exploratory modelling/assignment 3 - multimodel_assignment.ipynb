{
 "cells": [
  {
   "cell_type": "markdown",
   "metadata": {},
   "source": [
    "# EPA1361 - Model-Based Decision Making\n",
    "\n",
    "## Multi-model analysis\n",
    "\n",
    "This exercise uses a simple version of the [Lotka-Volterra predator-prey equations](https://en.wikipedia.org/wiki/Lotka%E2%80%93Volterra_equations) to show how the EMA Workbench can be used for a\n",
    "multi-model analysis, in addition to typical parametric/structural uncertainties. This will let you test the connectors provided in the Workbench for Excel, NetLogo, and Vensim / PySD; we'll also use the models for the sensitivity analysis exercise in week 3.\n",
    "\n",
    "**Assignment**\n",
    "Using the three model files provided and the Python function below, define model objects for each implementation (Excel, NetLogo, Vensim/PySD, and Python), and test them using a single ensemble. Use 50 experiments sampled from the parameters below (so that each experiment will be executed for the 4 models, for a total of 200), and retrieve outputs for the _TIME_, _predators_, and _prey_ variables.\n",
    "   * Excel and Vensim are only supported on Windows\n",
    "   * Vensim requires the DSS version of Vensim\n",
    "   * Netlogo supoprt depends on [jpype](http://jpype.readthedocs.io/en/latest/install.html) and [pynetlogo](https://pynetlogo.readthedocs.io/en/latest/). Also, if you don't have NetLogo installed, please get [NetLogo 6.3.0](https://ccl.northwestern.edu/netlogo/download.shtml)\n",
    "   * for pysd, see [its documentation](http://pysd.readthedocs.io/en/master/installation.html)\n",
    "   * If possible try to work with all model versions, but even 2 or 3 (pure python and something else should be sufficient).\n",
    "\n",
    "\n",
    "|Parameter\t|Range or value\t        |\n",
    "|-----------|--------------:|\n",
    "|prey_birth_rate    \t|0.015 – 0.035\t|\n",
    "|predation_rate|0.0005 – 0.003 \t|\n",
    "|predator_efficiency     \t|0.001 – 0.004\t    |\n",
    "|predator_loss_rate\t    |0.04 – 0.08\t    |\n",
    "|Final time\t    |365\t    |\n",
    "|dt\t    |0.25\t    |\n",
    "\n",
    "* Note that your EMA Workbench installation includes [example scripts](https://github.com/quaquel/EMAworkbench/tree/master/ema_workbench/examples) for the different connectors. The different model objects follow a similar syntax but will need to be slightly adjusted depending on the software (e.g. to specify the NetLogo run length or the sheet name in Excel).\n",
    "  * This [tutorial](https://emaworkbench.readthedocs.io/en/latest/basic_tutorial.html) also shows a simple model in Python, Vensim and Excel connected to the workbench.\n",
    "\n",
    "* These model objects can be used with a replication functionality (for instance to test the effect of stochastic uncertainty in a NetLogo model), which repeats a given experiment over multiple replications. You can use a single replication in this exercise as the models are not stochastic. By default, each outcome array will then have a shape of (# experiments, # replications, # time steps). Try adapting the outcome arrays so that they can be used with the _lines_ plotting function of the Workbench, and plot the results grouped by model.\n",
    "\n",
    "* To check the graphical results, find the maximum absolute error of the time series you obtained for the _prey_ variable in the Excel, NetLogo, and Vensim/PySD models, relative to the Python function."
   ]
  },
  {
   "cell_type": "code",
   "source": [
    "# Some imports you may need\n",
    "import numpy as np\n",
    "import matplotlib.pyplot as plt\n",
    "\n",
    "from ema_workbench import (Model, RealParameter, TimeSeriesOutcome, perform_experiments, ema_logging)\n",
    "\n",
    "from ema_workbench.connectors.netlogo import NetLogoModel\n",
    "from ema_workbench.connectors.excel import ExcelModel\n",
    "from ema_workbench.connectors.pysd_connector import PysdModel\n",
    "\n",
    "from ema_workbench.em_framework.samplers import LHSSampler\n",
    "from ema_workbench.em_framework.salib_samplers import MorrisSampler, SobolSampler\n",
    "\n",
    "from ema_workbench.analysis.plotting import lines, Density"
   ],
   "metadata": {
    "collapsed": false,
    "ExecuteTime": {
     "end_time": "2025-05-05T14:35:30.673879Z",
     "start_time": "2025-05-05T14:35:22.920870Z"
    }
   },
   "outputs": [
    {
     "name": "stderr",
     "output_type": "stream",
     "text": [
      "/Users/inez/Desktop/tu/epa/jaar 1/q4/epa141A_open-master/.venv/lib/python3.11/site-packages/ema_workbench/connectors/__init__.py:19: ImportWarning: vensim connector not available\n",
      "  warnings.warn(\"vensim connector not available\", ImportWarning)\n",
      "/Users/inez/Desktop/tu/epa/jaar 1/q4/epa141A_open-master/.venv/lib/python3.11/site-packages/ema_workbench/connectors/__init__.py:34: ImportWarning: simio connector not available\n",
      "  warnings.warn(\"simio connector not available\", ImportWarning)\n"
     ]
    }
   ],
   "execution_count": 1
  },
  {
   "cell_type": "code",
   "source": [
    "# Import the Python function\n",
    "from model.pred_prey import PredPrey"
   ],
   "metadata": {
    "collapsed": false,
    "ExecuteTime": {
     "end_time": "2025-05-05T14:35:52.351322Z",
     "start_time": "2025-05-05T14:35:52.340599Z"
    }
   },
   "outputs": [],
   "execution_count": 2
  },
  {
   "cell_type": "code",
   "metadata": {
    "collapsed": false,
    "jupyter": {
     "outputs_hidden": false
    },
    "ExecuteTime": {
     "end_time": "2025-05-05T14:35:53.215835Z",
     "start_time": "2025-05-05T14:35:53.211484Z"
    }
   },
   "source": [
    "# Define uncertainties and outcomes\n",
    "\n",
    "\n",
    "# Define model objects for the different implementations\n"
   ],
   "outputs": [],
   "execution_count": 3
  },
  {
   "metadata": {
    "ExecuteTime": {
     "end_time": "2025-05-05T14:37:53.202414Z",
     "start_time": "2025-05-05T14:37:53.042351Z"
    }
   },
   "cell_type": "code",
   "source": [
    "from ema_workbench import Model, RealParameter, TimeSeriesOutcome\n",
    "from ema_workbench.connectors.netlogo import NetLogoModel\n",
    "\n",
    "# Define the Python model\n",
    "python_model = Model(\"PredPreyPython\", function=PredPrey)\n",
    "\n",
    "# Define the NetLogo model\n",
    "# netlogo_model = NetLogoModel(\"PredPreyNetLogo\", wd='model/PredPrey.nlogo')\n",
    "netlogo_model = NetLogoModel(\"PredPreyNetLogo\", wd='model', model_file='PredPrey.nlogo')\n",
    "\n",
    "# Define uncertainties (parameters to be varied)\n",
    "uncertainties = [\n",
    "    RealParameter('prey_birth_rate', 0.015, 0.035),\n",
    "    RealParameter('predation_rate', 0.0005, 0.003),\n",
    "    RealParameter('predator_efficiency', 0.001, 0.004),\n",
    "    RealParameter('predator_loss_rate', 0.04, 0.08),\n",
    "    RealParameter('dt', 0.25, 0.25),\n",
    "]\n",
    "\n",
    "# Assign uncertainties to both models\n",
    "python_model.uncertainties = uncertainties\n",
    "netlogo_model.uncertainties = uncertainties\n",
    "\n",
    "# Define the outcomes (what you want to measure)\n",
    "outcomes = [\n",
    "    TimeSeriesOutcome('TIME'),\n",
    "    TimeSeriesOutcome('predators'),\n",
    "    TimeSeriesOutcome('prey')\n",
    "]\n",
    "\n",
    "# Assign outcomes to both models\n",
    "python_model.outcomes = outcomes\n",
    "netlogo_model.outcomes = outcomes\n",
    "\n",
    "# Now, create the model objects for both Python and NetLogo\n",
    "models = [python_model, netlogo_model]\n",
    "\n",
    "# Perform experiments\n",
    "experiments, outcomes = perform_experiments(models, 50)\n",
    "\n",
    "# Plotting or analysis after experiments\n",
    "# Plotting the results (grouped by model)\n",
    "for outcome in outcomes.keys():\n",
    "    lines(experiments, outcomes, outcomes_to_show=[outcome], density='hist')\n",
    "\n",
    "plt.show()"
   ],
   "outputs": [
    {
     "name": "stderr",
     "output_type": "stream",
     "text": [
      "\n",
      "\n",
      "  0%|                                                  | 0/100 [00:00<?, ?it/s]\u001B[A\u001B[A"
     ]
    },
    {
     "ename": "EMAError",
     "evalue": "Some fatal error has occurred while running the experiments, not all runs have completed. Expected 100, got 0",
     "output_type": "error",
     "traceback": [
      "\u001B[31m---------------------------------------------------------------------------\u001B[39m",
      "\u001B[31mEMAError\u001B[39m                                  Traceback (most recent call last)",
      "\u001B[36mCell\u001B[39m\u001B[36m \u001B[39m\u001B[32mIn[6]\u001B[39m\u001B[32m, line 39\u001B[39m\n\u001B[32m     36\u001B[39m models = [python_model, netlogo_model]\n\u001B[32m     38\u001B[39m \u001B[38;5;66;03m# Perform experiments\u001B[39;00m\n\u001B[32m---> \u001B[39m\u001B[32m39\u001B[39m experiments, outcomes = \u001B[43mperform_experiments\u001B[49m\u001B[43m(\u001B[49m\u001B[43mmodels\u001B[49m\u001B[43m,\u001B[49m\u001B[43m \u001B[49m\u001B[32;43m50\u001B[39;49m\u001B[43m)\u001B[49m\n\u001B[32m     41\u001B[39m \u001B[38;5;66;03m# Plotting or analysis after experiments\u001B[39;00m\n\u001B[32m     42\u001B[39m \u001B[38;5;66;03m# Plotting the results (grouped by model)\u001B[39;00m\n\u001B[32m     43\u001B[39m \u001B[38;5;28;01mfor\u001B[39;00m outcome \u001B[38;5;129;01min\u001B[39;00m outcomes.keys():\n",
      "\u001B[36mFile \u001B[39m\u001B[32m~/Desktop/tu/epa/jaar 1/q4/epa141A_open-master/.venv/lib/python3.11/site-packages/ema_workbench/em_framework/evaluators.py:409\u001B[39m, in \u001B[36mperform_experiments\u001B[39m\u001B[34m(models, scenarios, policies, evaluator, reporting_interval, reporting_frequency, uncertainty_union, lever_union, outcome_union, uncertainty_sampling, lever_sampling, callback, return_callback, combine, log_progress, **kwargs)\u001B[39m\n\u001B[32m    406\u001B[39m evaluator.evaluate_experiments(scenarios, policies, callback, combine=combine, **kwargs)\n\u001B[32m    408\u001B[39m \u001B[38;5;28;01mif\u001B[39;00m callback.i != nr_of_exp:\n\u001B[32m--> \u001B[39m\u001B[32m409\u001B[39m     \u001B[38;5;28;01mraise\u001B[39;00m EMAError(\n\u001B[32m    410\u001B[39m         \u001B[33mf\u001B[39m\u001B[33m\"\u001B[39m\u001B[33mSome fatal error has occurred while running the experiments, not all runs have completed. Expected \u001B[39m\u001B[38;5;132;01m{\u001B[39;00mnr_of_exp\u001B[38;5;132;01m}\u001B[39;00m\u001B[33m, got \u001B[39m\u001B[38;5;132;01m{\u001B[39;00mcallback.i\u001B[38;5;132;01m}\u001B[39;00m\u001B[33m\"\u001B[39m\n\u001B[32m    411\u001B[39m     )\n\u001B[32m    413\u001B[39m _logger.info(\u001B[33m\"\u001B[39m\u001B[33mexperiments finished\u001B[39m\u001B[33m\"\u001B[39m)\n\u001B[32m    415\u001B[39m \u001B[38;5;28;01mif\u001B[39;00m return_callback:\n",
      "\u001B[31mEMAError\u001B[39m: Some fatal error has occurred while running the experiments, not all runs have completed. Expected 100, got 0"
     ]
    }
   ],
   "execution_count": 6
  },
  {
   "metadata": {
    "ExecuteTime": {
     "end_time": "2025-05-05T14:38:38.939174Z",
     "start_time": "2025-05-05T14:38:38.826659Z"
    }
   },
   "cell_type": "code",
   "source": [
    "# Test with only the Python model\n",
    "python_model = Model(\"PredPreyPython\", function=PredPrey)\n",
    "python_model.uncertainties = uncertainties\n",
    "python_model.outcomes = outcomes\n",
    "\n",
    "# Run a simple experiment with 10 scenarios\n",
    "experiments, outcomes = perform_experiments(python_model, 10)\n",
    "\n",
    "# Check the outcome\n",
    "for outcome in outcomes.keys():\n",
    "    lines(experiments, outcomes, outcomes_to_show=[outcome], density='hist')\n",
    "\n",
    "plt.show()"
   ],
   "outputs": [
    {
     "name": "stderr",
     "output_type": "stream",
     "text": [
      "\n",
      "\n",
      "\n",
      "  0%|                                                   | 0/10 [00:00<?, ?it/s]\u001B[A\u001B[A\u001B[A"
     ]
    },
    {
     "ename": "EMAError",
     "evalue": "Some fatal error has occurred while running the experiments, not all runs have completed. Expected 10, got 0",
     "output_type": "error",
     "traceback": [
      "\u001B[31m---------------------------------------------------------------------------\u001B[39m",
      "\u001B[31mEMAError\u001B[39m                                  Traceback (most recent call last)",
      "\u001B[36mCell\u001B[39m\u001B[36m \u001B[39m\u001B[32mIn[7]\u001B[39m\u001B[32m, line 7\u001B[39m\n\u001B[32m      4\u001B[39m python_model.outcomes = outcomes\n\u001B[32m      6\u001B[39m \u001B[38;5;66;03m# Run a simple experiment with 10 scenarios\u001B[39;00m\n\u001B[32m----> \u001B[39m\u001B[32m7\u001B[39m experiments, outcomes = \u001B[43mperform_experiments\u001B[49m\u001B[43m(\u001B[49m\u001B[43mpython_model\u001B[49m\u001B[43m,\u001B[49m\u001B[43m \u001B[49m\u001B[32;43m10\u001B[39;49m\u001B[43m)\u001B[49m\n\u001B[32m      9\u001B[39m \u001B[38;5;66;03m# Check the outcome\u001B[39;00m\n\u001B[32m     10\u001B[39m \u001B[38;5;28;01mfor\u001B[39;00m outcome \u001B[38;5;129;01min\u001B[39;00m outcomes.keys():\n",
      "\u001B[36mFile \u001B[39m\u001B[32m~/Desktop/tu/epa/jaar 1/q4/epa141A_open-master/.venv/lib/python3.11/site-packages/ema_workbench/em_framework/evaluators.py:409\u001B[39m, in \u001B[36mperform_experiments\u001B[39m\u001B[34m(models, scenarios, policies, evaluator, reporting_interval, reporting_frequency, uncertainty_union, lever_union, outcome_union, uncertainty_sampling, lever_sampling, callback, return_callback, combine, log_progress, **kwargs)\u001B[39m\n\u001B[32m    406\u001B[39m evaluator.evaluate_experiments(scenarios, policies, callback, combine=combine, **kwargs)\n\u001B[32m    408\u001B[39m \u001B[38;5;28;01mif\u001B[39;00m callback.i != nr_of_exp:\n\u001B[32m--> \u001B[39m\u001B[32m409\u001B[39m     \u001B[38;5;28;01mraise\u001B[39;00m EMAError(\n\u001B[32m    410\u001B[39m         \u001B[33mf\u001B[39m\u001B[33m\"\u001B[39m\u001B[33mSome fatal error has occurred while running the experiments, not all runs have completed. Expected \u001B[39m\u001B[38;5;132;01m{\u001B[39;00mnr_of_exp\u001B[38;5;132;01m}\u001B[39;00m\u001B[33m, got \u001B[39m\u001B[38;5;132;01m{\u001B[39;00mcallback.i\u001B[38;5;132;01m}\u001B[39;00m\u001B[33m\"\u001B[39m\n\u001B[32m    411\u001B[39m     )\n\u001B[32m    413\u001B[39m _logger.info(\u001B[33m\"\u001B[39m\u001B[33mexperiments finished\u001B[39m\u001B[33m\"\u001B[39m)\n\u001B[32m    415\u001B[39m \u001B[38;5;28;01mif\u001B[39;00m return_callback:\n",
      "\u001B[31mEMAError\u001B[39m: Some fatal error has occurred while running the experiments, not all runs have completed. Expected 10, got 0"
     ]
    }
   ],
   "execution_count": 7
  },
  {
   "metadata": {
    "ExecuteTime": {
     "end_time": "2025-05-05T14:44:53.564808Z",
     "start_time": "2025-05-05T14:44:53.441142Z"
    }
   },
   "cell_type": "code",
   "source": [
    "params = {\n",
    "    'prey_birth_rate': 0.02,\n",
    "    'predation_rate': 0.001,\n",
    "    'predator_efficiency': 0.002,\n",
    "    'predator_loss_rate': 0.05,\n",
    "    'dt': 0.25\n",
    "}\n",
    "\n",
    "output = PredPrey(params)\n",
    "print(output)"
   ],
   "outputs": [
    {
     "ename": "TypeError",
     "evalue": "unsupported operand type(s) for *: 'dict' and 'float'",
     "output_type": "error",
     "traceback": [
      "\u001B[31m---------------------------------------------------------------------------\u001B[39m",
      "\u001B[31mTypeError\u001B[39m                                 Traceback (most recent call last)",
      "\u001B[36mCell\u001B[39m\u001B[36m \u001B[39m\u001B[32mIn[15]\u001B[39m\u001B[32m, line 9\u001B[39m\n\u001B[32m      1\u001B[39m params = {\n\u001B[32m      2\u001B[39m     \u001B[33m'\u001B[39m\u001B[33mprey_birth_rate\u001B[39m\u001B[33m'\u001B[39m: \u001B[32m0.02\u001B[39m,\n\u001B[32m      3\u001B[39m     \u001B[33m'\u001B[39m\u001B[33mpredation_rate\u001B[39m\u001B[33m'\u001B[39m: \u001B[32m0.001\u001B[39m,\n\u001B[32m   (...)\u001B[39m\u001B[32m      6\u001B[39m     \u001B[33m'\u001B[39m\u001B[33mdt\u001B[39m\u001B[33m'\u001B[39m: \u001B[32m0.25\u001B[39m\n\u001B[32m      7\u001B[39m }\n\u001B[32m----> \u001B[39m\u001B[32m9\u001B[39m output = \u001B[43mPredPrey\u001B[49m\u001B[43m(\u001B[49m\u001B[43mparams\u001B[49m\u001B[43m)\u001B[49m\n\u001B[32m     10\u001B[39m \u001B[38;5;28mprint\u001B[39m(output)\n",
      "\u001B[36mFile \u001B[39m\u001B[32m~/Desktop/tu/epa/jaar 1/q4/epa141A_open-master/Week 1-2 - general intro to exploratory modelling/model/pred_prey.py:15\u001B[39m, in \u001B[36mPredPrey\u001B[39m\u001B[34m(prey_birth_rate, predation_rate, predator_efficiency, predator_loss_rate, initial_prey, initial_predators, dt, final_time, reps)\u001B[39m\n\u001B[32m     13\u001B[39m \u001B[38;5;66;03m# Calculate the time series\u001B[39;00m\n\u001B[32m     14\u001B[39m \u001B[38;5;28;01mfor\u001B[39;00m t \u001B[38;5;129;01min\u001B[39;00m \u001B[38;5;28mrange\u001B[39m(\u001B[32m0\u001B[39m, sim_time.shape[\u001B[32m1\u001B[39m] - \u001B[32m1\u001B[39m):\n\u001B[32m---> \u001B[39m\u001B[32m15\u001B[39m     dx = (\u001B[43mprey_birth_rate\u001B[49m\u001B[43m \u001B[49m\u001B[43m*\u001B[49m\u001B[43m \u001B[49m\u001B[43mprey\u001B[49m\u001B[43m[\u001B[49m\u001B[43mr\u001B[49m\u001B[43m,\u001B[49m\u001B[43m \u001B[49m\u001B[43mt\u001B[49m\u001B[43m]\u001B[49m) - (predation_rate * prey[r, t] * predators[r, t])\n\u001B[32m     16\u001B[39m     dy = (predator_efficiency * predators[r, t] * prey[r, t]) - (predator_loss_rate * predators[r, t])\n\u001B[32m     18\u001B[39m     prey[r, t + \u001B[32m1\u001B[39m] = \u001B[38;5;28mmax\u001B[39m(prey[r, t] + dx * dt, \u001B[32m0\u001B[39m)\n",
      "\u001B[31mTypeError\u001B[39m: unsupported operand type(s) for *: 'dict' and 'float'"
     ]
    }
   ],
   "execution_count": 15
  },
  {
   "metadata": {},
   "cell_type": "code",
   "outputs": [],
   "execution_count": null,
   "source": ""
  }
 ],
 "metadata": {
  "kernelspec": {
   "display_name": "Python 3",
   "language": "python",
   "name": "python3"
  },
  "language_info": {
   "codemirror_mode": {
    "name": "ipython",
    "version": 3
   },
   "file_extension": ".py",
   "mimetype": "text/x-python",
   "name": "python",
   "nbconvert_exporter": "python",
   "pygments_lexer": "ipython3",
   "version": "3.8.5"
  }
 },
 "nbformat": 4,
 "nbformat_minor": 4
}
