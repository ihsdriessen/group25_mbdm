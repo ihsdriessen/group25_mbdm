{
 "cells": [
  {
   "cell_type": "markdown",
   "metadata": {},
   "source": [
    "\n",
    "# Week 3 - Sensitivity analysis\n",
    "\n",
    "This exercise uses the same predator-prey model we used for the multi-model exercise, focusing on the Python version. As with the other exercise, define a model object for the function below, with the uncertainty ranges provided:\n",
    "\n",
    "|Parameter\t|Range or value\t        |\n",
    "|-----------|--------------:|\n",
    "|prey_birth_rate    \t|0.015 – 0.035\t|\n",
    "|predation_rate|0.0005 – 0.003 \t|\n",
    "|predator_efficiency     \t|0.001 – 0.004\t    |\n",
    "|predator_loss_rate\t    |0.04 – 0.08\t    |\n",
    "|Final time\t    |365\t    |\n",
    "|dt\t    |0.25\t    |\n",
    "\n"
   ]
  },
  {
   "cell_type": "code",
   "execution_count": 1,
   "metadata": {
    "ExecuteTime": {
     "end_time": "2023-04-20T10:57:28.966108Z",
     "start_time": "2023-04-20T10:57:26.799496Z"
    },
    "collapsed": false,
    "jupyter": {
     "outputs_hidden": false
    }
   },
   "outputs": [],
   "source": [
    "%matplotlib inline\n",
    "import numpy as np\n",
    "import pandas as pd\n",
    "\n",
    "import matplotlib.pyplot as plt\n",
    "import seaborn as sns\n",
    "sns.set_style('white')\n",
    "\n",
    "from ema_workbench import (Model, RealParameter, TimeSeriesOutcome,\n",
    "                           perform_experiments, ema_logging,Policy)\n",
    "\n",
    "from ema_workbench import Samplers\n",
    "\n",
    "from ema_workbench.analysis import feature_scoring\n",
    "from ema_workbench.analysis.scenario_discovery_util import RuleInductionType\n",
    "from ema_workbench.em_framework.salib_samplers import get_SALib_problem\n",
    "\n",
    "from SALib.analyze import sobol"
   ]
  },
  {
   "cell_type": "code",
   "execution_count": 2,
   "metadata": {
    "ExecuteTime": {
     "end_time": "2023-04-20T10:57:28.978940Z",
     "start_time": "2023-04-20T10:57:28.972106Z"
    },
    "collapsed": false,
    "jupyter": {
     "outputs_hidden": false
    }
   },
   "outputs": [],
   "source": [
    "def PredPrey(prey_birth_rate=0.025, predation_rate=0.0015, predator_efficiency=0.002,\n",
    "             predator_loss_rate=0.06, initial_prey=50, initial_predators=20, dt=0.25, final_time=365, reps=1):\n",
    "\n",
    "    #Initial values\n",
    "    predators, prey, sim_time = [np.zeros((reps, int(final_time/dt)+1)) for _ in range(3)]\n",
    "    \n",
    "    for r in range(reps):\n",
    "        predators[r,0] = initial_predators\n",
    "        prey[r,0] = initial_prey\n",
    "\n",
    "        #Calculate the time series\n",
    "        for t in range(0, sim_time.shape[1]-1):\n",
    "\n",
    "            dx = (prey_birth_rate*prey[r,t]) - (predation_rate*prey[r,t]*predators[r,t])\n",
    "            dy = (predator_efficiency*predators[r,t]*prey[r,t]) - (predator_loss_rate*predators[r,t])\n",
    "\n",
    "            prey[r,t+1] = max(prey[r,t] + dx*dt, 0)\n",
    "            predators[r,t+1] = max(predators[r,t] + dy*dt, 0)\n",
    "            sim_time[r,t+1] = (t+1)*dt\n",
    "    \n",
    "    #Return outcomes\n",
    "    return {'TIME':sim_time,\n",
    "            'predators':predators,\n",
    "            'prey':prey}\n",
    "\n",
    "\n",
    "\n",
    "ema_logging.log_to_stderr(ema_logging.INFO)\n",
    "\n",
    "\n",
    "uncertainties = [RealParameter('prey_birth_rate', 0.015, 0.035),\n",
    "                 RealParameter('predation_rate', 0.0005, 0.003),\n",
    "                 RealParameter('predator_efficiency', 0.001, 0.004),\n",
    "                 RealParameter('predator_loss_rate', 0.04, 0.08)\n",
    "                ] \n",
    "\n",
    "\n",
    "outcomes = [TimeSeriesOutcome('TIME'),\n",
    "            TimeSeriesOutcome('predators'),\n",
    "            TimeSeriesOutcome('prey')]\n",
    "\n",
    "\n",
    "py_model = Model('Python', function=PredPrey)\n",
    "py_model.uncertainties = uncertainties\n",
    "py_model.outcomes = outcomes"
   ]
  },
  {
   "cell_type": "markdown",
   "metadata": {
    "ExecuteTime": {
     "end_time": "2023-04-20T10:42:08.801459Z",
     "start_time": "2023-04-20T10:42:08.685209Z"
    }
   },
   "source": [
    "#### 1. Sensitivity analysis\n",
    "Sensitivity analysis often focuses on the final values of an outcome at the end of the simulation. However, we can also look at metrics that give us additional information about the behavior of the model over time. Using the statsmodel library and an appropriate sampling design, fit a linear regression model for each of the following indicators. What can we conclude about the behavior of the model, and about the importance of the different inputs?\n",
    "\n",
    "  * The final values of the _prey_ outcome\n",
    "  * The mean values of the _prey_ outcome over time, within each experiment\n",
    "  * The standard deviations of the _prey_ outcome over time, within each experiment\n"
   ]
  },
  {
   "cell_type": "code",
   "execution_count": 3,
   "metadata": {
    "ExecuteTime": {
     "end_time": "2023-04-20T10:57:33.065217Z",
     "start_time": "2023-04-20T10:57:28.979940Z"
    },
    "collapsed": false,
    "jupyter": {
     "outputs_hidden": false
    }
   },
   "outputs": [
    {
     "name": "stderr",
     "output_type": "stream",
     "text": [
      "[MainProcess/INFO] performing 1000 scenarios * 1 policies * 1 model(s) = 1000 experiments\n",
      "[MainProcess/INFO] performing experiments sequentially| 0/1000 [00:00<?, ?it/s]\n",
      "100%|█████████████████████████████████████| 1000/1000 [00:02<00:00, 449.13it/s]\n",
      "[MainProcess/INFO] experiments finished\n"
     ]
    }
   ],
   "source": [
    "n_exp = 1000\n",
    "\n",
    "results_lhs = perform_experiments(py_model, scenarios=n_exp, uncertainty_sampling=Samplers.LHS)\n",
    "\n",
    "exp_lhs, out_lhs = results_lhs"
   ]
  },
  {
   "cell_type": "code",
   "execution_count": 4,
   "metadata": {
    "ExecuteTime": {
     "end_time": "2023-04-20T10:57:33.074670Z",
     "start_time": "2023-04-20T10:57:33.067214Z"
    },
    "collapsed": false,
    "jupyter": {
     "outputs_hidden": false
    }
   },
   "outputs": [
    {
     "data": {
      "text/plain": [
       "(1000, 1, 1461)"
      ]
     },
     "execution_count": 4,
     "metadata": {},
     "output_type": "execute_result"
    }
   ],
   "source": [
    "out_lhs['predators'].shape"
   ]
  },
  {
   "cell_type": "markdown",
   "metadata": {},
   "source": [
    "For each of the sampling methods, we can then select outcomes of interest: the final values of the prey variable, the mean of the prey variable over time within each experiment, and the standard deviation of the same variable across time (again in each experiment)."
   ]
  },
  {
   "cell_type": "code",
   "execution_count": 5,
   "metadata": {
    "ExecuteTime": {
     "end_time": "2023-04-20T10:57:33.080970Z",
     "start_time": "2023-04-20T10:57:33.073670Z"
    },
    "collapsed": false,
    "jupyter": {
     "outputs_hidden": false
    }
   },
   "outputs": [
    {
     "data": {
      "text/plain": [
       "(1000,)"
      ]
     },
     "execution_count": 5,
     "metadata": {},
     "output_type": "execute_result"
    }
   ],
   "source": [
    "prey_final_lhs = out_lhs['prey'][:,0,-1]\n",
    "prey_final_lhs.shape"
   ]
  },
  {
   "cell_type": "code",
   "execution_count": 6,
   "metadata": {
    "ExecuteTime": {
     "end_time": "2023-04-20T10:57:33.152398Z",
     "start_time": "2023-04-20T10:57:33.082969Z"
    },
    "collapsed": false,
    "jupyter": {
     "outputs_hidden": false
    }
   },
   "outputs": [],
   "source": [
    "prey_final_lhs = out_lhs['prey'][:,0,-1]\n",
    "prey_mean_lhs = np.mean(out_lhs['prey'][:,0,:],axis=1)\n",
    "prey_std_lhs = np.std(out_lhs['prey'][:,0,:],axis=1)"
   ]
  },
  {
   "cell_type": "markdown",
   "metadata": {},
   "source": [
    "As an example, we can first fit a linear regression model to the prey_final_lhs outcome. We first drop the 'model' and 'policy' columns from the experiments, which were not used in this example. The add_constant method can be used to add an intercept to the regression model."
   ]
  },
  {
   "cell_type": "code",
   "execution_count": 7,
   "metadata": {
    "ExecuteTime": {
     "end_time": "2023-04-20T10:57:33.160400Z",
     "start_time": "2023-04-20T10:57:33.099452Z"
    },
    "collapsed": false,
    "jupyter": {
     "outputs_hidden": false
    }
   },
   "outputs": [
    {
     "name": "stdout",
     "output_type": "stream",
     "text": [
      "                            OLS Regression Results                            \n",
      "==============================================================================\n",
      "Dep. Variable:                      y   R-squared:                       0.428\n",
      "Model:                            OLS   Adj. R-squared:                  0.425\n",
      "Method:                 Least Squares   F-statistic:                     148.8\n",
      "Date:                Wed, 16 Apr 2025   Prob (F-statistic):          5.67e-118\n",
      "Time:                        14:44:21   Log-Likelihood:                -4201.0\n",
      "No. Observations:                1000   AIC:                             8414.\n",
      "Df Residuals:                     994   BIC:                             8443.\n",
      "Df Model:                           5                                         \n",
      "Covariance Type:            nonrobust                                         \n",
      "=======================================================================================\n",
      "                          coef    std err          t      P>|t|      [0.025      0.975]\n",
      "---------------------------------------------------------------------------------------\n",
      "const                  34.1169      4.056      8.411      0.000      26.157      42.077\n",
      "predation_rate       1058.7951    710.233      1.491      0.136    -334.933    2452.523\n",
      "predator_efficiency -1.473e+04    592.264    -24.874      0.000   -1.59e+04   -1.36e+04\n",
      "predator_loss_rate    503.8832     44.471     11.331      0.000     416.615     591.151\n",
      "prey_birth_rate       -55.0910     88.966     -0.619      0.536    -229.673     119.491\n",
      "scenario               -0.0016      0.002     -0.878      0.380      -0.005       0.002\n",
      "==============================================================================\n",
      "Omnibus:                      149.825   Durbin-Watson:                   1.947\n",
      "Prob(Omnibus):                  0.000   Jarque-Bera (JB):              229.326\n",
      "Skew:                           1.019   Prob(JB):                     1.59e-50\n",
      "Kurtosis:                       4.164   Cond. No.                     8.00e+05\n",
      "==============================================================================\n",
      "\n",
      "Notes:\n",
      "[1] Standard Errors assume that the covariance matrix of the errors is correctly specified.\n",
      "[2] The condition number is large,  8e+05. This might indicate that there are\n",
      "strong multicollinearity or other numerical problems.\n",
      "const                     34.116861\n",
      "predation_rate          1058.795132\n",
      "predator_efficiency   -14732.248782\n",
      "predator_loss_rate       503.883222\n",
      "prey_birth_rate          -55.091014\n",
      "scenario                  -0.001560\n",
      "dtype: float64\n"
     ]
    }
   ],
   "source": [
    "import statsmodels.api as sm\n",
    "\n",
    "X = pd.DataFrame(exp_lhs).drop(['model','policy'], inplace=False, axis=1)\n",
    "X_0 = sm.add_constant(X)\n",
    "\n",
    "est = sm.OLS(prey_final_lhs, X_0.astype(float)).fit()\n",
    "print(est.summary())\n",
    "print(est.params)"
   ]
  },
  {
   "cell_type": "markdown",
   "metadata": {
    "jupyter": {
     "outputs_hidden": false
    }
   },
   "source": [
    "There is a lot of information provided here. The first one to look at is the R-squared. This is 0.423, so only 42% of the variance in model output is explained by this linear regression model. This suggests that there is close to 60% of the variance in model output is due to non-linear effects that a regression model cannot capture. Next, we look at the bottom part of the table. Looking at the `P>|t|` column, we see that only the predator efficiency and predator loss rate are statistically significant. These are, thus, parameters to which the model is sensitive."
   ]
  },
  {
   "cell_type": "markdown",
   "metadata": {},
   "source": [
    "#### 2. Sobol\n",
    "\n",
    "In this case, the linear regression clearly isn't capturing most of the output variance (as shown by the R2 value). We can therefore use the Sobol results with the SALib analysis functions for a more comprehensive analysis. We first use the get_SALib_problem to convert the uncertainties we have previously defined, to a dictionary which is compatible with SALib. This includes the names and bounds of the uncertainties."
   ]
  },
  {
   "cell_type": "markdown",
   "metadata": {},
   "source": [
    "* Perform an appropriate number of experiments with the Sobol sampling functionality included in the Workbench, then analyze the results with SALib for the same three indicators. How can we interpret the first-order and total indices? Does your chosen sample size give a stable estimation of the indices? You'll need to use the [get_SALib_problem](https://emaworkbench.readthedocs.io/en/latest/ema_documentation/em_framework/salib_samplers.html) function to convert your Workbench experiments to a problem definition that you can pass to the SALib analysis function.\n",
    "\n",
    "Note that the Sobol analysis will require N(2k+2) samples, where N is a baseline number of experiments required to cover the uncertainties (let's also assume 1000 in this case) and k is the number of uncertainties. We have k = 4 uncertainties, so we'll have 1000 * (8 + 2) = 10,000 experiments in total. We can choose the sampling by specifying the uncertainty_sampling argument; note that the Sobol sampler automatically adjusts the number of experiments based on the number of uncertainties and the specified value of N."
   ]
  },
  {
   "cell_type": "code",
   "execution_count": 8,
   "metadata": {
    "ExecuteTime": {
     "end_time": "2023-04-20T10:57:33.160400Z",
     "start_time": "2023-04-20T10:57:33.121465Z"
    },
    "collapsed": false,
    "jupyter": {
     "outputs_hidden": false
    }
   },
   "outputs": [
    {
     "name": "stdout",
     "output_type": "stream",
     "text": [
      "{'num_vars': 4, 'names': ['predation_rate', 'predator_efficiency', 'predator_loss_rate', 'prey_birth_rate'], 'bounds': [(0.0005, 0.003), (0.001, 0.004), (0.04, 0.08), (0.015, 0.035)]}\n"
     ]
    }
   ],
   "source": [
    "problem = get_SALib_problem(uncertainties)\n",
    "print(problem)"
   ]
  },
  {
   "cell_type": "markdown",
   "metadata": {},
   "source": [
    "We can then pass the problem and the outcome values (using the results with the Sobol sample, instead of the LHS sample) to the SALib analysis function. By default, the Sobol sampler calculates second-order interaction effects between each pair of variables."
   ]
  },
  {
   "cell_type": "code",
   "execution_count": 9,
   "metadata": {
    "ExecuteTime": {
     "end_time": "2023-04-20T10:58:14.811810Z",
     "start_time": "2023-04-20T10:57:33.131405Z"
    },
    "collapsed": false,
    "jupyter": {
     "outputs_hidden": false
    }
   },
   "outputs": [
    {
     "name": "stderr",
     "output_type": "stream",
     "text": [
      "/opt/anaconda3/lib/python3.12/site-packages/scipy/stats/_qmc.py:993: UserWarning: The balance properties of Sobol' points require n to be a power of 2.\n",
      "  sample = self._random(n, workers=workers)\n",
      "[MainProcess/INFO] performing 10000 scenarios * 1 policies * 1 model(s) = 10000 experiments\n",
      "[MainProcess/INFO] performing experiments sequentially 0/10000 [00:00<?, ?it/s]\n",
      "100%|███████████████████████████████████| 10000/10000 [00:22<00:00, 448.95it/s]\n",
      "[MainProcess/INFO] experiments finished\n"
     ]
    },
    {
     "name": "stdout",
     "output_type": "stream",
     "text": [
      "                           ST   ST_conf\n",
      "predation_rate       0.005241  0.000982\n",
      "predator_efficiency  0.820500  0.073619\n",
      "predator_loss_rate   0.219016  0.026147\n",
      "prey_birth_rate      0.010736  0.001377\n",
      "                           S1   S1_conf\n",
      "predation_rate       0.000822  0.005153\n",
      "predator_efficiency  0.778179  0.085198\n",
      "predator_loss_rate   0.176544  0.037220\n",
      "prey_birth_rate      0.004481  0.008785\n",
      "                                                 S2   S2_conf\n",
      "(predation_rate, predator_efficiency)      0.003502  0.011508\n",
      "(predation_rate, predator_loss_rate)       0.002305  0.008318\n",
      "(predation_rate, prey_birth_rate)          0.002001  0.007573\n",
      "(predator_efficiency, predator_loss_rate)  0.028539  0.140064\n",
      "(predator_efficiency, prey_birth_rate)    -0.001158  0.123774\n",
      "(predator_loss_rate, prey_birth_rate)      0.003978  0.056780\n"
     ]
    },
    {
     "name": "stderr",
     "output_type": "stream",
     "text": [
      "/opt/anaconda3/lib/python3.12/site-packages/SALib/util/__init__.py:274: FutureWarning: unique with argument that is not not a Series, Index, ExtensionArray, or np.ndarray is deprecated and will raise in a future version.\n",
      "  names = list(pd.unique(groups))\n"
     ]
    }
   ],
   "source": [
    "n_exp = 1000\n",
    "\n",
    "experiments_sobol, outcomes_sobol = perform_experiments(py_model, scenarios=n_exp,\n",
    "                                                        uncertainty_sampling=Samplers.SOBOL)\n",
    "\n",
    "prey_final_sobol = outcomes_sobol['prey'][:,0,-1]\n",
    "prey_mean_sobol = np.mean(outcomes_sobol['prey'][:,0,:],axis=1)\n",
    "prey_std_sobol = np.std(outcomes_sobol['prey'][:,0,:],axis=1)\n",
    "\n",
    "Si = sobol.analyze(problem, prey_mean_sobol, calc_second_order=True, print_to_console=True)"
   ]
  },
  {
   "cell_type": "markdown",
   "metadata": {},
   "source": [
    "The SALib analysis returns a dictionary with keys for the different relevant indicators (e.g. S1 and ST for first-order and total effects). The values are in the same order as the names of the problem dictionary, and indicate the fraction of total output variance corresponding to each of the indices (so that, for example, the predator_efficiency variable contributes approximately 40% of variance on its own, or over 80% when including interactions with other inputs). We can quickly visualize the first-order and total effects as well as their confidence intervals, by converting the results to a DataFrame:"
   ]
  },
  {
   "cell_type": "code",
   "execution_count": 10,
   "metadata": {
    "ExecuteTime": {
     "end_time": "2023-04-20T10:58:15.001836Z",
     "start_time": "2023-04-20T10:58:14.809811Z"
    },
    "collapsed": false,
    "jupyter": {
     "outputs_hidden": false
    }
   },
   "outputs": [
    {
     "data": {
      "image/png": "[encoded data removed]",
      "text/plain": [
       "<Figure size 800x600 with 1 Axes>"
      ]
     },
     "metadata": {},
     "output_type": "display_data"
    }
   ],
   "source": [
    "Si_filter = {k:Si[k] for k in ['ST','ST_conf','S1','S1_conf']}\n",
    "Si_df = pd.DataFrame(Si_filter, index=problem['names'])\n",
    "\n",
    "sns.set_style('white')\n",
    "fig, ax = plt.subplots(1)\n",
    "\n",
    "indices = Si_df[['S1','ST']]\n",
    "err = Si_df[['S1_conf','ST_conf']]\n",
    "\n",
    "indices.plot.bar(yerr=err.values.T,ax=ax)\n",
    "fig.set_size_inches(8,6)\n",
    "fig.subplots_adjust(bottom=0.3)\n",
    "plt.show()"
   ]
  },
  {
   "cell_type": "markdown",
   "metadata": {},
   "source": [
    "The figure shows the total order effects (ST) in orange and the first order effects (s1) in blue. The black line indicates the error bar around the estimated effect. In line with the regression results, we see that predator efficiency and predator loss rate are the two dominant parameters to which the model is sensitive. The relatively small differences between the first-order effects and total-order effects (i.e., blue and orange bars) suggest that most of the sensitivity is due to direct effects rather than due to interaction effects.\n",
    "\n",
    "We can also study the convergence of the Sobol indices as a function of the number of samples, by computing the indices over a partial sample:"
   ]
  },
  {
   "cell_type": "code",
   "execution_count": 11,
   "metadata": {
    "ExecuteTime": {
     "end_time": "2023-04-20T10:58:15.940640Z",
     "start_time": "2023-04-20T10:58:15.000835Z"
    },
    "collapsed": false,
    "jupyter": {
     "outputs_hidden": false
    }
   },
   "outputs": [
    {
     "name": "stderr",
     "output_type": "stream",
     "text": [
      "/opt/anaconda3/lib/python3.12/site-packages/SALib/util/__init__.py:274: FutureWarning: unique with argument that is not not a Series, Index, ExtensionArray, or np.ndarray is deprecated and will raise in a future version.\n",
      "  names = list(pd.unique(groups))\n"
     ]
    }
   ],
   "source": [
    "Y = prey_mean_sobol\n",
    "\n",
    "s_data = pd.DataFrame(index=problem['names'],\n",
    "                      columns=np.arange(20,n_exp,50)*(2*problem['num_vars']+2))\n",
    "for j in s_data.columns:\n",
    "    scores = sobol.analyze(problem, Y[0:j], calc_second_order=True, print_to_console=False)\n",
    "    s_data.loc[:,j] = scores['ST']"
   ]
  },
  {
   "cell_type": "code",
   "execution_count": 12,
   "metadata": {
    "ExecuteTime": {
     "end_time": "2023-04-20T10:58:16.144948Z",
     "start_time": "2023-04-20T10:58:15.941640Z"
    },
    "collapsed": false,
    "jupyter": {
     "outputs_hidden": false
    }
   },
   "outputs": [
    {
     "data": {
      "image/png": "[encoded data removed]",
      "text/plain": [
       "<Figure size 1200x800 with 1 Axes>"
      ]
     },
     "metadata": {},
     "output_type": "display_data"
    }
   ],
   "source": [
    "fig, ax = plt.subplots(1)\n",
    "\n",
    "s_data.T.plot(ax=ax)\n",
    "ax.set_xlabel('Samples')\n",
    "ax.set_ylabel('Total index (ST)')\n",
    "plt.show()"
   ]
  },
  {
   "cell_type": "markdown",
   "metadata": {
    "jupyter": {
     "outputs_hidden": false
    }
   },
   "source": [
    "The figure shows the estimate of the total order effect for all parameters as a function of the number of samples. The estimates converge relatively quickly because they become essentially stable after 4000 samples."
   ]
  },
  {
   "cell_type": "markdown",
   "metadata": {
    "ExecuteTime": {
     "end_time": "2023-04-20T10:42:59.564450Z",
     "start_time": "2023-04-20T10:42:59.375491Z"
    }
   },
   "source": [
    "#### 4. Extra trees\n",
    "Use the [Extra-Trees analysis](https://emaworkbench.readthedocs.io/en/latest/ema_documentation/analysis/feature_scoring.html) included in the Workbench to approximate the Sobol total indices, with a suitable sampling design. As a starting point, use an ensemble of 100 trees and a max_features parameter of 0.6, and set the analysis to regression mode. Are the estimated importances stable relative to the sample size and the analysis parameters? How do the results compare to the Sobol indices?"
   ]
  },
  {
   "cell_type": "code",
   "execution_count": 13,
   "metadata": {
    "ExecuteTime": {
     "end_time": "2023-04-20T10:58:16.147471Z",
     "start_time": "2023-04-20T10:58:16.142872Z"
    }
   },
   "outputs": [],
   "source": [
    "from ema_workbench.analysis import feature_scoring"
   ]
  },
  {
   "cell_type": "markdown",
   "metadata": {
    "jupyter": {
     "outputs_hidden": false
    }
   },
   "source": [
    "In this step, the Extra-Trees analysis is performed to approximate the Sobol total indices. The analysis aims to assess the importance of input parameters on the model output, considering their interactions. The Extra-Trees method is an efficient alternative to the more computationally expensive Sobol indices."
   ]
  },
  {
   "cell_type": "code",
   "execution_count": 14,
   "metadata": {
    "ExecuteTime": {
     "end_time": "2023-04-20T10:58:16.262441Z",
     "start_time": "2023-04-20T10:58:16.147471Z"
    }
   },
   "outputs": [],
   "source": [
    "prey_final_sobol = outcomes_sobol['prey'][:,0,-1]\n",
    "prey_mean_sobol = np.mean(outcomes_sobol['prey'][:,0,:],axis=1)\n",
    "prey_std_sobol = np.std(outcomes_sobol['prey'][:,0,:],axis=1)"
   ]
  },
  {
   "cell_type": "code",
   "execution_count": 15,
   "metadata": {
    "ExecuteTime": {
     "end_time": "2023-04-20T10:58:16.901934Z",
     "start_time": "2023-04-20T10:58:16.265441Z"
    }
   },
   "outputs": [
    {
     "data": {
      "text/html": [
       "<div>\n",
       "<style scoped>\n",
       "    .dataframe tbody tr th:only-of-type {\n",
       "        vertical-align: middle;\n",
       "    }\n",
       "\n",
       "    .dataframe tbody tr th {\n",
       "        vertical-align: top;\n",
       "    }\n",
       "\n",
       "    .dataframe thead th {\n",
       "        text-align: right;\n",
       "    }\n",
       "</style>\n",
       "<table border=\"1\" class=\"dataframe\">\n",
       "  <thead>\n",
       "    <tr style=\"text-align: right;\">\n",
       "      <th></th>\n",
       "      <th>1</th>\n",
       "    </tr>\n",
       "    <tr>\n",
       "      <th>0</th>\n",
       "      <th></th>\n",
       "    </tr>\n",
       "  </thead>\n",
       "  <tbody>\n",
       "    <tr>\n",
       "      <th>predator_efficiency</th>\n",
       "      <td>0.522346</td>\n",
       "    </tr>\n",
       "    <tr>\n",
       "      <th>predator_loss_rate</th>\n",
       "      <td>0.220229</td>\n",
       "    </tr>\n",
       "    <tr>\n",
       "      <th>prey_birth_rate</th>\n",
       "      <td>0.207825</td>\n",
       "    </tr>\n",
       "    <tr>\n",
       "      <th>predation_rate</th>\n",
       "      <td>0.049599</td>\n",
       "    </tr>\n",
       "  </tbody>\n",
       "</table>\n",
       "</div>"
      ],
      "text/plain": [
       "                            1\n",
       "0                            \n",
       "predator_efficiency  0.522346\n",
       "predator_loss_rate   0.220229\n",
       "prey_birth_rate      0.207825\n",
       "predation_rate       0.049599"
      ]
     },
     "execution_count": 15,
     "metadata": {},
     "output_type": "execute_result"
    }
   ],
   "source": [
    "scores = feature_scoring.get_ex_feature_scores(experiments_sobol, prey_final_sobol,\n",
    "                                      max_features=0.6, mode=RuleInductionType.REGRESSION)[0]\n",
    "scores"
   ]
  },
  {
   "cell_type": "code",
   "execution_count": 16,
   "metadata": {
    "ExecuteTime": {
     "end_time": "2023-04-20T10:59:03.303729Z",
     "start_time": "2023-04-20T10:58:16.900934Z"
    }
   },
   "outputs": [],
   "source": [
    "combined_scores = []\n",
    "for j in range(100, experiments_sobol.shape[0], 100):\n",
    "    scores = feature_scoring.get_ex_feature_scores(experiments_sobol.iloc[0:j, :],\n",
    "                                                   prey_mean_sobol[0:j],\n",
    "                                                   max_features=0.6,\n",
    "                                                   mode=RuleInductionType.REGRESSION)[0]\n",
    "    scores.columns = [j]\n",
    "    combined_scores.append(scores)"
   ]
  },
  {
   "cell_type": "code",
   "execution_count": 17,
   "metadata": {
    "ExecuteTime": {
     "end_time": "2023-04-20T10:59:03.317962Z",
     "start_time": "2023-04-20T10:59:03.303729Z"
    }
   },
   "outputs": [],
   "source": [
    "combined_scores = pd.concat(combined_scores, axis=1, sort=True)"
   ]
  },
  {
   "cell_type": "code",
   "execution_count": 18,
   "metadata": {
    "ExecuteTime": {
     "end_time": "2023-04-20T10:59:03.553378Z",
     "start_time": "2023-04-20T10:59:03.320961Z"
    }
   },
   "outputs": [
    {
     "data": {
      "image/png": "[encoded data removed]",
      "text/plain": [
       "<Figure size 1200x800 with 1 Axes>"
      ]
     },
     "metadata": {},
     "output_type": "display_data"
    }
   ],
   "source": [
    "fig, ax = plt.subplots(1)\n",
    "\n",
    "combined_scores.T.plot(ax=ax)\n",
    "ax.legend(bbox_to_anchor=(1,1))\n",
    "ax.set_xlabel('Samples')\n",
    "ax.set_ylabel('feature scores')\n",
    "plt.show()"
   ]
  },
  {
   "cell_type": "markdown",
   "metadata": {
    "jupyter": {
     "outputs_hidden": false
    }
   },
   "source": [
    "This figure is similar to the convergence analysis for Sobol and here to we see convergence after roughly 4000 samples"
   ]
  },
  {
   "cell_type": "markdown",
   "metadata": {
    "jupyter": {
     "outputs_hidden": false
    }
   },
   "source": [
    "#### Concluding remarks\n",
    "This assignment has shown how to perform global sensitivity analysis using linear regression, Sobol, and extra-trees feature scoring. Of these three, Sobol and extra trees are the preferred methods because of their ability to deal with nonlinear effects. Sobol is the gold standard, but requires a very large number of computational experiments. Extra trees is often a convenient alternative that requires fever runs for comparable results."
   ]
  },
  {
   "cell_type": "code",
   "execution_count": null,
   "metadata": {},
   "outputs": [],
   "source": []
  }
 ],
 "metadata": {
  "kernelspec": {
   "display_name": "Python 3",
   "language": "python",
   "name": "python3"
  },
  "language_info": {
   "codemirror_mode": {
    "name": "ipython",
    "version": 3
   },
   "file_extension": ".py",
   "mimetype": "text/x-python",
   "name": "python",
   "nbconvert_exporter": "python",
   "pygments_lexer": "ipython3",
   "version": "3.8.1"
  }
 },
 "nbformat": 4,
 "nbformat_minor": 4
}
